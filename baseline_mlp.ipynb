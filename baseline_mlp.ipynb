{
  "cells": [
    {
      "cell_type": "code",
      "execution_count": 1,
      "metadata": {
        "id": "aEtL8r7krMDT"
      },
      "outputs": [],
      "source": [
        "import pandas as pd\n",
        "import seaborn as sns\n",
        "import numpy as np\n",
        "import sklearn\n",
        "from sklearn.model_selection import train_test_split\n",
        "import torch\n",
        "import math\n",
        "import pickle\n"
      ]
    },
    {
      "cell_type": "code",
      "execution_count": 32,
      "metadata": {
        "id": "vGIEY1hwrbFa",
        "colab": {
          "base_uri": "https://localhost:8080/"
        },
        "outputId": "acc78733-33a6-4e60-dd2f-7b13d705873d"
      },
      "outputs": [
        {
          "output_type": "stream",
          "name": "stdout",
          "text": [
            "tensor([ 209, 5287,    5,    2]) torch.Size([5911])\n"
          ]
        }
      ],
      "source": [
        "#split the dataset\n",
        "\n",
        "dataset = pickle.load(open('datasets.pickle','rb'))\n",
        "\n",
        "batchsize = 256\n",
        "#train_x,test_x,train_y,test_y = train_test_split(torch.tensor(X),torch.tensor(Y),test_size=0.2,stratify=torch.tensor(Y))\n",
        "#train_x,val_x,train_y,val_y = train_test_split(train_x,train_y,test_size=0.2,stratify=train_y)\n",
        "#trainset = torch.utils.data.TensorDataset(train_x,train_y)\n",
        "trainset = dataset[0]\n",
        "trainloader = torch.utils.data.DataLoader(trainset,batch_size=batchsize,shuffle=True)\n",
        "\n",
        "#valset = torch.utils.data.TensorDataset(val_x,val_y)\n",
        "valset = dataset[1]\n",
        "valloader = torch.utils.data.DataLoader(valset,batch_size=batchsize,shuffle=True)\n",
        "\n",
        "#testset = torch.utils.data.TensorDataset(test_x,test_y)\n",
        "\n",
        "testset = dataset[2]\n",
        "testloader = torch.utils.data.DataLoader(testset,batch_size=batchsize,shuffle=True)\n",
        "\n",
        "\n",
        "\n",
        "print(trainset[0][0][:4],trainset[0][1].shape)\n",
        "\n",
        "input_dim = 4\n",
        "output_dim = trainset[0][1].shape[0]"
      ]
    },
    {
      "cell_type": "code",
      "execution_count": 102,
      "metadata": {
        "id": "4vRJD8f0reg7"
      },
      "outputs": [],
      "source": [
        "\n",
        "#define the model\n",
        "\n",
        "class NCF(torch.nn.Module):\n",
        "\n",
        "\tdef __init__(self, in_channels, hidden_channels, out_channels):\n",
        "\t\tsuper().__init__()\n",
        "\t\tself.emb1 = torch.nn.Embedding(100000,32)\n",
        "\t\tself.emb2 = torch.nn.Embedding(100000,32)\n",
        "\t\tself.timeday = torch.nn.Linear(2,32)\n",
        "\t\tself.class1 = torch.nn.Linear(96, hidden_channels)\n",
        "\t\tself.class2 = torch.nn.Linear(hidden_channels, 32)\n",
        "\t\tself.class3 = torch.nn.Linear(32,16)\n",
        "\t\tself.class4 = torch.nn.Linear(16, out_channels)\n",
        "\n",
        "\n",
        "\n",
        "\tdef forward(self,data):\n",
        "\n",
        "\n",
        "\t\tuser = self.emb1(data[:,0])\n",
        "\t\tloc = self.emb2(data[:, 1])\n",
        "\t\t#print(user.shape,loc.shape)\n",
        "\t\thour = data[:,2]\n",
        "\t\tday = data[:,3]\n",
        "\t\ttimeday = torch.stack([hour,day],dim=-1)\n",
        "\t\t#print(timeday.shape)\n",
        "\t\ttimeday = self.timeday(timeday.float())\n",
        "\t\tx = torch.cat((user,loc,timeday),dim=1)\n",
        "\t\t#print(x.shape)\n",
        "\t\tx = self.class1(x).relu()\n",
        "\t\tx = self.class2(x).relu()\n",
        "\t\tx = self.class3(x).relu()\n",
        "\t\tx = self.class4(x)\n",
        "\n",
        "\t\treturn x"
      ]
    },
    {
      "cell_type": "code",
      "execution_count": 103,
      "metadata": {
        "colab": {
          "base_uri": "https://localhost:8080/"
        },
        "id": "wFgelyACri1U",
        "outputId": "37f189cd-dbdb-41f9-e082-7d76ae4d4cb7"
      },
      "outputs": [
        {
          "output_type": "stream",
          "name": "stdout",
          "text": [
            "Using device: cuda\n"
          ]
        }
      ],
      "source": [
        "device = torch.device(\"cuda\" if torch.cuda.is_available() else \"cpu\")\n",
        "print(f\"Using device: {device}\")\n",
        "\n",
        "lr = 0.001\n",
        "wd = 5e-4\n",
        "\n",
        "model = NCF(4,64,output_dim).to(device)\n",
        "optimizer = torch.optim.Adam(params=model.parameters(), lr=lr, weight_decay=wd)\n",
        "criterion = torch.nn.CrossEntropyLoss()\n"
      ]
    },
    {
      "cell_type": "code",
      "execution_count": 113,
      "metadata": {
        "colab": {
          "base_uri": "https://localhost:8080/"
        },
        "id": "XPnFMoYJrnAw",
        "outputId": "54c75b39-51be-4343-8417-9318b7b39790"
      },
      "outputs": [
        {
          "output_type": "stream",
          "name": "stderr",
          "text": [
            "  6%|▌         | 18/300 [00:00<00:03, 92.45batches/s, Loss=8.24]"
          ]
        },
        {
          "output_type": "stream",
          "name": "stdout",
          "text": [
            "EPOCH = 0\n",
            "EPOCH = 1\n",
            "EPOCH = 2\n",
            "EPOCH = 3\n",
            "EPOCH = 4\n",
            "EPOCH = 5\n",
            "EPOCH = 6\n"
          ]
        },
        {
          "output_type": "stream",
          "name": "stderr",
          "text": [
            " 13%|█▎        | 39/300 [00:00<00:02, 97.90batches/s, Loss=7.46]"
          ]
        },
        {
          "output_type": "stream",
          "name": "stdout",
          "text": [
            "EPOCH = 7\n",
            "EPOCH = 8\n",
            "EPOCH = 9\n",
            "EPOCH = 10\n",
            "EPOCH = 11\n",
            "EPOCH = 12\n",
            "EPOCH = 13\n"
          ]
        },
        {
          "output_type": "stream",
          "name": "stderr",
          "text": [
            " 20%|██        | 60/300 [00:00<00:02, 95.63batches/s, Loss=6.25]"
          ]
        },
        {
          "output_type": "stream",
          "name": "stdout",
          "text": [
            "EPOCH = 14\n",
            "EPOCH = 15\n",
            "EPOCH = 16\n",
            "EPOCH = 17\n",
            "EPOCH = 18\n",
            "EPOCH = 19\n",
            "EPOCH = 20\n"
          ]
        },
        {
          "output_type": "stream",
          "name": "stderr",
          "text": [
            " 28%|██▊       | 83/300 [00:00<00:02, 97.56batches/s, Loss=4.86]"
          ]
        },
        {
          "output_type": "stream",
          "name": "stdout",
          "text": [
            "EPOCH = 21\n",
            "EPOCH = 22\n",
            "EPOCH = 23\n",
            "EPOCH = 24\n",
            "EPOCH = 25\n",
            "EPOCH = 26\n",
            "EPOCH = 27\n"
          ]
        },
        {
          "output_type": "stream",
          "name": "stderr",
          "text": [
            " 33%|███▎      | 100/300 [00:01<00:02, 94.97batches/s, Loss=3.78]"
          ]
        },
        {
          "output_type": "stream",
          "name": "stdout",
          "text": [
            "EPOCH = 28\n",
            "EPOCH = 29\n",
            "EPOCH = 30\n",
            "EPOCH = 31\n",
            "EPOCH = 32\n",
            "EPOCH = 33\n"
          ]
        },
        {
          "output_type": "stream",
          "name": "stderr",
          "text": [
            " 39%|███▉      | 118/300 [00:01<00:02, 90.44batches/s, Loss=3.1] "
          ]
        },
        {
          "output_type": "stream",
          "name": "stdout",
          "text": [
            "EPOCH = 34\n",
            "EPOCH = 35\n",
            "EPOCH = 36\n",
            "EPOCH = 37\n",
            "EPOCH = 38\n",
            "EPOCH = 39\n"
          ]
        },
        {
          "output_type": "stream",
          "name": "stderr",
          "text": [
            " 45%|████▍     | 134/300 [00:01<00:01, 83.56batches/s, Loss=2.13]"
          ]
        },
        {
          "output_type": "stream",
          "name": "stdout",
          "text": [
            "EPOCH = 40\n",
            "EPOCH = 41\n",
            "EPOCH = 42\n",
            "EPOCH = 43\n",
            "EPOCH = 44\n",
            "EPOCH = 45\n"
          ]
        },
        {
          "output_type": "stream",
          "name": "stderr",
          "text": [
            " 51%|█████     | 152/300 [00:01<00:01, 80.12batches/s, Loss=1.2] "
          ]
        },
        {
          "output_type": "stream",
          "name": "stdout",
          "text": [
            "EPOCH = 46\n",
            "EPOCH = 47\n",
            "EPOCH = 48\n",
            "EPOCH = 49\n",
            "EPOCH = 50\n",
            "EPOCH = 51\n"
          ]
        },
        {
          "output_type": "stream",
          "name": "stderr",
          "text": [
            " 57%|█████▋    | 172/300 [00:01<00:01, 84.04batches/s, Loss=0.825]"
          ]
        },
        {
          "output_type": "stream",
          "name": "stdout",
          "text": [
            "EPOCH = 52\n",
            "EPOCH = 53\n",
            "EPOCH = 54\n",
            "EPOCH = 55\n",
            "EPOCH = 56\n",
            "EPOCH = 57\n"
          ]
        },
        {
          "output_type": "stream",
          "name": "stderr",
          "text": [
            " 64%|██████▎   | 191/300 [00:02<00:01, 86.85batches/s, Loss=0.51] "
          ]
        },
        {
          "output_type": "stream",
          "name": "stdout",
          "text": [
            "EPOCH = 58\n",
            "EPOCH = 59\n",
            "EPOCH = 60\n",
            "EPOCH = 61\n",
            "EPOCH = 62\n",
            "EPOCH = 63\n",
            "EPOCH = 64\n"
          ]
        },
        {
          "output_type": "stream",
          "name": "stderr",
          "text": [
            " 70%|███████   | 210/300 [00:02<00:01, 84.45batches/s, Loss=0.273]"
          ]
        },
        {
          "output_type": "stream",
          "name": "stdout",
          "text": [
            "EPOCH = 65\n",
            "EPOCH = 66\n",
            "EPOCH = 67\n",
            "EPOCH = 68\n",
            "EPOCH = 69\n",
            "EPOCH = 70\n"
          ]
        },
        {
          "output_type": "stream",
          "name": "stderr",
          "text": [
            " 76%|███████▌  | 227/300 [00:02<00:00, 83.15batches/s, Loss=0.235]"
          ]
        },
        {
          "output_type": "stream",
          "name": "stdout",
          "text": [
            "EPOCH = 71\n",
            "EPOCH = 72\n",
            "EPOCH = 73\n",
            "EPOCH = 74\n",
            "EPOCH = 75\n",
            "EPOCH = 76\n"
          ]
        },
        {
          "output_type": "stream",
          "name": "stderr",
          "text": [
            " 82%|████████▏ | 246/300 [00:02<00:00, 81.71batches/s, Loss=0.137]"
          ]
        },
        {
          "output_type": "stream",
          "name": "stdout",
          "text": [
            "EPOCH = 77\n",
            "EPOCH = 78\n",
            "EPOCH = 79\n",
            "EPOCH = 80\n",
            "EPOCH = 81\n",
            "EPOCH = 82\n"
          ]
        },
        {
          "output_type": "stream",
          "name": "stderr",
          "text": [
            " 87%|████████▋ | 261/300 [00:03<00:00, 74.45batches/s, Loss=0.111]"
          ]
        },
        {
          "output_type": "stream",
          "name": "stdout",
          "text": [
            "EPOCH = 83\n",
            "EPOCH = 84\n",
            "EPOCH = 85\n",
            "EPOCH = 86\n",
            "EPOCH = 87\n"
          ]
        },
        {
          "output_type": "stream",
          "name": "stderr",
          "text": [
            " 92%|█████████▏| 277/300 [00:03<00:00, 74.28batches/s, Loss=0.0929]"
          ]
        },
        {
          "output_type": "stream",
          "name": "stdout",
          "text": [
            "EPOCH = 88\n",
            "EPOCH = 89\n",
            "EPOCH = 90\n",
            "EPOCH = 91\n",
            "EPOCH = 92\n"
          ]
        },
        {
          "output_type": "stream",
          "name": "stderr",
          "text": [
            " 97%|█████████▋| 292/300 [00:03<00:00, 73.82batches/s, Loss=0.0819]"
          ]
        },
        {
          "output_type": "stream",
          "name": "stdout",
          "text": [
            "EPOCH = 93\n",
            "EPOCH = 94\n",
            "EPOCH = 95\n",
            "EPOCH = 96\n",
            "EPOCH = 97\n"
          ]
        },
        {
          "output_type": "stream",
          "name": "stderr",
          "text": [
            "100%|██████████| 300/300 [00:03<00:00, 83.85batches/s, Loss=0.0736]"
          ]
        },
        {
          "output_type": "stream",
          "name": "stdout",
          "text": [
            "EPOCH = 98\n",
            "EPOCH = 99\n"
          ]
        },
        {
          "output_type": "stream",
          "name": "stderr",
          "text": [
            "\n"
          ]
        }
      ],
      "source": [
        "import tqdm\n",
        "numepoch = 100\n",
        "\n",
        "#training phase\n",
        "\n",
        "with tqdm.tqdm(total=numepoch*len(trainloader), unit='batches') as pbar:\n",
        "  losses = []\n",
        "  for epoch in range(numepoch):\n",
        "\n",
        "    model.train()\n",
        "    optimizer.zero_grad()\n",
        "\n",
        "    print(f\"EPOCH = {epoch}\")\n",
        "\n",
        "    for batch in trainloader:\n",
        "\n",
        "      input = batch[0].to(device)\n",
        "      label = batch[1].to(device)\n",
        "\n",
        "      #print(input.shape)\n",
        "      #print(label.shape)\n",
        "      #one_hot_encode_labels(label)\n",
        "      #print(input.shape,input[:,:4].shape)\n",
        "\n",
        "      out = model(input[:,:4])\n",
        "\n",
        "      #print(out.shape)\n",
        "      #out = model(input)\n",
        "      #out=out.squeeze(dim=1)\n",
        "      #print(out)\n",
        "\n",
        "\n",
        "      loss = criterion(out,label)\n",
        "      losses.append(loss)\n",
        "      loss.backward()\n",
        "      optimizer.step()\n",
        "\n",
        "\n",
        "\n",
        "      pbar.set_postfix({'Loss': loss.item()})\n",
        "      pbar.update()\n",
        "\n",
        "\n",
        "      #print(df)\n"
      ]
    },
    {
      "cell_type": "code",
      "execution_count": null,
      "metadata": {
        "id": "r2dDYatvawZ0"
      },
      "outputs": [],
      "source": [
        "import matplotlib.pyplot as plt\n",
        "#print CE loss evolution\n",
        "ind = [i for i in range(len(losses))]\n",
        "losses = [loss.cpu().detach().numpy() for loss in losses]\n",
        "plt.plot(ind,losses)\n",
        "plt.show()"
      ]
    },
    {
      "cell_type": "code",
      "execution_count": 115,
      "metadata": {
        "colab": {
          "base_uri": "https://localhost:8080/"
        },
        "id": "15n8ZQ-HPFid",
        "outputId": "e5caca12-78e6-4e20-d3d8-89461bed0ba9"
      },
      "outputs": [
        {
          "output_type": "stream",
          "name": "stderr",
          "text": [
            "100%|██████████| 1/1 [00:00<00:00, 123.77batches/s, Loss=21.3]"
          ]
        },
        {
          "output_type": "stream",
          "name": "stdout",
          "text": [
            "tensor(21.3053, device='cuda:0', grad_fn=<DivBackward0>)\n"
          ]
        },
        {
          "output_type": "stream",
          "name": "stderr",
          "text": [
            "\n"
          ]
        }
      ],
      "source": [
        "import tqdm\n",
        "\n",
        "criterion = torch.nn.CrossEntropyLoss()\n",
        "\n",
        "#testing phase\n",
        "\n",
        "with tqdm.tqdm(total=len(testloader), unit='batches') as pbar:\n",
        "  losses = []\n",
        "\n",
        "  model.eval()\n",
        "\n",
        "  for batch in testloader:\n",
        "\n",
        "    input = batch[0].to(device)\n",
        "    label = batch[1].to(device)\n",
        "\n",
        "    out = model(input[:,:4])\n",
        "\n",
        "    out = out.squeeze(dim=1).to(device)\n",
        "\n",
        "    loss = criterion(out,label)\n",
        "\n",
        "    losses.append(loss)\n",
        "\n",
        "    pbar.set_postfix({'Loss': loss.item()})\n",
        "    pbar.update()\n",
        "\n",
        "print(sum(losses)/len(losses))\n"
      ]
    },
    {
      "cell_type": "code",
      "execution_count": null,
      "metadata": {
        "id": "cyBocvpZa63i"
      },
      "outputs": [],
      "source": [
        "import matplotlib.pyplot as plt\n",
        "\n",
        "#print loss evolution\n",
        "\n",
        "ind = [i for i in range(len(losses))]\n",
        "losses = [loss.cpu().detach().numpy() for loss in losses]\n",
        "plt.plot(ind,losses)\n",
        "plt.show()"
      ]
    }
  ],
  "metadata": {
    "accelerator": "GPU",
    "colab": {
      "gpuType": "T4",
      "provenance": []
    },
    "kernelspec": {
      "display_name": "Python 3 (ipykernel)",
      "language": "python",
      "name": "python3"
    },
    "language_info": {
      "codemirror_mode": {
        "name": "ipython",
        "version": 3
      },
      "file_extension": ".py",
      "mimetype": "text/x-python",
      "name": "python",
      "nbconvert_exporter": "python",
      "pygments_lexer": "ipython3",
      "version": "3.10.12"
    }
  },
  "nbformat": 4,
  "nbformat_minor": 0
}