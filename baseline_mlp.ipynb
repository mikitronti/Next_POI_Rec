{
  "cells": [
    {
      "cell_type": "code",
      "execution_count": 1,
      "metadata": {
        "id": "aEtL8r7krMDT"
      },
      "outputs": [],
      "source": [
        "import pandas as pd\n",
        "import seaborn as sns\n",
        "import numpy as np\n",
        "import sklearn\n",
        "from sklearn.model_selection import train_test_split\n",
        "import torch\n",
        "import math\n",
        "import pickle\n"
      ]
    },
    {
      "cell_type": "code",
      "execution_count": 32,
      "metadata": {
        "id": "vGIEY1hwrbFa",
        "colab": {
          "base_uri": "https://localhost:8080/"
        },
        "outputId": "acc78733-33a6-4e60-dd2f-7b13d705873d"
      },
      "outputs": [
        {
          "output_type": "stream",
          "name": "stdout",
          "text": [
            "tensor([ 209, 5287,    5,    2]) torch.Size([5911])\n"
          ]
        }
      ],
      "source": [
        "#split the dataset\n",
        "\n",
        "dataset = pickle.load(open('datasets.pickle','rb'))\n",
        "\n",
        "batchsize = 256\n",
        "#train_x,test_x,train_y,test_y = train_test_split(torch.tensor(X),torch.tensor(Y),test_size=0.2,stratify=torch.tensor(Y))\n",
        "#train_x,val_x,train_y,val_y = train_test_split(train_x,train_y,test_size=0.2,stratify=train_y)\n",
        "#trainset = torch.utils.data.TensorDataset(train_x,train_y)\n",
        "trainset = dataset[0]\n",
        "trainloader = torch.utils.data.DataLoader(trainset,batch_size=batchsize,shuffle=True)\n",
        "\n",
        "#valset = torch.utils.data.TensorDataset(val_x,val_y)\n",
        "valset = dataset[1]\n",
        "valloader = torch.utils.data.DataLoader(valset,batch_size=batchsize,shuffle=True)\n",
        "\n",
        "#testset = torch.utils.data.TensorDataset(test_x,test_y)\n",
        "\n",
        "testset = dataset[2]\n",
        "testloader = torch.utils.data.DataLoader(testset,batch_size=batchsize,shuffle=True)\n",
        "\n",
        "\n",
        "\n",
        "print(trainset[0][0][:4],trainset[0][1].shape)\n",
        "\n",
        "input_dim = 4\n",
        "output_dim = trainset[0][1].shape[0]"
      ]
    },
    {
      "cell_type": "code",
      "execution_count": 117,
      "metadata": {
        "id": "4vRJD8f0reg7"
      },
      "outputs": [],
      "source": [
        "\n",
        "#define the model\n",
        "\n",
        "class MLP(torch.nn.Module):\n",
        "\n",
        "\tdef __init__(self, in_channels, hidden_channels, out_channels):\n",
        "\t\tsuper().__init__()\n",
        "\t\tself.emb1 = torch.nn.Embedding(100000,32)\n",
        "\t\tself.emb2 = torch.nn.Embedding(100000,32)\n",
        "\t\tself.timeday = torch.nn.Linear(2,32)\n",
        "\t\tself.class1 = torch.nn.Linear(96, hidden_channels)\n",
        "\t\tself.class2 = torch.nn.Linear(hidden_channels, 32)\n",
        "\t\tself.class3 = torch.nn.Linear(32,16)\n",
        "\t\tself.class4 = torch.nn.Linear(16, out_channels)\n",
        "\n",
        "\n",
        "\n",
        "\tdef forward(self,data):\n",
        "\n",
        "\n",
        "\t\tuser = self.emb1(data[:,0])\n",
        "\t\tloc = self.emb2(data[:, 1])\n",
        "\t\t#print(user.shape,loc.shape)\n",
        "\t\thour = data[:,2]\n",
        "\t\tday = data[:,3]\n",
        "\t\ttimeday = torch.stack([hour,day],dim=-1)\n",
        "\t\t#print(timeday.shape)\n",
        "\t\ttimeday = self.timeday(timeday.float())\n",
        "\t\tx = torch.cat((user,loc,timeday),dim=1)\n",
        "\t\t#print(x.shape)\n",
        "\t\tx = self.class1(x).relu()\n",
        "\t\tx = self.class2(x).relu()\n",
        "\t\tx = self.class3(x).relu()\n",
        "\t\tx = self.class4(x)\n",
        "\n",
        "\t\treturn x"
      ]
    },
    {
      "cell_type": "code",
      "execution_count": 118,
      "metadata": {
        "colab": {
          "base_uri": "https://localhost:8080/"
        },
        "id": "wFgelyACri1U",
        "outputId": "bbc416f0-9b19-4d9a-c5b6-2f7ba3560ad8"
      },
      "outputs": [
        {
          "output_type": "stream",
          "name": "stdout",
          "text": [
            "Using device: cuda\n",
            "MLP(\n",
            "  (emb1): Embedding(100000, 32)\n",
            "  (emb2): Embedding(100000, 32)\n",
            "  (timeday): Linear(in_features=2, out_features=32, bias=True)\n",
            "  (class1): Linear(in_features=96, out_features=64, bias=True)\n",
            "  (class2): Linear(in_features=64, out_features=32, bias=True)\n",
            "  (class3): Linear(in_features=32, out_features=16, bias=True)\n",
            "  (class4): Linear(in_features=16, out_features=5911, bias=True)\n",
            ")\n"
          ]
        }
      ],
      "source": [
        "device = torch.device(\"cuda\" if torch.cuda.is_available() else \"cpu\")\n",
        "print(f\"Using device: {device}\")\n",
        "\n",
        "lr = 0.001\n",
        "wd = 5e-4\n",
        "\n",
        "model = MLP(4,64,output_dim).to(device)\n",
        "optimizer = torch.optim.Adam(params=model.parameters(), lr=lr, weight_decay=wd)\n",
        "criterion = torch.nn.CrossEntropyLoss()\n",
        "\n",
        "print(model)\n"
      ]
    },
    {
      "cell_type": "code",
      "execution_count": 120,
      "metadata": {
        "colab": {
          "base_uri": "https://localhost:8080/"
        },
        "id": "XPnFMoYJrnAw",
        "outputId": "0dfb6171-442a-4d9e-a9ad-b3e85ce10413"
      },
      "outputs": [
        {
          "output_type": "stream",
          "name": "stderr",
          "text": [
            "  0%|          | 6/1500 [00:00<00:51, 29.07batches/s, Loss=2]   "
          ]
        },
        {
          "output_type": "stream",
          "name": "stdout",
          "text": [
            "EPOCH = 0\n",
            "EPOCH = 1\n",
            "EPOCH = 2\n"
          ]
        },
        {
          "output_type": "stream",
          "name": "stderr",
          "text": [
            "  1%|▏         | 22/1500 [00:00<00:29, 50.21batches/s, Loss=1.64]"
          ]
        },
        {
          "output_type": "stream",
          "name": "stdout",
          "text": [
            "EPOCH = 3\n",
            "EPOCH = 4\n",
            "EPOCH = 5\n",
            "EPOCH = 6\n",
            "EPOCH = 7\n"
          ]
        },
        {
          "output_type": "stream",
          "name": "stderr",
          "text": [
            "  3%|▎         | 42/1500 [00:00<00:18, 79.21batches/s, Loss=1.21]"
          ]
        },
        {
          "output_type": "stream",
          "name": "stdout",
          "text": [
            "EPOCH = 8\n",
            "EPOCH = 9\n",
            "EPOCH = 10\n",
            "EPOCH = 11\n",
            "EPOCH = 12\n",
            "EPOCH = 13\n",
            "EPOCH = 14\n"
          ]
        },
        {
          "output_type": "stream",
          "name": "stderr",
          "text": [
            "  4%|▍         | 62/1500 [00:00<00:16, 87.99batches/s, Loss=1.2]  "
          ]
        },
        {
          "output_type": "stream",
          "name": "stdout",
          "text": [
            "EPOCH = 15\n",
            "EPOCH = 16\n",
            "EPOCH = 17\n",
            "EPOCH = 18\n",
            "EPOCH = 19\n",
            "EPOCH = 20\n",
            "EPOCH = 21\n"
          ]
        },
        {
          "output_type": "stream",
          "name": "stderr",
          "text": [
            "  6%|▌         | 84/1500 [00:01<00:15, 91.18batches/s, Loss=0.8]"
          ]
        },
        {
          "output_type": "stream",
          "name": "stdout",
          "text": [
            "EPOCH = 22\n",
            "EPOCH = 23\n",
            "EPOCH = 24\n",
            "EPOCH = 25\n",
            "EPOCH = 26\n",
            "EPOCH = 27\n",
            "EPOCH = 28\n"
          ]
        },
        {
          "output_type": "stream",
          "name": "stderr",
          "text": [
            "  7%|▋         | 104/1500 [00:01<00:14, 93.91batches/s, Loss=0.438]"
          ]
        },
        {
          "output_type": "stream",
          "name": "stdout",
          "text": [
            "EPOCH = 29\n",
            "EPOCH = 30\n",
            "EPOCH = 31\n",
            "EPOCH = 32\n",
            "EPOCH = 33\n",
            "EPOCH = 34\n",
            "EPOCH = 35\n"
          ]
        },
        {
          "output_type": "stream",
          "name": "stderr",
          "text": [
            "  8%|▊         | 119/1500 [00:01<00:17, 78.25batches/s, Loss=0.349]"
          ]
        },
        {
          "output_type": "stream",
          "name": "stdout",
          "text": [
            "EPOCH = 36\n",
            "EPOCH = 37\n",
            "EPOCH = 38\n",
            "EPOCH = 39\n",
            "EPOCH = 40\n"
          ]
        },
        {
          "output_type": "stream",
          "name": "stderr",
          "text": [
            "  9%|▉         | 140/1500 [00:01<00:16, 81.14batches/s, Loss=0.374]"
          ]
        },
        {
          "output_type": "stream",
          "name": "stdout",
          "text": [
            "EPOCH = 41\n",
            "EPOCH = 42\n",
            "EPOCH = 43\n",
            "EPOCH = 44\n",
            "EPOCH = 45\n",
            "EPOCH = 46\n",
            "EPOCH = 47"
          ]
        },
        {
          "output_type": "stream",
          "name": "stderr",
          "text": [
            " 10%|█         | 156/1500 [00:01<00:16, 81.52batches/s, Loss=0.257]"
          ]
        },
        {
          "output_type": "stream",
          "name": "stdout",
          "text": [
            "\n",
            "EPOCH = 48\n",
            "EPOCH = 49\n",
            "EPOCH = 50\n",
            "EPOCH = 51\n",
            "EPOCH = 52\n"
          ]
        },
        {
          "output_type": "stream",
          "name": "stderr",
          "text": [
            " 12%|█▏        | 176/1500 [00:02<00:15, 85.06batches/s, Loss=0.227]"
          ]
        },
        {
          "output_type": "stream",
          "name": "stdout",
          "text": [
            "EPOCH = 53\n",
            "EPOCH = 54\n",
            "EPOCH = 55\n",
            "EPOCH = 56\n",
            "EPOCH = 57\n",
            "EPOCH = 58\n",
            "EPOCH = 59\n"
          ]
        },
        {
          "output_type": "stream",
          "name": "stderr",
          "text": [
            " 13%|█▎        | 198/1500 [00:02<00:14, 89.90batches/s, Loss=0.148]"
          ]
        },
        {
          "output_type": "stream",
          "name": "stdout",
          "text": [
            "EPOCH = 60\n",
            "EPOCH = 61\n",
            "EPOCH = 62\n",
            "EPOCH = 63\n",
            "EPOCH = 64\n",
            "EPOCH = 65\n",
            "EPOCH = 66\n"
          ]
        },
        {
          "output_type": "stream",
          "name": "stderr",
          "text": [
            " 15%|█▍        | 218/1500 [00:02<00:13, 91.89batches/s, Loss=0.112]"
          ]
        },
        {
          "output_type": "stream",
          "name": "stdout",
          "text": [
            "EPOCH = 67\n",
            "EPOCH = 68\n",
            "EPOCH = 69\n",
            "EPOCH = 70\n",
            "EPOCH = 71\n",
            "EPOCH = 72\n",
            "EPOCH = 73"
          ]
        },
        {
          "output_type": "stream",
          "name": "stderr",
          "text": [
            " 16%|█▌        | 236/1500 [00:02<00:14, 88.77batches/s, Loss=0.102]"
          ]
        },
        {
          "output_type": "stream",
          "name": "stdout",
          "text": [
            "\n",
            "EPOCH = 74\n",
            "EPOCH = 75\n",
            "EPOCH = 76\n",
            "EPOCH = 77\n",
            "EPOCH = 78\n",
            "EPOCH = 79\n"
          ]
        },
        {
          "output_type": "stream",
          "name": "stderr",
          "text": [
            " 17%|█▋        | 257/1500 [00:03<00:13, 90.93batches/s, Loss=0.103] "
          ]
        },
        {
          "output_type": "stream",
          "name": "stdout",
          "text": [
            "EPOCH = 80\n",
            "EPOCH = 81\n",
            "EPOCH = 82\n",
            "EPOCH = 83\n",
            "EPOCH = 84\n",
            "EPOCH = 85\n",
            "EPOCH = 86\n"
          ]
        },
        {
          "output_type": "stream",
          "name": "stderr",
          "text": [
            " 19%|█▊        | 278/1500 [00:03<00:13, 91.47batches/s, Loss=0.0639]"
          ]
        },
        {
          "output_type": "stream",
          "name": "stdout",
          "text": [
            "EPOCH = 87\n",
            "EPOCH = 88\n",
            "EPOCH = 89\n",
            "EPOCH = 90\n",
            "EPOCH = 91\n",
            "EPOCH = 92\n",
            "EPOCH = 93\n"
          ]
        },
        {
          "output_type": "stream",
          "name": "stderr",
          "text": [
            " 20%|██        | 300/1500 [00:03<00:12, 93.92batches/s, Loss=0.0698]"
          ]
        },
        {
          "output_type": "stream",
          "name": "stdout",
          "text": [
            "EPOCH = 94\n",
            "EPOCH = 95\n",
            "EPOCH = 96\n",
            "EPOCH = 97\n",
            "EPOCH = 98\n",
            "EPOCH = 99\n",
            "EPOCH = 100\n"
          ]
        },
        {
          "output_type": "stream",
          "name": "stderr",
          "text": [
            " 21%|██▏       | 321/1500 [00:03<00:12, 94.30batches/s, Loss=0.0621]"
          ]
        },
        {
          "output_type": "stream",
          "name": "stdout",
          "text": [
            "EPOCH = 101\n",
            "EPOCH = 102\n",
            "EPOCH = 103\n",
            "EPOCH = 104\n",
            "EPOCH = 105\n",
            "EPOCH = 106\n",
            "EPOCH = 107\n"
          ]
        },
        {
          "output_type": "stream",
          "name": "stderr",
          "text": [
            " 23%|██▎       | 342/1500 [00:03<00:12, 94.93batches/s, Loss=0.0537]"
          ]
        },
        {
          "output_type": "stream",
          "name": "stdout",
          "text": [
            "EPOCH = 108\n",
            "EPOCH = 109\n",
            "EPOCH = 110\n",
            "EPOCH = 111\n",
            "EPOCH = 112\n",
            "EPOCH = 113\n",
            "EPOCH = 114\n"
          ]
        },
        {
          "output_type": "stream",
          "name": "stderr",
          "text": [
            " 24%|██▍       | 362/1500 [00:04<00:12, 91.36batches/s, Loss=0.0528]"
          ]
        },
        {
          "output_type": "stream",
          "name": "stdout",
          "text": [
            "EPOCH = 115\n",
            "EPOCH = 116\n",
            "EPOCH = 117\n",
            "EPOCH = 118\n",
            "EPOCH = 119\n",
            "EPOCH = 120\n",
            "EPOCH = 121\n"
          ]
        },
        {
          "output_type": "stream",
          "name": "stderr",
          "text": [
            " 26%|██▌       | 384/1500 [00:04<00:11, 94.58batches/s, Loss=0.0463]"
          ]
        },
        {
          "output_type": "stream",
          "name": "stdout",
          "text": [
            "EPOCH = 122\n",
            "EPOCH = 123\n",
            "EPOCH = 124\n",
            "EPOCH = 125\n",
            "EPOCH = 126\n",
            "EPOCH = 127\n",
            "EPOCH = 128\n"
          ]
        },
        {
          "output_type": "stream",
          "name": "stderr",
          "text": [
            " 27%|██▋       | 403/1500 [00:04<00:12, 90.84batches/s, Loss=0.045] "
          ]
        },
        {
          "output_type": "stream",
          "name": "stdout",
          "text": [
            "EPOCH = 129\n",
            "EPOCH = 130\n",
            "EPOCH = 131\n",
            "EPOCH = 132\n",
            "EPOCH = 133\n",
            "EPOCH = 134\n"
          ]
        },
        {
          "output_type": "stream",
          "name": "stderr",
          "text": [
            " 28%|██▊       | 422/1500 [00:04<00:11, 91.54batches/s, Loss=0.0524]"
          ]
        },
        {
          "output_type": "stream",
          "name": "stdout",
          "text": [
            "EPOCH = 135\n",
            "EPOCH = 136\n",
            "EPOCH = 137\n",
            "EPOCH = 138\n",
            "EPOCH = 139\n",
            "EPOCH = 140\n"
          ]
        },
        {
          "output_type": "stream",
          "name": "stderr",
          "text": [
            " 29%|██▉       | 440/1500 [00:05<00:12, 88.06batches/s, Loss=0.0369]"
          ]
        },
        {
          "output_type": "stream",
          "name": "stdout",
          "text": [
            "EPOCH = 141\n",
            "EPOCH = 142\n",
            "EPOCH = 143\n",
            "EPOCH = 144\n",
            "EPOCH = 145\n",
            "EPOCH = 146\n",
            "EPOCH = 147\n"
          ]
        },
        {
          "output_type": "stream",
          "name": "stderr",
          "text": [
            " 31%|███       | 461/1500 [00:05<00:11, 91.68batches/s, Loss=0.0384]"
          ]
        },
        {
          "output_type": "stream",
          "name": "stdout",
          "text": [
            "EPOCH = 148\n",
            "EPOCH = 149\n",
            "EPOCH = 150\n",
            "EPOCH = 151\n",
            "EPOCH = 152\n",
            "EPOCH = 153\n",
            "EPOCH = 154\n"
          ]
        },
        {
          "output_type": "stream",
          "name": "stderr",
          "text": [
            " 32%|███▏      | 484/1500 [00:05<00:11, 91.85batches/s, Loss=0.0353]"
          ]
        },
        {
          "output_type": "stream",
          "name": "stdout",
          "text": [
            "EPOCH = 155\n",
            "EPOCH = 156\n",
            "EPOCH = 157\n",
            "EPOCH = 158\n",
            "EPOCH = 159\n",
            "EPOCH = 160\n",
            "EPOCH = 161\n"
          ]
        },
        {
          "output_type": "stream",
          "name": "stderr",
          "text": [
            " 34%|███▎      | 504/1500 [00:05<00:10, 91.03batches/s, Loss=0.039]"
          ]
        },
        {
          "output_type": "stream",
          "name": "stdout",
          "text": [
            "EPOCH = 162\n",
            "EPOCH = 163\n",
            "EPOCH = 164\n",
            "EPOCH = 165\n",
            "EPOCH = 166\n",
            "EPOCH = 167\n"
          ]
        },
        {
          "output_type": "stream",
          "name": "stderr",
          "text": [
            " 35%|███▍      | 520/1500 [00:05<00:11, 88.80batches/s, Loss=0.0346]"
          ]
        },
        {
          "output_type": "stream",
          "name": "stdout",
          "text": [
            "EPOCH = 168\n",
            "EPOCH = 169\n",
            "EPOCH = 170\n",
            "EPOCH = 171\n",
            "EPOCH = 172\n",
            "EPOCH = 173\n"
          ]
        },
        {
          "output_type": "stream",
          "name": "stderr",
          "text": [
            " 36%|███▌      | 539/1500 [00:06<00:10, 88.57batches/s, Loss=0.0289]"
          ]
        },
        {
          "output_type": "stream",
          "name": "stdout",
          "text": [
            "EPOCH = 174\n",
            "EPOCH = 175\n",
            "EPOCH = 176\n",
            "EPOCH = 177\n",
            "EPOCH = 178\n",
            "EPOCH = 179\n",
            "EPOCH = 180\n"
          ]
        },
        {
          "output_type": "stream",
          "name": "stderr",
          "text": [
            " 37%|███▋      | 561/1500 [00:06<00:10, 89.48batches/s, Loss=0.0378]"
          ]
        },
        {
          "output_type": "stream",
          "name": "stdout",
          "text": [
            "EPOCH = 181\n",
            "EPOCH = 182\n",
            "EPOCH = 183\n",
            "EPOCH = 184\n",
            "EPOCH = 185\n",
            "EPOCH = 186\n"
          ]
        },
        {
          "output_type": "stream",
          "name": "stderr",
          "text": [
            " 38%|███▊      | 577/1500 [00:06<00:10, 87.54batches/s, Loss=0.0305]"
          ]
        },
        {
          "output_type": "stream",
          "name": "stdout",
          "text": [
            "EPOCH = 187\n",
            "EPOCH = 188\n",
            "EPOCH = 189\n",
            "EPOCH = 190\n",
            "EPOCH = 191\n",
            "EPOCH = 192\n"
          ]
        },
        {
          "output_type": "stream",
          "name": "stderr",
          "text": [
            " 40%|███▉      | 597/1500 [00:06<00:10, 87.79batches/s, Loss=0.0306]"
          ]
        },
        {
          "output_type": "stream",
          "name": "stdout",
          "text": [
            "EPOCH = 193\n",
            "EPOCH = 194\n",
            "EPOCH = 195\n",
            "EPOCH = 196\n",
            "EPOCH = 197\n",
            "EPOCH = 198\n",
            "EPOCH = 199\n"
          ]
        },
        {
          "output_type": "stream",
          "name": "stderr",
          "text": [
            " 41%|████      | 615/1500 [00:07<00:10, 86.50batches/s, Loss=0.0297]"
          ]
        },
        {
          "output_type": "stream",
          "name": "stdout",
          "text": [
            "EPOCH = 200\n",
            "EPOCH = 201\n",
            "EPOCH = 202\n",
            "EPOCH = 203\n",
            "EPOCH = 204\n",
            "EPOCH = 205\n"
          ]
        },
        {
          "output_type": "stream",
          "name": "stderr",
          "text": [
            " 42%|████▏     | 634/1500 [00:07<00:09, 87.91batches/s, Loss=0.0289]"
          ]
        },
        {
          "output_type": "stream",
          "name": "stdout",
          "text": [
            "EPOCH = 206\n",
            "EPOCH = 207\n",
            "EPOCH = 208\n",
            "EPOCH = 209\n",
            "EPOCH = 210\n",
            "EPOCH = 211\n"
          ]
        },
        {
          "output_type": "stream",
          "name": "stderr",
          "text": [
            " 43%|████▎     | 652/1500 [00:07<00:09, 86.58batches/s, Loss=0.0301]"
          ]
        },
        {
          "output_type": "stream",
          "name": "stdout",
          "text": [
            "EPOCH = 212\n",
            "EPOCH = 213\n",
            "EPOCH = 214\n",
            "EPOCH = 215\n",
            "EPOCH = 216\n",
            "EPOCH = 217\n"
          ]
        },
        {
          "output_type": "stream",
          "name": "stderr",
          "text": [
            " 45%|████▍     | 671/1500 [00:07<00:09, 88.37batches/s, Loss=0.0285]"
          ]
        },
        {
          "output_type": "stream",
          "name": "stdout",
          "text": [
            "EPOCH = 218\n",
            "EPOCH = 219\n",
            "EPOCH = 220\n",
            "EPOCH = 221\n",
            "EPOCH = 222\n",
            "EPOCH = 223\n",
            "EPOCH = 224\n"
          ]
        },
        {
          "output_type": "stream",
          "name": "stderr",
          "text": [
            " 46%|████▌     | 691/1500 [00:07<00:09, 87.64batches/s, Loss=0.0275]"
          ]
        },
        {
          "output_type": "stream",
          "name": "stdout",
          "text": [
            "EPOCH = 225\n",
            "EPOCH = 226\n",
            "EPOCH = 227\n",
            "EPOCH = 228\n",
            "EPOCH = 229\n",
            "EPOCH = 230\n"
          ]
        },
        {
          "output_type": "stream",
          "name": "stderr",
          "text": [
            " 47%|████▋     | 710/1500 [00:08<00:09, 86.59batches/s, Loss=0.0259]"
          ]
        },
        {
          "output_type": "stream",
          "name": "stdout",
          "text": [
            "EPOCH = 231\n",
            "EPOCH = 232\n",
            "EPOCH = 233\n",
            "EPOCH = 234\n",
            "EPOCH = 235\n",
            "EPOCH = 236\n",
            "EPOCH = 237\n"
          ]
        },
        {
          "output_type": "stream",
          "name": "stderr",
          "text": [
            " 49%|████▊     | 730/1500 [00:08<00:08, 87.62batches/s, Loss=0.025] "
          ]
        },
        {
          "output_type": "stream",
          "name": "stdout",
          "text": [
            "EPOCH = 238\n",
            "EPOCH = 239\n",
            "EPOCH = 240\n",
            "EPOCH = 241\n",
            "EPOCH = 242\n",
            "EPOCH = 243\n"
          ]
        },
        {
          "output_type": "stream",
          "name": "stderr",
          "text": [
            " 50%|████▉     | 748/1500 [00:08<00:08, 88.78batches/s, Loss=0.0249]"
          ]
        },
        {
          "output_type": "stream",
          "name": "stdout",
          "text": [
            "EPOCH = 244\n",
            "EPOCH = 245\n",
            "EPOCH = 246\n",
            "EPOCH = 247\n",
            "EPOCH = 248\n",
            "EPOCH = 249\n"
          ]
        },
        {
          "output_type": "stream",
          "name": "stderr",
          "text": [
            " 51%|█████     | 766/1500 [00:08<00:08, 87.71batches/s, Loss=0.0244]"
          ]
        },
        {
          "output_type": "stream",
          "name": "stdout",
          "text": [
            "EPOCH = 250\n",
            "EPOCH = 251\n",
            "EPOCH = 252\n",
            "EPOCH = 253\n",
            "EPOCH = 254\n",
            "EPOCH = 255\n"
          ]
        },
        {
          "output_type": "stream",
          "name": "stderr",
          "text": [
            " 52%|█████▏    | 783/1500 [00:08<00:08, 85.44batches/s, Loss=0.0245]"
          ]
        },
        {
          "output_type": "stream",
          "name": "stdout",
          "text": [
            "EPOCH = 256\n",
            "EPOCH = 257\n",
            "EPOCH = 258\n",
            "EPOCH = 259\n",
            "EPOCH = 260\n",
            "EPOCH = 261\n"
          ]
        },
        {
          "output_type": "stream",
          "name": "stderr",
          "text": [
            " 53%|█████▎    | 799/1500 [00:09<00:08, 77.92batches/s, Loss=0.0221]"
          ]
        },
        {
          "output_type": "stream",
          "name": "stdout",
          "text": [
            "EPOCH = 262\n",
            "EPOCH = 263\n",
            "EPOCH = 264\n",
            "EPOCH = 265\n",
            "EPOCH = 266\n"
          ]
        },
        {
          "output_type": "stream",
          "name": "stderr",
          "text": [
            " 54%|█████▍    | 814/1500 [00:09<00:08, 76.94batches/s, Loss=0.0232]"
          ]
        },
        {
          "output_type": "stream",
          "name": "stdout",
          "text": [
            "EPOCH = 267\n",
            "EPOCH = 268\n",
            "EPOCH = 269\n",
            "EPOCH = 270\n",
            "EPOCH = 271\n"
          ]
        },
        {
          "output_type": "stream",
          "name": "stderr",
          "text": [
            " 55%|█████▌    | 830/1500 [00:09<00:08, 74.49batches/s, Loss=0.0234]"
          ]
        },
        {
          "output_type": "stream",
          "name": "stdout",
          "text": [
            "EPOCH = 272\n",
            "EPOCH = 273\n",
            "EPOCH = 274\n",
            "EPOCH = 275\n",
            "EPOCH = 276\n"
          ]
        },
        {
          "output_type": "stream",
          "name": "stderr",
          "text": [
            " 56%|█████▋    | 846/1500 [00:09<00:08, 76.56batches/s, Loss=0.0232]"
          ]
        },
        {
          "output_type": "stream",
          "name": "stdout",
          "text": [
            "EPOCH = 277\n",
            "EPOCH = 278\n",
            "EPOCH = 279\n",
            "EPOCH = 280\n",
            "EPOCH = 281\n",
            "EPOCH = 282\n"
          ]
        },
        {
          "output_type": "stream",
          "name": "stderr",
          "text": [
            " 58%|█████▊    | 865/1500 [00:10<00:07, 79.50batches/s, Loss=0.0214]"
          ]
        },
        {
          "output_type": "stream",
          "name": "stdout",
          "text": [
            "EPOCH = 283\n",
            "EPOCH = 284\n",
            "EPOCH = 285\n",
            "EPOCH = 286\n",
            "EPOCH = 287\n",
            "EPOCH = 288\n"
          ]
        },
        {
          "output_type": "stream",
          "name": "stderr",
          "text": [
            " 59%|█████▉    | 884/1500 [00:10<00:07, 84.46batches/s, Loss=0.019] "
          ]
        },
        {
          "output_type": "stream",
          "name": "stdout",
          "text": [
            "EPOCH = 289\n",
            "EPOCH = 290\n",
            "EPOCH = 291\n",
            "EPOCH = 292\n",
            "EPOCH = 293\n",
            "EPOCH = 294\n",
            "EPOCH = 295\n"
          ]
        },
        {
          "output_type": "stream",
          "name": "stderr",
          "text": [
            " 60%|██████    | 902/1500 [00:10<00:07, 82.58batches/s, Loss=0.0192]"
          ]
        },
        {
          "output_type": "stream",
          "name": "stdout",
          "text": [
            "EPOCH = 296\n",
            "EPOCH = 297\n",
            "EPOCH = 298\n",
            "EPOCH = 299\n",
            "EPOCH = 300\n",
            "EPOCH = 301\n"
          ]
        },
        {
          "output_type": "stream",
          "name": "stderr",
          "text": [
            " 61%|██████▏   | 919/1500 [00:10<00:07, 74.84batches/s, Loss=0.0207]"
          ]
        },
        {
          "output_type": "stream",
          "name": "stdout",
          "text": [
            "EPOCH = 302\n",
            "EPOCH = 303\n",
            "EPOCH = 304\n",
            "EPOCH = 305\n",
            "EPOCH = 306\n"
          ]
        },
        {
          "output_type": "stream",
          "name": "stderr",
          "text": [
            " 62%|██████▏   | 933/1500 [00:10<00:07, 71.73batches/s, Loss=0.0207]"
          ]
        },
        {
          "output_type": "stream",
          "name": "stdout",
          "text": [
            "EPOCH = 307\n",
            "EPOCH = 308\n",
            "EPOCH = 309\n",
            "EPOCH = 310\n",
            "EPOCH = 311\n"
          ]
        },
        {
          "output_type": "stream",
          "name": "stderr",
          "text": [
            " 63%|██████▎   | 949/1500 [00:11<00:07, 69.71batches/s, Loss=0.0186]"
          ]
        },
        {
          "output_type": "stream",
          "name": "stdout",
          "text": [
            "EPOCH = 312\n",
            "EPOCH = 313\n",
            "EPOCH = 314\n",
            "EPOCH = 315\n",
            "EPOCH = 316\n"
          ]
        },
        {
          "output_type": "stream",
          "name": "stderr",
          "text": [
            " 64%|██████▍   | 965/1500 [00:11<00:07, 70.22batches/s, Loss=0.0198]"
          ]
        },
        {
          "output_type": "stream",
          "name": "stdout",
          "text": [
            "EPOCH = 317\n",
            "EPOCH = 318\n",
            "EPOCH = 319\n",
            "EPOCH = 320\n",
            "EPOCH = 321\n",
            "EPOCH = 322\n"
          ]
        },
        {
          "output_type": "stream",
          "name": "stderr",
          "text": [
            " 66%|██████▌   | 983/1500 [00:11<00:06, 74.29batches/s, Loss=0.0182]"
          ]
        },
        {
          "output_type": "stream",
          "name": "stdout",
          "text": [
            "EPOCH = 323\n",
            "EPOCH = 324\n",
            "EPOCH = 325\n",
            "EPOCH = 326\n",
            "EPOCH = 327\n",
            "EPOCH = 328\n"
          ]
        },
        {
          "output_type": "stream",
          "name": "stderr",
          "text": [
            " 67%|██████▋   | 1001/1500 [00:11<00:06, 76.06batches/s, Loss=0.0209]"
          ]
        },
        {
          "output_type": "stream",
          "name": "stdout",
          "text": [
            "EPOCH = 329\n",
            "EPOCH = 330\n",
            "EPOCH = 331\n",
            "EPOCH = 332\n",
            "EPOCH = 333\n",
            "EPOCH = 334\n"
          ]
        },
        {
          "output_type": "stream",
          "name": "stderr",
          "text": [
            " 68%|██████▊   | 1019/1500 [00:12<00:06, 73.79batches/s, Loss=0.0198]"
          ]
        },
        {
          "output_type": "stream",
          "name": "stdout",
          "text": [
            "EPOCH = 335\n",
            "EPOCH = 336\n",
            "EPOCH = 337\n",
            "EPOCH = 338\n",
            "EPOCH = 339\n"
          ]
        },
        {
          "output_type": "stream",
          "name": "stderr",
          "text": [
            " 69%|██████▉   | 1033/1500 [00:12<00:06, 74.68batches/s, Loss=0.0188]"
          ]
        },
        {
          "output_type": "stream",
          "name": "stdout",
          "text": [
            "EPOCH = 340\n",
            "EPOCH = 341\n",
            "EPOCH = 342\n",
            "EPOCH = 343\n",
            "EPOCH = 344\n"
          ]
        },
        {
          "output_type": "stream",
          "name": "stderr",
          "text": [
            " 70%|██████▉   | 1047/1500 [00:12<00:06, 71.57batches/s, Loss=0.0191]"
          ]
        },
        {
          "output_type": "stream",
          "name": "stdout",
          "text": [
            "EPOCH = 345\n",
            "EPOCH = 346\n",
            "EPOCH = 347\n",
            "EPOCH = 348\n",
            "EPOCH = 349\n"
          ]
        },
        {
          "output_type": "stream",
          "name": "stderr",
          "text": [
            " 71%|███████   | 1066/1500 [00:12<00:05, 76.51batches/s, Loss=0.0182]"
          ]
        },
        {
          "output_type": "stream",
          "name": "stdout",
          "text": [
            "EPOCH = 350\n",
            "EPOCH = 351\n",
            "EPOCH = 352\n",
            "EPOCH = 353\n",
            "EPOCH = 354\n",
            "EPOCH = 355\n"
          ]
        },
        {
          "output_type": "stream",
          "name": "stderr",
          "text": [
            " 72%|███████▏  | 1084/1500 [00:12<00:05, 81.79batches/s, Loss=0.0192]"
          ]
        },
        {
          "output_type": "stream",
          "name": "stdout",
          "text": [
            "EPOCH = 356\n",
            "EPOCH = 357\n",
            "EPOCH = 358\n",
            "EPOCH = 359\n",
            "EPOCH = 360\n",
            "EPOCH = 361\n"
          ]
        },
        {
          "output_type": "stream",
          "name": "stderr",
          "text": [
            " 73%|███████▎  | 1102/1500 [00:13<00:04, 83.75batches/s, Loss=0.0175]"
          ]
        },
        {
          "output_type": "stream",
          "name": "stdout",
          "text": [
            "EPOCH = 362\n",
            "EPOCH = 363\n",
            "EPOCH = 364\n",
            "EPOCH = 365\n",
            "EPOCH = 366\n",
            "EPOCH = 367\n"
          ]
        },
        {
          "output_type": "stream",
          "name": "stderr",
          "text": [
            " 75%|███████▍  | 1120/1500 [00:13<00:04, 85.44batches/s, Loss=0.0229]"
          ]
        },
        {
          "output_type": "stream",
          "name": "stdout",
          "text": [
            "EPOCH = 368\n",
            "EPOCH = 369\n",
            "EPOCH = 370\n",
            "EPOCH = 371\n",
            "EPOCH = 372\n",
            "EPOCH = 373\n"
          ]
        },
        {
          "output_type": "stream",
          "name": "stderr",
          "text": [
            " 76%|███████▌  | 1137/1500 [00:13<00:04, 85.49batches/s, Loss=0.0185]"
          ]
        },
        {
          "output_type": "stream",
          "name": "stdout",
          "text": [
            "EPOCH = 374\n",
            "EPOCH = 375\n",
            "EPOCH = 376\n",
            "EPOCH = 377\n",
            "EPOCH = 378\n",
            "EPOCH = 379\n"
          ]
        },
        {
          "output_type": "stream",
          "name": "stderr",
          "text": [
            " 77%|███████▋  | 1157/1500 [00:13<00:03, 88.66batches/s, Loss=0.0221]"
          ]
        },
        {
          "output_type": "stream",
          "name": "stdout",
          "text": [
            "EPOCH = 380\n",
            "EPOCH = 381\n",
            "EPOCH = 382\n",
            "EPOCH = 383\n",
            "EPOCH = 384\n",
            "EPOCH = 385\n",
            "EPOCH = 386\n"
          ]
        },
        {
          "output_type": "stream",
          "name": "stderr",
          "text": [
            " 79%|███████▊  | 1178/1500 [00:13<00:03, 89.09batches/s, Loss=0.0192]"
          ]
        },
        {
          "output_type": "stream",
          "name": "stdout",
          "text": [
            "EPOCH = 387\n",
            "EPOCH = 388\n",
            "EPOCH = 389\n",
            "EPOCH = 390\n",
            "EPOCH = 391\n",
            "EPOCH = 392\n",
            "EPOCH = 393\n"
          ]
        },
        {
          "output_type": "stream",
          "name": "stderr",
          "text": [
            " 80%|████████  | 1200/1500 [00:14<00:03, 91.42batches/s, Loss=0.0217]"
          ]
        },
        {
          "output_type": "stream",
          "name": "stdout",
          "text": [
            "EPOCH = 394\n",
            "EPOCH = 395\n",
            "EPOCH = 396\n",
            "EPOCH = 397\n",
            "EPOCH = 398\n",
            "EPOCH = 399\n",
            "EPOCH = 400\n"
          ]
        },
        {
          "output_type": "stream",
          "name": "stderr",
          "text": [
            " 81%|████████▏ | 1221/1500 [00:14<00:03, 91.52batches/s, Loss=0.0149]"
          ]
        },
        {
          "output_type": "stream",
          "name": "stdout",
          "text": [
            "EPOCH = 401\n",
            "EPOCH = 402\n",
            "EPOCH = 403\n",
            "EPOCH = 404\n",
            "EPOCH = 405\n",
            "EPOCH = 406\n",
            "EPOCH = 407\n"
          ]
        },
        {
          "output_type": "stream",
          "name": "stderr",
          "text": [
            " 83%|████████▎ | 1241/1500 [00:14<00:02, 92.91batches/s, Loss=0.0221]"
          ]
        },
        {
          "output_type": "stream",
          "name": "stdout",
          "text": [
            "EPOCH = 408\n",
            "EPOCH = 409\n",
            "EPOCH = 410\n",
            "EPOCH = 411\n",
            "EPOCH = 412\n",
            "EPOCH = 413\n",
            "EPOCH = 414\n"
          ]
        },
        {
          "output_type": "stream",
          "name": "stderr",
          "text": [
            " 84%|████████▍ | 1262/1500 [00:14<00:02, 93.29batches/s, Loss=0.0133]"
          ]
        },
        {
          "output_type": "stream",
          "name": "stdout",
          "text": [
            "EPOCH = 415\n",
            "EPOCH = 416\n",
            "EPOCH = 417\n",
            "EPOCH = 418\n",
            "EPOCH = 419\n",
            "EPOCH = 420\n",
            "EPOCH = 421\n"
          ]
        },
        {
          "output_type": "stream",
          "name": "stderr",
          "text": [
            " 85%|████████▌ | 1282/1500 [00:15<00:02, 88.57batches/s, Loss=0.0178]"
          ]
        },
        {
          "output_type": "stream",
          "name": "stdout",
          "text": [
            "EPOCH = 422\n",
            "EPOCH = 423\n",
            "EPOCH = 424\n",
            "EPOCH = 425\n",
            "EPOCH = 426\n",
            "EPOCH = 427\n"
          ]
        },
        {
          "output_type": "stream",
          "name": "stderr",
          "text": [
            " 87%|████████▋ | 1300/1500 [00:15<00:02, 86.66batches/s, Loss=0.0163]"
          ]
        },
        {
          "output_type": "stream",
          "name": "stdout",
          "text": [
            "EPOCH = 428\n",
            "EPOCH = 429\n",
            "EPOCH = 430\n",
            "EPOCH = 431\n",
            "EPOCH = 432\n",
            "EPOCH = 433\n"
          ]
        },
        {
          "output_type": "stream",
          "name": "stderr",
          "text": [
            " 88%|████████▊ | 1317/1500 [00:15<00:02, 84.14batches/s, Loss=0.0162]"
          ]
        },
        {
          "output_type": "stream",
          "name": "stdout",
          "text": [
            "EPOCH = 434\n",
            "EPOCH = 435\n",
            "EPOCH = 436\n",
            "EPOCH = 437\n",
            "EPOCH = 438\n",
            "EPOCH = 439\n"
          ]
        },
        {
          "output_type": "stream",
          "name": "stderr",
          "text": [
            " 89%|████████▉ | 1335/1500 [00:15<00:01, 83.95batches/s, Loss=0.0154]"
          ]
        },
        {
          "output_type": "stream",
          "name": "stdout",
          "text": [
            "EPOCH = 440\n",
            "EPOCH = 441\n",
            "EPOCH = 442\n",
            "EPOCH = 443\n",
            "EPOCH = 444\n",
            "EPOCH = 445\n"
          ]
        },
        {
          "output_type": "stream",
          "name": "stderr",
          "text": [
            " 90%|█████████ | 1353/1500 [00:15<00:01, 83.01batches/s, Loss=0.0155]"
          ]
        },
        {
          "output_type": "stream",
          "name": "stdout",
          "text": [
            "EPOCH = 446\n",
            "EPOCH = 447\n",
            "EPOCH = 448\n",
            "EPOCH = 449\n",
            "EPOCH = 450\n",
            "EPOCH = 451\n"
          ]
        },
        {
          "output_type": "stream",
          "name": "stderr",
          "text": [
            " 91%|█████████▏| 1371/1500 [00:16<00:01, 82.70batches/s, Loss=0.0147]"
          ]
        },
        {
          "output_type": "stream",
          "name": "stdout",
          "text": [
            "EPOCH = 452\n",
            "EPOCH = 453\n",
            "EPOCH = 454\n",
            "EPOCH = 455\n",
            "EPOCH = 456\n",
            "EPOCH = 457\n"
          ]
        },
        {
          "output_type": "stream",
          "name": "stderr",
          "text": [
            " 93%|█████████▎| 1389/1500 [00:16<00:01, 84.39batches/s, Loss=0.0147]"
          ]
        },
        {
          "output_type": "stream",
          "name": "stdout",
          "text": [
            "EPOCH = 458\n",
            "EPOCH = 459\n",
            "EPOCH = 460\n",
            "EPOCH = 461\n",
            "EPOCH = 462\n",
            "EPOCH = 463\n"
          ]
        },
        {
          "output_type": "stream",
          "name": "stderr",
          "text": [
            " 94%|█████████▍| 1409/1500 [00:16<00:01, 88.74batches/s, Loss=0.0185]"
          ]
        },
        {
          "output_type": "stream",
          "name": "stdout",
          "text": [
            "EPOCH = 464\n",
            "EPOCH = 465\n",
            "EPOCH = 466\n",
            "EPOCH = 467\n",
            "EPOCH = 468\n",
            "EPOCH = 469\n",
            "EPOCH = 470\n"
          ]
        },
        {
          "output_type": "stream",
          "name": "stderr",
          "text": [
            " 95%|█████████▌| 1429/1500 [00:16<00:00, 89.13batches/s, Loss=0.0145]"
          ]
        },
        {
          "output_type": "stream",
          "name": "stdout",
          "text": [
            "EPOCH = 471\n",
            "EPOCH = 472\n",
            "EPOCH = 473\n",
            "EPOCH = 474\n",
            "EPOCH = 475\n",
            "EPOCH = 476\n"
          ]
        },
        {
          "output_type": "stream",
          "name": "stderr",
          "text": [
            " 96%|█████████▋| 1447/1500 [00:17<00:00, 87.85batches/s, Loss=0.0166]"
          ]
        },
        {
          "output_type": "stream",
          "name": "stdout",
          "text": [
            "EPOCH = 477\n",
            "EPOCH = 478\n",
            "EPOCH = 479\n",
            "EPOCH = 480\n",
            "EPOCH = 481\n",
            "EPOCH = 482\n"
          ]
        },
        {
          "output_type": "stream",
          "name": "stderr",
          "text": [
            " 98%|█████████▊| 1466/1500 [00:17<00:00, 87.72batches/s, Loss=0.0187]"
          ]
        },
        {
          "output_type": "stream",
          "name": "stdout",
          "text": [
            "EPOCH = 483\n",
            "EPOCH = 484\n",
            "EPOCH = 485\n",
            "EPOCH = 486\n",
            "EPOCH = 487\n",
            "EPOCH = 488\n"
          ]
        },
        {
          "output_type": "stream",
          "name": "stderr",
          "text": [
            " 99%|█████████▉| 1485/1500 [00:17<00:00, 92.06batches/s, Loss=0.0143]"
          ]
        },
        {
          "output_type": "stream",
          "name": "stdout",
          "text": [
            "EPOCH = 489\n",
            "EPOCH = 490\n",
            "EPOCH = 491\n",
            "EPOCH = 492\n",
            "EPOCH = 493\n",
            "EPOCH = 494\n",
            "EPOCH = 495\n"
          ]
        },
        {
          "output_type": "stream",
          "name": "stderr",
          "text": [
            "100%|██████████| 1500/1500 [00:17<00:00, 85.03batches/s, Loss=0.0143]"
          ]
        },
        {
          "output_type": "stream",
          "name": "stdout",
          "text": [
            "EPOCH = 496\n",
            "EPOCH = 497\n",
            "EPOCH = 498\n",
            "EPOCH = 499\n"
          ]
        },
        {
          "output_type": "stream",
          "name": "stderr",
          "text": [
            "\n"
          ]
        }
      ],
      "source": [
        "import tqdm\n",
        "numepoch = 500\n",
        "\n",
        "#training phase\n",
        "\n",
        "with tqdm.tqdm(total=numepoch*len(trainloader), unit='batches') as pbar:\n",
        "  losses = []\n",
        "  for epoch in range(numepoch):\n",
        "\n",
        "    model.train()\n",
        "    optimizer.zero_grad()\n",
        "\n",
        "    print(f\"EPOCH = {epoch}\")\n",
        "\n",
        "    for batch in trainloader:\n",
        "\n",
        "      input = batch[0].to(device)\n",
        "      label = batch[1].to(device)\n",
        "\n",
        "      #print(input.shape)\n",
        "      #print(label.shape)\n",
        "      #one_hot_encode_labels(label)\n",
        "      #print(input.shape,input[:,:4].shape)\n",
        "\n",
        "      out = model(input[:,:4])\n",
        "\n",
        "      #print(out.shape)\n",
        "      #out = model(input)\n",
        "      #out=out.squeeze(dim=1)\n",
        "      #print(out)\n",
        "\n",
        "\n",
        "      loss = criterion(out,label)\n",
        "      losses.append(loss)\n",
        "      loss.backward()\n",
        "      optimizer.step()\n",
        "\n",
        "\n",
        "\n",
        "      pbar.set_postfix({'Loss': loss.item()})\n",
        "      pbar.update()\n",
        "\n",
        "\n",
        "      #print(df)\n"
      ]
    },
    {
      "cell_type": "code",
      "execution_count": null,
      "metadata": {
        "id": "r2dDYatvawZ0"
      },
      "outputs": [],
      "source": [
        "import matplotlib.pyplot as plt\n",
        "#print CE loss evolution\n",
        "ind = [i for i in range(len(losses))]\n",
        "losses = [loss.cpu().detach().numpy() for loss in losses]\n",
        "plt.plot(ind,losses)\n",
        "plt.show()"
      ]
    },
    {
      "cell_type": "code",
      "execution_count": 124,
      "metadata": {
        "colab": {
          "base_uri": "https://localhost:8080/"
        },
        "id": "15n8ZQ-HPFid",
        "outputId": "ef7f7843-7d87-4e91-c74e-2d5edd1031c3"
      },
      "outputs": [
        {
          "output_type": "stream",
          "name": "stderr",
          "text": [
            "100%|██████████| 1/1 [00:00<00:00, 107.00batches/s, Loss=40]"
          ]
        },
        {
          "output_type": "stream",
          "name": "stdout",
          "text": [
            "tensor(40.0012, device='cuda:0', grad_fn=<DivBackward0>)\n"
          ]
        },
        {
          "output_type": "stream",
          "name": "stderr",
          "text": [
            "\n"
          ]
        }
      ],
      "source": [
        "import tqdm\n",
        "\n",
        "criterion = torch.nn.CrossEntropyLoss()\n",
        "\n",
        "#testing phase\n",
        "\n",
        "with tqdm.tqdm(total=len(testloader), unit='batches') as pbar:\n",
        "  losses = []\n",
        "\n",
        "  model.eval()\n",
        "\n",
        "  for batch in testloader:\n",
        "\n",
        "    input = batch[0].to(device)\n",
        "    label = batch[1].to(device)\n",
        "\n",
        "    out = model(input[:,:4])\n",
        "\n",
        "    loss = criterion(out,label)\n",
        "\n",
        "    losses.append(loss)\n",
        "\n",
        "    pbar.set_postfix({'Loss': loss.item()})\n",
        "    pbar.update()\n",
        "\n",
        "print(sum(losses)/len(losses))\n"
      ]
    },
    {
      "cell_type": "code",
      "execution_count": null,
      "metadata": {
        "id": "cyBocvpZa63i"
      },
      "outputs": [],
      "source": [
        "import matplotlib.pyplot as plt\n",
        "\n",
        "#print loss evolution\n",
        "\n",
        "ind = [i for i in range(len(losses))]\n",
        "losses = [loss.cpu().detach().numpy() for loss in losses]\n",
        "plt.plot(ind,losses)\n",
        "plt.show()"
      ]
    }
  ],
  "metadata": {
    "accelerator": "GPU",
    "colab": {
      "gpuType": "T4",
      "provenance": []
    },
    "kernelspec": {
      "display_name": "Python 3 (ipykernel)",
      "language": "python",
      "name": "python3"
    },
    "language_info": {
      "codemirror_mode": {
        "name": "ipython",
        "version": 3
      },
      "file_extension": ".py",
      "mimetype": "text/x-python",
      "name": "python",
      "nbconvert_exporter": "python",
      "pygments_lexer": "ipython3",
      "version": "3.10.12"
    }
  },
  "nbformat": 4,
  "nbformat_minor": 0
}