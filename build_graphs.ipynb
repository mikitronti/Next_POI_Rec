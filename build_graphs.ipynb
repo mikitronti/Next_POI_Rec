{
 "cells": [
  {
   "cell_type": "code",
   "execution_count": 1,
   "id": "5dd42afa",
   "metadata": {},
   "outputs": [
    {
     "name": "stdout",
     "output_type": "stream",
     "text": [
      "--2024-05-17 15:30:05--  http://www-public.tem-tsp.eu/~zhang_da/pub/dataset_tsmc2014.zip\n",
      "Risoluzione di www-public.tem-tsp.eu (www-public.tem-tsp.eu)... 2001:660:3203:100:1:0:80:107, 157.159.10.107\n",
      "Connessione a www-public.tem-tsp.eu (www-public.tem-tsp.eu)|2001:660:3203:100:1:0:80:107|:80... connesso.\n",
      "Richiesta HTTP inviata, in attesa di risposta... 200 OK\n",
      "Lunghezza: 25546284 (24M) [application/zip]\n",
      "Salvataggio in: ‘dataset_tsmc2014.zip’\n",
      "\n",
      "dataset_tsmc2014.zi 100%[===================>]  24,36M  1,07MB/s    in 24s     \n",
      "\n",
      "2024-05-17 15:30:29 (1,01 MB/s) - ‘dataset_tsmc2014.zip’ salvato [25546284/25546284]\n",
      "\n",
      "Archive:  dataset_tsmc2014.zip\n",
      "   creating: dataset_tsmc2014/\n",
      "  inflating: dataset_tsmc2014/dataset_TSMC2014_NYC.txt  \n",
      "  inflating: dataset_tsmc2014/dataset_TSMC2014_readme.txt  \n",
      "  inflating: dataset_tsmc2014/dataset_TSMC2014_TKY.txt  \n"
     ]
    }
   ],
   "source": [
    "import pandas as pd\n",
    "!wget http://www-public.tem-tsp.eu/~zhang_da/pub/dataset_tsmc2014.zip\n",
    "!unzip dataset_tsmc2014.zip"
   ]
  },
  {
   "cell_type": "code",
   "execution_count": 2,
   "id": "c201ab83",
   "metadata": {},
   "outputs": [],
   "source": [
    "columns = ['User ID',\n",
    " 'Venue ID',\n",
    " 'Venue category ID',\n",
    " 'Venue category name',\n",
    " 'Latitude',\n",
    " 'Longitude',\n",
    " 'Timezone',\n",
    " 'UTC time']"
   ]
  },
  {
   "cell_type": "code",
   "execution_count": 3,
   "id": "1a36d1da",
   "metadata": {},
   "outputs": [
    {
     "name": "stdout",
     "output_type": "stream",
     "text": [
      "        User ID                  Venue ID         Venue category ID  \\\n",
      "0           470  49bbd6c0f964a520f4531fe3  4bf58dd8d48988d127951735   \n",
      "1           979  4a43c0aef964a520c6a61fe3  4bf58dd8d48988d1df941735   \n",
      "2            69  4c5cc7b485a1e21e00d35711  4bf58dd8d48988d103941735   \n",
      "3           395  4bc7086715a7ef3bef9878da  4bf58dd8d48988d104941735   \n",
      "4            87  4cf2c5321d18a143951b5cec  4bf58dd8d48988d1cb941735   \n",
      "...         ...                       ...                       ...   \n",
      "227423      688  3fd66200f964a52000e71ee3  4bf58dd8d48988d1e7931735   \n",
      "227424      560  4bca32ff0687ef3be789dbcc  4bf58dd8d48988d16c941735   \n",
      "227425      945  50a77716e4b0b5a9492f6f56  4bf58dd8d48988d103941735   \n",
      "227426      671  4514efe0f964a520e7391fe3  4bf58dd8d48988d11d941735   \n",
      "227427      942  4a1e0ca0f964a520bf7b1fe3  4bf58dd8d48988d116941735   \n",
      "\n",
      "        Venue category name   Latitude  Longitude  Timezone  \\\n",
      "0       Arts & Crafts Store  40.719810 -74.002581      -240   \n",
      "1                    Bridge  40.606800 -74.044170      -240   \n",
      "2            Home (private)  40.716162 -73.883070      -240   \n",
      "3            Medical Center  40.745164 -73.982519      -240   \n",
      "4                Food Truck  40.740104 -73.989658      -240   \n",
      "...                     ...        ...        ...       ...   \n",
      "227423          Music Venue  40.733596 -74.003139      -300   \n",
      "227424         Burger Joint  40.745719 -73.993720      -300   \n",
      "227425       Home (private)  40.854364 -73.883070      -300   \n",
      "227426                  Bar  40.735981 -74.029309      -300   \n",
      "227427                  Bar  40.726805 -73.957422      -300   \n",
      "\n",
      "                              UTC time  \n",
      "0       Tue Apr 03 18:00:09 +0000 2012  \n",
      "1       Tue Apr 03 18:00:25 +0000 2012  \n",
      "2       Tue Apr 03 18:02:24 +0000 2012  \n",
      "3       Tue Apr 03 18:02:41 +0000 2012  \n",
      "4       Tue Apr 03 18:03:00 +0000 2012  \n",
      "...                                ...  \n",
      "227423  Sat Feb 16 02:29:11 +0000 2013  \n",
      "227424  Sat Feb 16 02:31:35 +0000 2013  \n",
      "227425  Sat Feb 16 02:33:16 +0000 2013  \n",
      "227426  Sat Feb 16 02:34:31 +0000 2013  \n",
      "227427  Sat Feb 16 02:35:36 +0000 2013  \n",
      "\n",
      "[227428 rows x 8 columns]\n"
     ]
    }
   ],
   "source": [
    "df = pd.read_csv('dataset_tsmc2014/dataset_TSMC2014_NYC.txt', sep='\\t', encoding='latin-1', names=columns)\n",
    "print(df)"
   ]
  },
  {
   "cell_type": "code",
   "execution_count": null,
   "id": "bcdafdb6",
   "metadata": {},
   "outputs": [],
   "source": [
    "from datetime import datetime\n",
    "\n",
    "def str2date(date_str):\n",
    "    \n",
    "    parsed_date = datetime.strptime(date_str, \"%a %b %d %H:%M:%S\")\n",
    "    print(parsed_date)"
   ]
  },
  {
   "cell_type": "code",
   "execution_count": 1,
   "id": "184078b5",
   "metadata": {},
   "outputs": [],
   "source": [
    "import math\n",
    "\n",
    "def distance_between_coordinates(lat1, lon1, lat2, lon2):\n",
    "    radius = 6371  # Radius of the Earth in km\n",
    "    \n",
    "    # Convert latitude and longitude from degrees to radians\n",
    "    lat1 = math.radians(lat1)\n",
    "    lon1 = math.radians(lon1)\n",
    "    lat2 = math.radians(lat2)\n",
    "    lon2 = math.radians(lon2)\n",
    "    \n",
    "    # Calculate the differences in latitude and longitude\n",
    "    d_lat = lat2 - lat1\n",
    "    d_lon = lon2 - lon1\n",
    "    \n",
    "    # Calculate the distance using the Haversine formula\n",
    "    a = math.sin(d_lat/2) * math.sin(d_lat/2) + math.cos(lat1) * math.cos(lat2) * math.sin(d_lon/2) * math.sin(d_lon/2)\n",
    "    c = 2 * math.atan2(math.sqrt(a), math.sqrt(1-a))\n",
    "    distance = radius * c\n",
    "    \n",
    "    return distance"
   ]
  },
  {
   "cell_type": "code",
   "execution_count": 3,
   "id": "9a7233d1",
   "metadata": {},
   "outputs": [
    {
     "name": "stdout",
     "output_type": "stream",
     "text": [
      "2.8819941850086326\n"
     ]
    }
   ],
   "source": [
    "print(distance_between_coordinates(40.719810,-74.002581,40.735981, -74.029309))"
   ]
  },
  {
   "cell_type": "code",
   "execution_count": null,
   "id": "2dbf6439",
   "metadata": {},
   "outputs": [],
   "source": []
  }
 ],
 "metadata": {
  "kernelspec": {
   "display_name": "Python 3 (ipykernel)",
   "language": "python",
   "name": "python3"
  },
  "language_info": {
   "codemirror_mode": {
    "name": "ipython",
    "version": 3
   },
   "file_extension": ".py",
   "mimetype": "text/x-python",
   "name": "python",
   "nbconvert_exporter": "python",
   "pygments_lexer": "ipython3",
   "version": "3.10.12"
  }
 },
 "nbformat": 4,
 "nbformat_minor": 5
}
