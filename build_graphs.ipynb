{
  "cells": [
    {
      "cell_type": "code",
      "execution_count": 12,
      "id": "5dd42afa",
      "metadata": {
        "colab": {
          "base_uri": "https://localhost:8080/"
        },
        "id": "5dd42afa",
        "outputId": "87a13cfd-4006-485e-8788-fae8d3f6567e"
      },
      "outputs": [
        {
          "output_type": "stream",
          "name": "stdout",
          "text": [
            "--2024-05-18 14:27:06--  http://www-public.tem-tsp.eu/~zhang_da/pub/dataset_tsmc2014.zip\n",
            "Resolving www-public.tem-tsp.eu (www-public.tem-tsp.eu)... 157.159.10.107, 2001:660:3203:100:1:0:80:107\n",
            "Connecting to www-public.tem-tsp.eu (www-public.tem-tsp.eu)|157.159.10.107|:80... connected.\n",
            "HTTP request sent, awaiting response... 200 OK\n",
            "Length: 25546284 (24M) [application/zip]\n",
            "Saving to: ‘dataset_tsmc2014.zip.2’\n",
            "\n",
            "dataset_tsmc2014.zi 100%[===================>]  24.36M  29.2MB/s    in 0.8s    \n",
            "\n",
            "2024-05-18 14:27:07 (29.2 MB/s) - ‘dataset_tsmc2014.zip.2’ saved [25546284/25546284]\n",
            "\n",
            "Archive:  dataset_tsmc2014.zip\n",
            "replace dataset_tsmc2014/dataset_TSMC2014_NYC.txt? [y]es, [n]o, [A]ll, [N]one, [r]ename: "
          ]
        }
      ],
      "source": [
        "#import pandas as pd\n",
        "!wget http://www-public.tem-tsp.eu/~zhang_da/pub/dataset_tsmc2014.zip\n",
        "!unzip dataset_tsmc2014.zip"
      ]
    },
    {
      "cell_type": "code",
      "execution_count": 13,
      "id": "c201ab83",
      "metadata": {
        "id": "c201ab83"
      },
      "outputs": [],
      "source": [
        "import pandas as pd\n",
        "columns = ['User ID',\n",
        " 'Venue ID',\n",
        " 'Venue category ID',\n",
        " 'Venue category name',\n",
        " 'Latitude',\n",
        " 'Longitude',\n",
        " 'Timezone',\n",
        " 'UTC time']"
      ]
    },
    {
      "cell_type": "code",
      "execution_count": 14,
      "id": "1a36d1da",
      "metadata": {
        "colab": {
          "base_uri": "https://localhost:8080/"
        },
        "id": "1a36d1da",
        "outputId": "819836c7-6bd2-4d86-ec53-60987639c46a"
      },
      "outputs": [
        {
          "output_type": "stream",
          "name": "stdout",
          "text": [
            "        User ID                  Venue ID         Venue category ID  \\\n",
            "0           470  49bbd6c0f964a520f4531fe3  4bf58dd8d48988d127951735   \n",
            "1           979  4a43c0aef964a520c6a61fe3  4bf58dd8d48988d1df941735   \n",
            "2            69  4c5cc7b485a1e21e00d35711  4bf58dd8d48988d103941735   \n",
            "3           395  4bc7086715a7ef3bef9878da  4bf58dd8d48988d104941735   \n",
            "4            87  4cf2c5321d18a143951b5cec  4bf58dd8d48988d1cb941735   \n",
            "...         ...                       ...                       ...   \n",
            "227423      688  3fd66200f964a52000e71ee3  4bf58dd8d48988d1e7931735   \n",
            "227424      560  4bca32ff0687ef3be789dbcc  4bf58dd8d48988d16c941735   \n",
            "227425      945  50a77716e4b0b5a9492f6f56  4bf58dd8d48988d103941735   \n",
            "227426      671  4514efe0f964a520e7391fe3  4bf58dd8d48988d11d941735   \n",
            "227427      942  4a1e0ca0f964a520bf7b1fe3  4bf58dd8d48988d116941735   \n",
            "\n",
            "        Venue category name   Latitude  Longitude  Timezone  \\\n",
            "0       Arts & Crafts Store  40.719810 -74.002581      -240   \n",
            "1                    Bridge  40.606800 -74.044170      -240   \n",
            "2            Home (private)  40.716162 -73.883070      -240   \n",
            "3            Medical Center  40.745164 -73.982519      -240   \n",
            "4                Food Truck  40.740104 -73.989658      -240   \n",
            "...                     ...        ...        ...       ...   \n",
            "227423          Music Venue  40.733596 -74.003139      -300   \n",
            "227424         Burger Joint  40.745719 -73.993720      -300   \n",
            "227425       Home (private)  40.854364 -73.883070      -300   \n",
            "227426                  Bar  40.735981 -74.029309      -300   \n",
            "227427                  Bar  40.726805 -73.957422      -300   \n",
            "\n",
            "                              UTC time  \n",
            "0       Tue Apr 03 18:00:09 +0000 2012  \n",
            "1       Tue Apr 03 18:00:25 +0000 2012  \n",
            "2       Tue Apr 03 18:02:24 +0000 2012  \n",
            "3       Tue Apr 03 18:02:41 +0000 2012  \n",
            "4       Tue Apr 03 18:03:00 +0000 2012  \n",
            "...                                ...  \n",
            "227423  Sat Feb 16 02:29:11 +0000 2013  \n",
            "227424  Sat Feb 16 02:31:35 +0000 2013  \n",
            "227425  Sat Feb 16 02:33:16 +0000 2013  \n",
            "227426  Sat Feb 16 02:34:31 +0000 2013  \n",
            "227427  Sat Feb 16 02:35:36 +0000 2013  \n",
            "\n",
            "[227428 rows x 8 columns]\n"
          ]
        }
      ],
      "source": [
        "df = pd.read_csv('dataset_tsmc2014/dataset_TSMC2014_NYC.txt', sep='\\t', encoding='latin-1', names=columns)\n",
        "print(df)"
      ]
    },
    {
      "cell_type": "code",
      "execution_count": 15,
      "id": "bcdafdb6",
      "metadata": {
        "id": "bcdafdb6"
      },
      "outputs": [],
      "source": [
        "from datetime import datetime\n",
        "\n",
        "def str2date(date_str):\n",
        "\n",
        "    parsed_date = datetime.strptime(date_str, \"%a %b %d %H:%M:%S\")\n",
        "    print(parsed_date)"
      ]
    },
    {
      "cell_type": "code",
      "execution_count": 16,
      "id": "184078b5",
      "metadata": {
        "id": "184078b5"
      },
      "outputs": [],
      "source": [
        "import math\n",
        "\n",
        "def distance_between_coordinates(lat1, lon1, lat2, lon2):\n",
        "    radius = 6371  # Radius of the Earth in km\n",
        "\n",
        "    # Convert latitude and longitude from degrees to radians\n",
        "    lat1 = math.radians(lat1)\n",
        "    lon1 = math.radians(lon1)\n",
        "    lat2 = math.radians(lat2)\n",
        "    lon2 = math.radians(lon2)\n",
        "\n",
        "    # Calculate the differences in latitude and longitude<\n",
        "    d_lat = lat2 - lat1\n",
        "    d_lon = lon2 - lon1\n",
        "\n",
        "    # Calculate the distance using the Haversine formula\n",
        "    a = math.sin(d_lat/2) * math.sin(d_lat/2) + math.cos(lat1) * math.cos(lat2) * math.sin(d_lon/2) * math.sin(d_lon/2)\n",
        "    c = 2 * math.atan2(math.sqrt(a), math.sqrt(1-a))\n",
        "    distance = radius * c\n",
        "\n",
        "    return distance"
      ]
    },
    {
      "cell_type": "code",
      "execution_count": 17,
      "id": "9a7233d1",
      "metadata": {
        "colab": {
          "base_uri": "https://localhost:8080/"
        },
        "id": "9a7233d1",
        "outputId": "01459ea6-5e4f-4354-eb9f-3bef4e9a2da4"
      },
      "outputs": [
        {
          "output_type": "stream",
          "name": "stdout",
          "text": [
            "2.8819941850086326\n"
          ]
        }
      ],
      "source": [
        "print(distance_between_coordinates(40.719810,-74.002581,40.735981, -74.029309))"
      ]
    },
    {
      "cell_type": "code",
      "execution_count": 18,
      "id": "f614c60a",
      "metadata": {
        "scrolled": true,
        "id": "f614c60a"
      },
      "outputs": [],
      "source": [
        "venuesdf = df[['Venue ID','Latitude','Longitude','Venue category ID']].drop_duplicates(subset=['Venue ID'])\n",
        "#print(venuesdf)\n"
      ]
    },
    {
      "cell_type": "code",
      "source": [
        "#fast spatial graph construction\n",
        "\n",
        "import networkx as nx\n",
        "venuesdict = venuesdf.to_dict('records')\n",
        "#print(venuesdict)\n",
        "\n",
        "#for el in venuesdict:\n",
        "#  print((el,venuesdict[el]))\n",
        "\n",
        "G = nx.Graph()\n",
        "\n",
        "distances = []\n",
        "\n",
        "from tqdm import tqdm\n",
        "\n",
        "for i in tqdm(range(len(venuesdict) - 1)):\n",
        "    if not G.has_node(venuesdict[i]['Venue ID']):\n",
        "        G.add_node(venuesdict[i]['Venue ID'], category=venuesdict[i]['Venue category ID'])\n",
        "\n",
        "    for j in range(i + 1, len(venuesdict)):\n",
        "        if not G.has_node(venuesdict[j]['Venue ID']):\n",
        "            G.add_node(venuesdict[j]['Venue ID'], category=venuesdict[i]['Venue category ID'])\n",
        "\n",
        "        if distance_between_coordinates(venuesdict[i]['Latitude'], venuesdict[i]['Longitude'],\n",
        "                                        venuesdict[j]['Latitude'], venuesdict[j]['Longitude']) < 1:\n",
        "            G.add_edge(venuesdict[i]['Venue ID'], venuesdict[j]['Venue ID'])\n",
        "\n",
        "'''\n",
        "for el1 in venuesdict:\n",
        "for el2 in venuesdict:\n",
        "distances.append(distance_between_coordinates(venuesdict[el1]['Latitude'],venuesdict[el1]['Longitude'],venuesdict[el2]['Latitude'],venuesdict[el2]['Longitude']))\n",
        "'''\n",
        "\n",
        "\n",
        "\n",
        "\n"
      ],
      "metadata": {
        "colab": {
          "base_uri": "https://localhost:8080/",
          "height": 70
        },
        "id": "LoL_BQyKFRJL",
        "outputId": "ba8ee6fa-8f3f-46ec-f926-6ccfe2e1e394"
      },
      "id": "LoL_BQyKFRJL",
      "execution_count": 21,
      "outputs": [
        {
          "output_type": "stream",
          "name": "stderr",
          "text": [
            "100%|██████████| 38332/38332 [45:54<00:00, 13.92it/s] \n"
          ]
        },
        {
          "output_type": "execute_result",
          "data": {
            "text/plain": [
              "\"\\nfor el1 in venuesdict:\\nfor el2 in venuesdict:\\ndistances.append(distance_between_coordinates(venuesdict[el1]['Latitude'],venuesdict[el1]['Longitude'],venuesdict[el2]['Latitude'],venuesdict[el2]['Longitude']))\\n\""
            ],
            "application/vnd.google.colaboratory.intrinsic+json": {
              "type": "string"
            }
          },
          "metadata": {},
          "execution_count": 21
        }
      ]
    },
    {
      "cell_type": "code",
      "source": [
        "import pickle\n",
        "\n",
        "spatpG = G\n",
        "\n",
        "pickle.dump(G,open('spatG.pickle','wb'))\n",
        "\n",
        "#data = pickle.load(open('spatG.pickle','rb'))"
      ],
      "metadata": {
        "id": "Blc1bRFSR2cA"
      },
      "id": "Blc1bRFSR2cA",
      "execution_count": 22,
      "outputs": []
    },
    {
      "cell_type": "code",
      "source": [
        "#nx.draw(G)\n",
        "print(G)"
      ],
      "metadata": {
        "colab": {
          "base_uri": "https://localhost:8080/"
        },
        "id": "Mxp8l8v7SyTw",
        "outputId": "207be19f-21da-4d85-9645-2d79ec0c8135"
      },
      "id": "Mxp8l8v7SyTw",
      "execution_count": 24,
      "outputs": [
        {
          "output_type": "stream",
          "name": "stdout",
          "text": [
            "Graph with 38333 nodes and 15134650 edges\n"
          ]
        }
      ]
    },
    {
      "cell_type": "code",
      "execution_count": null,
      "id": "2dbf6439",
      "metadata": {
        "id": "2dbf6439"
      },
      "outputs": [],
      "source": [
        "#spatial graph construction\n",
        "\n",
        "print(len(venuesdf))\n",
        "import networkx as nx\n",
        "\n",
        "spatG = nx.Graph()\n",
        "\n",
        "d = 1\n",
        "\n",
        "# Add nodes and edges with features\n",
        "for _, row1 in venuesdf.iterrows():\n",
        "\n",
        "    if not spatG.has_node(row1['Venue ID']):\n",
        "            spatG.add_node(row1['Venue ID'], category=row1['Venue category ID'])\n",
        "\n",
        "    for _,row2 in venuesdf.iterrows():\n",
        "\n",
        "\n",
        "        # Add nodes if not already in the graph\n",
        "\n",
        "\n",
        "        if not spatG.has_node(row2['Venue ID']):\n",
        "            spatG.add_node(row1['Venue ID'], category=row1['Venue category ID'])\n",
        "\n",
        "        # Add edges with features\n",
        "\n",
        "        if distance_between_coordinates(row1['Latitude'],row1['Longitude'],row2['Latitude'],row2['Longitude']) < d:\n",
        "\n",
        "            spatG.add_edge(row1['Venue ID'],row2['Venue ID'])\n",
        "\n",
        "\n",
        "print(spatG)\n",
        "\n",
        "\n"
      ]
    },
    {
      "cell_type": "code",
      "execution_count": null,
      "id": "e9ab55e3",
      "metadata": {
        "id": "e9ab55e3"
      },
      "outputs": [],
      "source": []
    }
  ],
  "metadata": {
    "kernelspec": {
      "display_name": "Python 3 (ipykernel)",
      "language": "python",
      "name": "python3"
    },
    "language_info": {
      "codemirror_mode": {
        "name": "ipython",
        "version": 3
      },
      "file_extension": ".py",
      "mimetype": "text/x-python",
      "name": "python",
      "nbconvert_exporter": "python",
      "pygments_lexer": "ipython3",
      "version": "3.10.12"
    },
    "colab": {
      "provenance": []
    }
  },
  "nbformat": 4,
  "nbformat_minor": 5
}