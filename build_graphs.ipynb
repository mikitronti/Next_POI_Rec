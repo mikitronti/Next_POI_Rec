{
  "cells": [
    {
      "cell_type": "code",
      "execution_count": 5,
      "id": "5dd42afa",
      "metadata": {
        "colab": {
          "base_uri": "https://localhost:8080/"
        },
        "id": "5dd42afa",
        "outputId": "94df102c-5728-4e9f-dfeb-030c95b2c621"
      },
      "outputs": [
        {
          "output_type": "stream",
          "name": "stdout",
          "text": [
            "--2024-05-21 12:28:10--  http://www-public.tem-tsp.eu/~zhang_da/pub/dataset_tsmc2014.zip\n",
            "Resolving www-public.tem-tsp.eu (www-public.tem-tsp.eu)... 157.159.10.107, 2001:660:3203:100:1:0:80:107\n",
            "Connecting to www-public.tem-tsp.eu (www-public.tem-tsp.eu)|157.159.10.107|:80... connected.\n",
            "HTTP request sent, awaiting response... 200 OK\n",
            "Length: 25546284 (24M) [application/zip]\n",
            "Saving to: ‘dataset_tsmc2014.zip’\n",
            "\n",
            "dataset_tsmc2014.zi 100%[===================>]  24.36M  5.61MB/s    in 6.2s    \n",
            "\n",
            "2024-05-21 12:28:17 (3.95 MB/s) - ‘dataset_tsmc2014.zip’ saved [25546284/25546284]\n",
            "\n",
            "Archive:  dataset_tsmc2014.zip\n",
            "   creating: dataset_tsmc2014/\n",
            "  inflating: dataset_tsmc2014/dataset_TSMC2014_NYC.txt  \n",
            "  inflating: dataset_tsmc2014/dataset_TSMC2014_readme.txt  \n",
            "  inflating: dataset_tsmc2014/dataset_TSMC2014_TKY.txt  \n"
          ]
        }
      ],
      "source": [
        "#import pandas as pd\n",
        "!wget http://www-public.tem-tsp.eu/~zhang_da/pub/dataset_tsmc2014.zip\n",
        "!unzip dataset_tsmc2014.zip"
      ]
    },
    {
      "cell_type": "code",
      "execution_count": 6,
      "id": "c201ab83",
      "metadata": {
        "id": "c201ab83"
      },
      "outputs": [],
      "source": [
        "import pandas as pd\n",
        "columns = ['User ID',\n",
        " 'Venue ID',\n",
        " 'Venue category ID',\n",
        " 'Venue category name',\n",
        " 'Latitude',\n",
        " 'Longitude',\n",
        " 'Timezone',\n",
        " 'UTC time']"
      ]
    },
    {
      "cell_type": "code",
      "execution_count": 7,
      "id": "1a36d1da",
      "metadata": {
        "colab": {
          "base_uri": "https://localhost:8080/"
        },
        "id": "1a36d1da",
        "outputId": "28bb1553-94c0-4f43-9278-0811bfa3c5e9"
      },
      "outputs": [
        {
          "output_type": "stream",
          "name": "stdout",
          "text": [
            "        User ID                  Venue ID         Venue category ID  \\\n",
            "42651       667  4e3cb594fa76455375af1684  4bf58dd8d48988d103941735   \n",
            "63402       424  4a32c3f9f964a5208c9a1fe3  4bf58dd8d48988d1df941735   \n",
            "211582      463  4fbc40f5e4b0cc7b013f2642  4bf58dd8d48988d120941735   \n",
            "171125       25  4bb494c2f038a5935b29daf0  4bf58dd8d48988d124941735   \n",
            "164508      570  45938647f964a52045401fe3  4bf58dd8d48988d175941735   \n",
            "58374       178  4bfade10ab180f475e11b3ce  4bf58dd8d48988d122951735   \n",
            "182287      806  49cae9c7f964a520ef581fe3  4bf58dd8d48988d121941735   \n",
            "86066       289  4ad8795ff964a520a21121e3  4bf58dd8d48988d129951735   \n",
            "6536        280  4a3d735cf964a5204ba21fe3  4bf58dd8d48988d1f6941735   \n",
            "21636       240  4ab3da04f964a520c36e20e3  4bf58dd8d48988d1c1941735   \n",
            "140182      236  4e24cec8d4c04ce22533785e  4bf58dd8d48988d1ca941735   \n",
            "222612      263  4a94318cf964a520b32020e3  4bf58dd8d48988d124941735   \n",
            "177321       82  4a19b667f964a5203a7a1fe3  4bf58dd8d48988d114951735   \n",
            "130579      213  4b983c11f964a520273635e3  4bf58dd8d48988d124941735   \n",
            "66770       621  4de02100d4c040523e9ce093  4d954b06a243a5684965b473   \n",
            "51388       499  4fa43707e4b021753729f7c3  4bf58dd8d48988d103941735   \n",
            "225671      707  4f68de6bd5fbee32e5f4f3a5  50327c8591d4c4b30a586d5d   \n",
            "175068     1083  453cacc7f964a520153c1fe3  4bf58dd8d48988d180941735   \n",
            "36944       920  4f2f53f0e4b040ea0137ec59  4bf58dd8d48988d1f9931735   \n",
            "79969       638  4e87e08d93ad69fee81d7c9d  4bf58dd8d48988d176941735   \n",
            "128728      181  4fc6d424e4b08f659ecd5278  4f2a25ac4b909258e854f55f   \n",
            "223793      953  4f5e82dae4b01989c438cbb6  4bf58dd8d48988d1e0931735   \n",
            "92754       427  4b54d7bff964a52043cf27e3  4bf58dd8d48988d169941735   \n",
            "3622        371  4f383f94e4b0a67fed23961d  4bf58dd8d48988d1c4941735   \n",
            "211667      806  4abadd53f964a520338320e3  4bf58dd8d48988d1d8941735   \n",
            "45449      1082  4b64b313f964a52059c92ae3  4bf58dd8d48988d1fd931735   \n",
            "208322      761  4a4821f5f964a52095aa1fe3  4bf58dd8d48988d1f9931735   \n",
            "165338      885  4a8a998af964a5202b0a20e3  4bf58dd8d48988d1e0931735   \n",
            "185419      277  4b9673caf964a52011cd34e3  4bf58dd8d48988d174941735   \n",
            "94961       106  3fd66200f964a520b3e71ee3  4bf58dd8d48988d11b941735   \n",
            "102191     1070  4ab5817ef964a5200c7520e3  4bf58dd8d48988d176941735   \n",
            "80243       599  4b61c9e6f964a520ef222ae3  4bf58dd8d48988d1c5941735   \n",
            "78256       861  4acbf979f964a5207fc820e3  4bf58dd8d48988d176941735   \n",
            "110957     1072  4a8e031cf964a520be1120e3  4bf58dd8d48988d116941735   \n",
            "93763       448  4d9085bad00a6ea8938ce54f  4bf58dd8d48988d12b951735   \n",
            "138720      354  4b3a1855f964a520026125e3  4bf58dd8d48988d1fd931735   \n",
            "134034      823  3fd66200f964a520cee51ee3  4bf58dd8d48988d14e941735   \n",
            "212840     1043  4c0eaf037189c92864e5d8b6  4bf58dd8d48988d113951735   \n",
            "73507        79  4bd75e14885595213e5f87a7  4bf58dd8d48988d1f1931735   \n",
            "183560      727  4f5eae8be4b0f5c1d0b02144  4bf58dd8d48988d176941735   \n",
            "102129      557  4a9da316f964a520c03820e3  4bf58dd8d48988d101941735   \n",
            "69344       662  4a19b507f964a520347a1fe3  4bf58dd8d48988d1e0931735   \n",
            "29879        95  4a35a5f5f964a520439d1fe3  4bf58dd8d48988d11b941735   \n",
            "127733      193  4b37a3c9f964a5207e4325e3  4bf58dd8d48988d181941735   \n",
            "17270      1072  40fc6080f964a5201d0b1fe3  4bf58dd8d48988d121941735   \n",
            "102882      449  4ad0da75f964a52069da20e3  4bf58dd8d48988d104951735   \n",
            "64066       894  4e8078cbbe7b17b3811b1393  4d4b7105d754a06374d81259   \n",
            "72429       531  4f4daa8fe4b0b0a214b444c3  4bf58dd8d48988d103941735   \n",
            "102369     1062  4e5d3ee6aeb73819c62f46ad  4bf58dd8d48988d162941735   \n",
            "93344       515  4fca2e40e4b06cdf3ab94063  4bf58dd8d48988d1f2931735   \n",
            "\n",
            "                             Venue category name   Latitude  Longitude  \\\n",
            "42651                             Home (private)  40.927147 -74.118123   \n",
            "63402                                     Bridge  40.705888 -73.990002   \n",
            "211582                                       Bar  40.764031 -73.984036   \n",
            "171125                                    Office  40.761383 -73.971659   \n",
            "164508                      Gym / Fitness Center  40.774507 -73.981370   \n",
            "58374                          Electronics Store  40.750801 -73.991299   \n",
            "182287                                       Bar  40.722649 -73.986257   \n",
            "86066                              Train Station  40.861493 -73.890580   \n",
            "6536                            Department Store  40.751559 -73.982638   \n",
            "21636                         Mexican Restaurant  40.731129 -73.993531   \n",
            "140182                               Pizza Place  40.760640 -73.987385   \n",
            "222612                                    Office  40.725050 -73.996860   \n",
            "177321                                 Bookstore  40.780119 -73.776498   \n",
            "130579                                    Office  40.749631 -73.975436   \n",
            "66770   Residential Building (Apartment / Condo)  40.813941 -73.989990   \n",
            "51388                             Home (private)  40.701425 -73.918346   \n",
            "225671                                   Brewery  40.778332 -73.901789   \n",
            "175068                             Movie Theater  40.742762 -73.976923   \n",
            "36944                                       Road  40.724913 -73.869624   \n",
            "79969                       Gym / Fitness Center  40.854324 -73.867781   \n",
            "128728                              Neighborhood  40.576837 -73.981651   \n",
            "223793                               Coffee Shop  40.758702 -73.978529   \n",
            "92754                      Australian Restaurant  40.783572 -73.979551   \n",
            "3622                                  Restaurant  40.780077 -73.792654   \n",
            "211667                                       Bar  40.761714 -73.993950   \n",
            "45449                                     Subway  40.630728 -73.977170   \n",
            "208322                                      Road  40.761171 -74.011288   \n",
            "165338                               Coffee Shop  40.709647 -74.010517   \n",
            "185419                                    Office  40.755253 -73.979459   \n",
            "94961                                        Bar  40.765682 -73.979712   \n",
            "102191                      Gym / Fitness Center  40.697803 -73.994145   \n",
            "80243                             Sandwich Place  40.753620 -73.992606   \n",
            "78256                       Gym / Fitness Center  40.801907 -74.170325   \n",
            "110957                                       Bar  40.722405 -73.955230   \n",
            "93763                                Bus Station  40.771465 -74.020748   \n",
            "138720                                    Subway  40.691475 -73.987384   \n",
            "134034                       American Restaurant  40.741797 -73.997271   \n",
            "212840                      Gas Station / Garage  40.711624 -73.858220   \n",
            "73507                      General Entertainment  40.745150 -73.992267   \n",
            "183560                      Gym / Fitness Center  40.753031 -73.985864   \n",
            "102129                      Gym / Fitness Center  40.719269 -74.001715   \n",
            "69344                                Coffee Shop  40.718090 -73.999999   \n",
            "29879                                        Bar  40.755547 -73.968565   \n",
            "127733                                    Museum  40.714786 -73.993512   \n",
            "17270                                        Bar  40.721148 -73.989378   \n",
            "102882                            Clothing Store  40.719657 -74.000406   \n",
            "64066                                       Food  40.664941 -73.915840   \n",
            "72429                             Home (private)  40.935081 -73.965371   \n",
            "102369                      Other Great Outdoors  40.759150 -73.829848   \n",
            "93344                      Performing Arts Venue  40.726356 -73.982116   \n",
            "\n",
            "        Timezone                        UTC time  \n",
            "42651       -240  Sun Apr 29 06:58:55 +0000 2012  \n",
            "63402       -240  Sat May 12 22:02:35 +0000 2012  \n",
            "211582      -300  Sun Jan 13 04:41:47 +0000 2013  \n",
            "171125      -300  Mon Nov 05 13:16:26 +0000 2012  \n",
            "164508      -240  Wed Oct 24 12:26:44 +0000 2012  \n",
            "58374       -240  Thu May 10 16:24:04 +0000 2012  \n",
            "182287      -300  Sat Nov 24 08:20:22 +0000 2012  \n",
            "86066       -240  Mon May 28 04:39:13 +0000 2012  \n",
            "6536        -240  Mon Apr 09 14:27:12 +0000 2012  \n",
            "21636       -240  Tue Apr 17 22:36:15 +0000 2012  \n",
            "140182      -240  Sat Jul 28 07:55:53 +0000 2012  \n",
            "222612      -300  Tue Feb 05 13:14:04 +0000 2013  \n",
            "177321      -300  Fri Nov 16 22:19:41 +0000 2012  \n",
            "130579      -240  Thu Jul 12 12:57:01 +0000 2012  \n",
            "66770       -240  Mon May 14 14:04:40 +0000 2012  \n",
            "51388       -240  Sat May 05 22:12:04 +0000 2012  \n",
            "225671      -300  Tue Feb 12 00:54:30 +0000 2013  \n",
            "175068      -300  Sun Nov 11 23:08:52 +0000 2012  \n",
            "36944       -240  Wed Apr 25 23:41:14 +0000 2012  \n",
            "79969       -240  Tue May 22 14:52:32 +0000 2012  \n",
            "128728      -240  Wed Jul 11 04:17:18 +0000 2012  \n",
            "223793      -300  Thu Feb 07 13:36:01 +0000 2013  \n",
            "92754       -240  Sun Jun 03 03:50:33 +0000 2012  \n",
            "3622        -240  Sat Apr 07 17:22:36 +0000 2012  \n",
            "211667      -300  Sun Jan 13 08:16:18 +0000 2013  \n",
            "45449       -240  Thu May 03 10:57:07 +0000 2012  \n",
            "208322      -300  Mon Jan 07 22:53:01 +0000 2013  \n",
            "165338      -240  Thu Oct 25 10:15:44 +0000 2012  \n",
            "185419      -300  Fri Nov 30 15:19:02 +0000 2012  \n",
            "94961       -240  Mon Jun 04 20:54:58 +0000 2012  \n",
            "102191      -240  Sat Jun 09 14:27:43 +0000 2012  \n",
            "80243       -240  Wed May 23 17:24:24 +0000 2012  \n",
            "78256       -240  Mon May 21 17:33:23 +0000 2012  \n",
            "110957      -240  Sun Jun 17 01:20:28 +0000 2012  \n",
            "93763       -240  Sun Jun 03 20:11:31 +0000 2012  \n",
            "138720      -240  Tue Jul 24 11:36:32 +0000 2012  \n",
            "134034      -240  Sun Jul 15 19:19:22 +0000 2012  \n",
            "212840      -300  Tue Jan 15 19:13:30 +0000 2013  \n",
            "73507       -240  Thu May 17 16:56:15 +0000 2012  \n",
            "183560      -300  Mon Nov 26 12:19:59 +0000 2012  \n",
            "102129      -240  Sat Jun 09 13:40:26 +0000 2012  \n",
            "69344       -240  Tue May 15 18:31:01 +0000 2012  \n",
            "29879       -240  Sun Apr 22 02:54:32 +0000 2012  \n",
            "127733      -240  Mon Jul 09 17:17:09 +0000 2012  \n",
            "17270       -240  Sun Apr 15 03:32:22 +0000 2012  \n",
            "102882      -240  Sat Jun 09 21:36:32 +0000 2012  \n",
            "64066       -240  Sun May 13 03:45:36 +0000 2012  \n",
            "72429       -240  Thu May 17 02:27:15 +0000 2012  \n",
            "102369      -240  Sat Jun 09 16:38:29 +0000 2012  \n",
            "93344       -240  Sun Jun 03 15:47:56 +0000 2012  \n"
          ]
        }
      ],
      "source": [
        "NUMCHECKIN = 30000\n",
        "\n",
        "df = pd.read_csv('dataset_tsmc2014/dataset_TSMC2014_NYC.txt', sep='\\t', encoding='latin-1', names=columns)\n",
        "df = df.sample(NUMCHECKIN)\n",
        "print(df)"
      ]
    },
    {
      "cell_type": "code",
      "source": [
        "from sklearn.preprocessing import LabelEncoder\n",
        "\n",
        "\n",
        "le = LabelEncoder()\n",
        "df['Venue ID'] = le.fit_transform(df['Venue ID'])\n",
        "df['Venue category ID'] = le.fit_transform(df['Venue category ID'])\n",
        "df.drop(['Venue category name'],axis=1,inplace=True)\n",
        "print(df)"
      ],
      "metadata": {
        "colab": {
          "base_uri": "https://localhost:8080/"
        },
        "id": "-ByntkrZYdH8",
        "outputId": "0d585cc7-4941-44d5-b032-9d8b576dbeef"
      },
      "id": "-ByntkrZYdH8",
      "execution_count": 8,
      "outputs": [
        {
          "output_type": "stream",
          "name": "stdout",
          "text": [
            "        User ID  Venue ID  Venue category ID   Latitude  Longitude  Timezone  \\\n",
            "42651       667        36                  1  40.927147 -74.118123      -240   \n",
            "63402       424         8                 26  40.705888 -73.990002      -240   \n",
            "211582      463        47                  7  40.764031 -73.984036      -300   \n",
            "171125       25        29                 10  40.761383 -73.971659      -300   \n",
            "164508      570         4                 17  40.774507 -73.981370      -240   \n",
            "58374       178        31                  9  40.750801 -73.991299      -240   \n",
            "182287      806         5                  8  40.722649 -73.986257      -300   \n",
            "86066       289        21                 11  40.861493 -73.890580      -240   \n",
            "6536        280        10                 30  40.751559 -73.982638      -240   \n",
            "21636       240        16                 21  40.731129 -73.993531      -240   \n",
            "140182      236        35                 24  40.760640 -73.987385      -240   \n",
            "222612      263        14                 10  40.725050 -73.996860      -300   \n",
            "177321       82         7                  4  40.780119 -73.776498      -300   \n",
            "130579      213        28                 10  40.749631 -73.975436      -240   \n",
            "66770       621        34                 34  40.813941 -73.989990      -240   \n",
            "51388       499        46                  1  40.701425 -73.918346      -240   \n",
            "225671      707        45                 36  40.778332 -73.901789      -300   \n",
            "175068     1083         3                 19  40.742762 -73.976923      -300   \n",
            "36944       920        40                 31  40.724913 -73.869624      -240   \n",
            "79969       638        39                 18  40.854324 -73.867781      -240   \n",
            "128728      181        48                 35  40.576837 -73.981651      -240   \n",
            "223793      953        43                 27  40.758702 -73.978529      -300   \n",
            "92754       427        24                 15  40.783572 -73.979551      -240   \n",
            "3622        371        41                 22  40.780077 -73.792654      -240   \n",
            "211667      806        18                 25  40.761714 -73.993950      -300   \n",
            "45449      1082        26                 32  40.630728 -73.977170      -240   \n",
            "208322      761        11                 31  40.761171 -74.011288      -300   \n",
            "165338      885        12                 27  40.709647 -74.010517      -240   \n",
            "185419      277        27                 16  40.755253 -73.979459      -300   \n",
            "94961       106         0                  6  40.765682 -73.979712      -240   \n",
            "102191     1070        17                 18  40.697803 -73.994145      -240   \n",
            "80243       599        25                 23  40.753620 -73.992606      -240   \n",
            "78256       861        19                 18  40.801907 -74.170325      -240   \n",
            "110957     1072        13                  5  40.722405 -73.955230      -240   \n",
            "93763       448        33                 12  40.771465 -74.020748      -240   \n",
            "138720      354        23                 32  40.691475 -73.987384      -240   \n",
            "134034      823         1                 13  40.741797 -73.997271      -240   \n",
            "212840     1043        32                  3  40.711624 -73.858220      -300   \n",
            "73507        79        30                 28  40.745150 -73.992267      -240   \n",
            "183560      727        44                 18  40.753031 -73.985864      -300   \n",
            "102129      557        15                  0  40.719269 -74.001715      -240   \n",
            "69344       662         6                 27  40.718090 -73.999999      -240   \n",
            "29879        95         9                  6  40.755547 -73.968565      -240   \n",
            "127733      193        22                 20  40.714786 -73.993512      -240   \n",
            "17270      1072         2                  8  40.721148 -73.989378      -240   \n",
            "102882      449        20                  2  40.719657 -74.000406      -240   \n",
            "64066       894        38                 33  40.664941 -73.915840      -240   \n",
            "72429       531        42                  1  40.935081 -73.965371      -240   \n",
            "102369     1062        37                 14  40.759150 -73.829848      -240   \n",
            "93344       515        49                 29  40.726356 -73.982116      -240   \n",
            "\n",
            "                              UTC time  \n",
            "42651   Sun Apr 29 06:58:55 +0000 2012  \n",
            "63402   Sat May 12 22:02:35 +0000 2012  \n",
            "211582  Sun Jan 13 04:41:47 +0000 2013  \n",
            "171125  Mon Nov 05 13:16:26 +0000 2012  \n",
            "164508  Wed Oct 24 12:26:44 +0000 2012  \n",
            "58374   Thu May 10 16:24:04 +0000 2012  \n",
            "182287  Sat Nov 24 08:20:22 +0000 2012  \n",
            "86066   Mon May 28 04:39:13 +0000 2012  \n",
            "6536    Mon Apr 09 14:27:12 +0000 2012  \n",
            "21636   Tue Apr 17 22:36:15 +0000 2012  \n",
            "140182  Sat Jul 28 07:55:53 +0000 2012  \n",
            "222612  Tue Feb 05 13:14:04 +0000 2013  \n",
            "177321  Fri Nov 16 22:19:41 +0000 2012  \n",
            "130579  Thu Jul 12 12:57:01 +0000 2012  \n",
            "66770   Mon May 14 14:04:40 +0000 2012  \n",
            "51388   Sat May 05 22:12:04 +0000 2012  \n",
            "225671  Tue Feb 12 00:54:30 +0000 2013  \n",
            "175068  Sun Nov 11 23:08:52 +0000 2012  \n",
            "36944   Wed Apr 25 23:41:14 +0000 2012  \n",
            "79969   Tue May 22 14:52:32 +0000 2012  \n",
            "128728  Wed Jul 11 04:17:18 +0000 2012  \n",
            "223793  Thu Feb 07 13:36:01 +0000 2013  \n",
            "92754   Sun Jun 03 03:50:33 +0000 2012  \n",
            "3622    Sat Apr 07 17:22:36 +0000 2012  \n",
            "211667  Sun Jan 13 08:16:18 +0000 2013  \n",
            "45449   Thu May 03 10:57:07 +0000 2012  \n",
            "208322  Mon Jan 07 22:53:01 +0000 2013  \n",
            "165338  Thu Oct 25 10:15:44 +0000 2012  \n",
            "185419  Fri Nov 30 15:19:02 +0000 2012  \n",
            "94961   Mon Jun 04 20:54:58 +0000 2012  \n",
            "102191  Sat Jun 09 14:27:43 +0000 2012  \n",
            "80243   Wed May 23 17:24:24 +0000 2012  \n",
            "78256   Mon May 21 17:33:23 +0000 2012  \n",
            "110957  Sun Jun 17 01:20:28 +0000 2012  \n",
            "93763   Sun Jun 03 20:11:31 +0000 2012  \n",
            "138720  Tue Jul 24 11:36:32 +0000 2012  \n",
            "134034  Sun Jul 15 19:19:22 +0000 2012  \n",
            "212840  Tue Jan 15 19:13:30 +0000 2013  \n",
            "73507   Thu May 17 16:56:15 +0000 2012  \n",
            "183560  Mon Nov 26 12:19:59 +0000 2012  \n",
            "102129  Sat Jun 09 13:40:26 +0000 2012  \n",
            "69344   Tue May 15 18:31:01 +0000 2012  \n",
            "29879   Sun Apr 22 02:54:32 +0000 2012  \n",
            "127733  Mon Jul 09 17:17:09 +0000 2012  \n",
            "17270   Sun Apr 15 03:32:22 +0000 2012  \n",
            "102882  Sat Jun 09 21:36:32 +0000 2012  \n",
            "64066   Sun May 13 03:45:36 +0000 2012  \n",
            "72429   Thu May 17 02:27:15 +0000 2012  \n",
            "102369  Sat Jun 09 16:38:29 +0000 2012  \n",
            "93344   Sun Jun 03 15:47:56 +0000 2012  \n"
          ]
        }
      ]
    },
    {
      "cell_type": "code",
      "execution_count": null,
      "id": "bcdafdb6",
      "metadata": {
        "id": "bcdafdb6"
      },
      "outputs": [],
      "source": [
        "from datetime import datetime\n",
        "\n",
        "def str2date(date_str):\n",
        "\n",
        "    parsed_date = datetime.strptime(date_str, \"%a %b %d %H:%M:%S\")\n",
        "    print(parsed_date)"
      ]
    },
    {
      "cell_type": "code",
      "execution_count": 9,
      "id": "184078b5",
      "metadata": {
        "id": "184078b5"
      },
      "outputs": [],
      "source": [
        "import math\n",
        "\n",
        "def distance_between_coordinates(lat1, lon1, lat2, lon2):\n",
        "    radius = 6371  # Radius of the Earth in km\n",
        "\n",
        "    # Convert latitude and longitude from degrees to radians\n",
        "    lat1 = math.radians(lat1)\n",
        "    lon1 = math.radians(lon1)\n",
        "    lat2 = math.radians(lat2)\n",
        "    lon2 = math.radians(lon2)\n",
        "\n",
        "    # Calculate the differences in latitude and longitude<\n",
        "    d_lat = lat2 - lat1\n",
        "    d_lon = lon2 - lon1\n",
        "\n",
        "    # Calculate the distance using the Haversine formula\n",
        "    a = math.sin(d_lat/2) * math.sin(d_lat/2) + math.cos(lat1) * math.cos(lat2) * math.sin(d_lon/2) * math.sin(d_lon/2)\n",
        "    c = 2 * math.atan2(math.sqrt(a), math.sqrt(1-a))\n",
        "    distance = radius * c\n",
        "\n",
        "    return distance"
      ]
    },
    {
      "cell_type": "code",
      "execution_count": null,
      "id": "9a7233d1",
      "metadata": {
        "colab": {
          "base_uri": "https://localhost:8080/"
        },
        "id": "9a7233d1",
        "outputId": "e095bd8e-8d07-4830-e471-dd14172eb750"
      },
      "outputs": [
        {
          "output_type": "stream",
          "name": "stdout",
          "text": [
            "2.8819941850086326\n"
          ]
        }
      ],
      "source": [
        "print(distance_between_coordinates(40.719810,-74.002581,40.735981, -74.029309))"
      ]
    },
    {
      "cell_type": "code",
      "execution_count": 10,
      "id": "f614c60a",
      "metadata": {
        "scrolled": true,
        "id": "f614c60a",
        "colab": {
          "base_uri": "https://localhost:8080/"
        },
        "outputId": "3bb3f804-3f72-4100-cd2b-bab643bafa8f"
      },
      "outputs": [
        {
          "output_type": "stream",
          "name": "stdout",
          "text": [
            "        Venue ID   Latitude  Longitude  Venue category ID\n",
            "42651         36  40.927147 -74.118123                  1\n",
            "63402          8  40.705888 -73.990002                 26\n",
            "211582        47  40.764031 -73.984036                  7\n",
            "171125        29  40.761383 -73.971659                 10\n",
            "164508         4  40.774507 -73.981370                 17\n",
            "58374         31  40.750801 -73.991299                  9\n",
            "182287         5  40.722649 -73.986257                  8\n",
            "86066         21  40.861493 -73.890580                 11\n",
            "6536          10  40.751559 -73.982638                 30\n",
            "21636         16  40.731129 -73.993531                 21\n",
            "140182        35  40.760640 -73.987385                 24\n",
            "222612        14  40.725050 -73.996860                 10\n",
            "177321         7  40.780119 -73.776498                  4\n",
            "130579        28  40.749631 -73.975436                 10\n",
            "66770         34  40.813941 -73.989990                 34\n",
            "51388         46  40.701425 -73.918346                  1\n",
            "225671        45  40.778332 -73.901789                 36\n",
            "175068         3  40.742762 -73.976923                 19\n",
            "36944         40  40.724913 -73.869624                 31\n",
            "79969         39  40.854324 -73.867781                 18\n",
            "128728        48  40.576837 -73.981651                 35\n",
            "223793        43  40.758702 -73.978529                 27\n",
            "92754         24  40.783572 -73.979551                 15\n",
            "3622          41  40.780077 -73.792654                 22\n",
            "211667        18  40.761714 -73.993950                 25\n",
            "45449         26  40.630728 -73.977170                 32\n",
            "208322        11  40.761171 -74.011288                 31\n",
            "165338        12  40.709647 -74.010517                 27\n",
            "185419        27  40.755253 -73.979459                 16\n",
            "94961          0  40.765682 -73.979712                  6\n",
            "102191        17  40.697803 -73.994145                 18\n",
            "80243         25  40.753620 -73.992606                 23\n",
            "78256         19  40.801907 -74.170325                 18\n",
            "110957        13  40.722405 -73.955230                  5\n",
            "93763         33  40.771465 -74.020748                 12\n",
            "138720        23  40.691475 -73.987384                 32\n",
            "134034         1  40.741797 -73.997271                 13\n",
            "212840        32  40.711624 -73.858220                  3\n",
            "73507         30  40.745150 -73.992267                 28\n",
            "183560        44  40.753031 -73.985864                 18\n",
            "102129        15  40.719269 -74.001715                  0\n",
            "69344          6  40.718090 -73.999999                 27\n",
            "29879          9  40.755547 -73.968565                  6\n",
            "127733        22  40.714786 -73.993512                 20\n",
            "17270          2  40.721148 -73.989378                  8\n",
            "102882        20  40.719657 -74.000406                  2\n",
            "64066         38  40.664941 -73.915840                 33\n",
            "72429         42  40.935081 -73.965371                  1\n",
            "102369        37  40.759150 -73.829848                 14\n",
            "93344         49  40.726356 -73.982116                 29\n"
          ]
        }
      ],
      "source": [
        "venuesdf = df[['Venue ID','Latitude','Longitude','Venue category ID']].drop_duplicates(subset=['Venue ID'])\n",
        "print(venuesdf)\n"
      ]
    },
    {
      "cell_type": "code",
      "source": [
        "!pip3 install torch --index-url https://download.pytorch.org/whl/${CUDA}\n",
        "import torch\n",
        "print(torch.__version__)\n",
        "print(torch.version.cuda)\n",
        "!pip install torch-geometric \\\n",
        "  torch-sparse \\\n",
        "  torch-scatter \\\n",
        "  torch-cluster \\\n",
        "  -f https://pytorch-geometric.com/whl/torch-2.2.0+cu121.html"
      ],
      "metadata": {
        "colab": {
          "base_uri": "https://localhost:8080/"
        },
        "id": "wOEGNi0V-mhi",
        "outputId": "fc6f35d2-0116-4dca-b04f-712427bf8c1b"
      },
      "id": "wOEGNi0V-mhi",
      "execution_count": 1,
      "outputs": [
        {
          "output_type": "stream",
          "name": "stdout",
          "text": [
            "Looking in indexes: https://download.pytorch.org/whl/\n",
            "Requirement already satisfied: torch in /usr/local/lib/python3.10/dist-packages (2.2.1+cu121)\n",
            "Requirement already satisfied: filelock in /usr/local/lib/python3.10/dist-packages (from torch) (3.14.0)\n",
            "Requirement already satisfied: typing-extensions>=4.8.0 in /usr/local/lib/python3.10/dist-packages (from torch) (4.11.0)\n",
            "Requirement already satisfied: sympy in /usr/local/lib/python3.10/dist-packages (from torch) (1.12)\n",
            "Requirement already satisfied: networkx in /usr/local/lib/python3.10/dist-packages (from torch) (3.3)\n",
            "Requirement already satisfied: jinja2 in /usr/local/lib/python3.10/dist-packages (from torch) (3.1.4)\n",
            "Requirement already satisfied: fsspec in /usr/local/lib/python3.10/dist-packages (from torch) (2023.6.0)\n",
            "Collecting nvidia-cuda-nvrtc-cu12==12.1.105 (from torch)\n",
            "  Downloading https://download.pytorch.org/whl/cu121/nvidia_cuda_nvrtc_cu12-12.1.105-py3-none-manylinux1_x86_64.whl (23.7 MB)\n",
            "\u001b[2K     \u001b[90m━━━━━━━━━━━━━━━━━━━━━━━━━━━━━━━━━━━━━━━━\u001b[0m \u001b[32m23.7/23.7 MB\u001b[0m \u001b[31m17.2 MB/s\u001b[0m eta \u001b[36m0:00:00\u001b[0m\n",
            "\u001b[?25hCollecting nvidia-cuda-runtime-cu12==12.1.105 (from torch)\n",
            "  Downloading https://download.pytorch.org/whl/cu121/nvidia_cuda_runtime_cu12-12.1.105-py3-none-manylinux1_x86_64.whl (823 kB)\n",
            "\u001b[2K     \u001b[90m━━━━━━━━━━━━━━━━━━━━━━━━━━━━━━━━━━━━━━━━\u001b[0m \u001b[32m823.6/823.6 kB\u001b[0m \u001b[31m10.0 MB/s\u001b[0m eta \u001b[36m0:00:00\u001b[0m\n",
            "\u001b[?25hCollecting nvidia-cuda-cupti-cu12==12.1.105 (from torch)\n",
            "  Downloading https://download.pytorch.org/whl/cu121/nvidia_cuda_cupti_cu12-12.1.105-py3-none-manylinux1_x86_64.whl (14.1 MB)\n",
            "\u001b[2K     \u001b[90m━━━━━━━━━━━━━━━━━━━━━━━━━━━━━━━━━━━━━━━━\u001b[0m \u001b[32m14.1/14.1 MB\u001b[0m \u001b[31m26.5 MB/s\u001b[0m eta \u001b[36m0:00:00\u001b[0m\n",
            "\u001b[?25hCollecting nvidia-cudnn-cu12==8.9.2.26 (from torch)\n",
            "  Downloading https://download.pytorch.org/whl/cu121/nvidia_cudnn_cu12-8.9.2.26-py3-none-manylinux1_x86_64.whl (731.7 MB)\n",
            "\u001b[2K     \u001b[90m━━━━━━━━━━━━━━━━━━━━━━━━━━━━━━━━━━━━━━━━\u001b[0m \u001b[32m731.7/731.7 MB\u001b[0m \u001b[31m1.3 MB/s\u001b[0m eta \u001b[36m0:00:00\u001b[0m\n",
            "\u001b[?25hCollecting nvidia-cublas-cu12==12.1.3.1 (from torch)\n",
            "  Downloading https://download.pytorch.org/whl/cu121/nvidia_cublas_cu12-12.1.3.1-py3-none-manylinux1_x86_64.whl (410.6 MB)\n",
            "\u001b[2K     \u001b[90m━━━━━━━━━━━━━━━━━━━━━━━━━━━━━━━━━━━━━━━━\u001b[0m \u001b[32m410.6/410.6 MB\u001b[0m \u001b[31m2.9 MB/s\u001b[0m eta \u001b[36m0:00:00\u001b[0m\n",
            "\u001b[?25hCollecting nvidia-cufft-cu12==11.0.2.54 (from torch)\n",
            "  Downloading https://download.pytorch.org/whl/cu121/nvidia_cufft_cu12-11.0.2.54-py3-none-manylinux1_x86_64.whl (121.6 MB)\n",
            "\u001b[2K     \u001b[90m━━━━━━━━━━━━━━━━━━━━━━━━━━━━━━━━━━━━━━━━\u001b[0m \u001b[32m121.6/121.6 MB\u001b[0m \u001b[31m8.6 MB/s\u001b[0m eta \u001b[36m0:00:00\u001b[0m\n",
            "\u001b[?25hCollecting nvidia-curand-cu12==10.3.2.106 (from torch)\n",
            "  Downloading https://download.pytorch.org/whl/cu121/nvidia_curand_cu12-10.3.2.106-py3-none-manylinux1_x86_64.whl (56.5 MB)\n",
            "\u001b[2K     \u001b[90m━━━━━━━━━━━━━━━━━━━━━━━━━━━━━━━━━━━━━━━━\u001b[0m \u001b[32m56.5/56.5 MB\u001b[0m \u001b[31m10.5 MB/s\u001b[0m eta \u001b[36m0:00:00\u001b[0m\n",
            "\u001b[?25hCollecting nvidia-cusolver-cu12==11.4.5.107 (from torch)\n",
            "  Downloading https://download.pytorch.org/whl/cu121/nvidia_cusolver_cu12-11.4.5.107-py3-none-manylinux1_x86_64.whl (124.2 MB)\n",
            "\u001b[2K     \u001b[90m━━━━━━━━━━━━━━━━━━━━━━━━━━━━━━━━━━━━━━━━\u001b[0m \u001b[32m124.2/124.2 MB\u001b[0m \u001b[31m8.4 MB/s\u001b[0m eta \u001b[36m0:00:00\u001b[0m\n",
            "\u001b[?25hCollecting nvidia-cusparse-cu12==12.1.0.106 (from torch)\n",
            "  Downloading https://download.pytorch.org/whl/cu121/nvidia_cusparse_cu12-12.1.0.106-py3-none-manylinux1_x86_64.whl (196.0 MB)\n",
            "\u001b[2K     \u001b[90m━━━━━━━━━━━━━━━━━━━━━━━━━━━━━━━━━━━━━━━━\u001b[0m \u001b[32m196.0/196.0 MB\u001b[0m \u001b[31m2.2 MB/s\u001b[0m eta \u001b[36m0:00:00\u001b[0m\n",
            "\u001b[?25hCollecting nvidia-nccl-cu12==2.19.3 (from torch)\n",
            "  Downloading https://download.pytorch.org/whl/cu121/nvidia_nccl_cu12-2.19.3-py3-none-manylinux1_x86_64.whl (166.0 MB)\n",
            "\u001b[2K     \u001b[90m━━━━━━━━━━━━━━━━━━━━━━━━━━━━━━━━━━━━━━━━\u001b[0m \u001b[32m166.0/166.0 MB\u001b[0m \u001b[31m5.7 MB/s\u001b[0m eta \u001b[36m0:00:00\u001b[0m\n",
            "\u001b[?25hCollecting nvidia-nvtx-cu12==12.1.105 (from torch)\n",
            "  Downloading https://download.pytorch.org/whl/cu121/nvidia_nvtx_cu12-12.1.105-py3-none-manylinux1_x86_64.whl (99 kB)\n",
            "\u001b[2K     \u001b[90m━━━━━━━━━━━━━━━━━━━━━━━━━━━━━━━━━━━━━━━━\u001b[0m \u001b[32m99.1/99.1 kB\u001b[0m \u001b[31m11.3 MB/s\u001b[0m eta \u001b[36m0:00:00\u001b[0m\n",
            "\u001b[?25hRequirement already satisfied: triton==2.2.0 in /usr/local/lib/python3.10/dist-packages (from torch) (2.2.0)\n",
            "Collecting nvidia-nvjitlink-cu12 (from nvidia-cusolver-cu12==11.4.5.107->torch)\n",
            "  Downloading https://download.pytorch.org/whl/cu121/nvidia_nvjitlink_cu12-12.1.105-py3-none-manylinux1_x86_64.whl (19.8 MB)\n",
            "\u001b[2K     \u001b[90m━━━━━━━━━━━━━━━━━━━━━━━━━━━━━━━━━━━━━━━━\u001b[0m \u001b[32m19.8/19.8 MB\u001b[0m \u001b[31m51.4 MB/s\u001b[0m eta \u001b[36m0:00:00\u001b[0m\n",
            "\u001b[?25hRequirement already satisfied: MarkupSafe>=2.0 in /usr/local/lib/python3.10/dist-packages (from jinja2->torch) (2.1.5)\n",
            "Requirement already satisfied: mpmath>=0.19 in /usr/local/lib/python3.10/dist-packages (from sympy->torch) (1.3.0)\n",
            "Installing collected packages: nvidia-nvtx-cu12, nvidia-nvjitlink-cu12, nvidia-nccl-cu12, nvidia-curand-cu12, nvidia-cufft-cu12, nvidia-cuda-runtime-cu12, nvidia-cuda-nvrtc-cu12, nvidia-cuda-cupti-cu12, nvidia-cublas-cu12, nvidia-cusparse-cu12, nvidia-cudnn-cu12, nvidia-cusolver-cu12\n",
            "Successfully installed nvidia-cublas-cu12-12.1.3.1 nvidia-cuda-cupti-cu12-12.1.105 nvidia-cuda-nvrtc-cu12-12.1.105 nvidia-cuda-runtime-cu12-12.1.105 nvidia-cudnn-cu12-8.9.2.26 nvidia-cufft-cu12-11.0.2.54 nvidia-curand-cu12-10.3.2.106 nvidia-cusolver-cu12-11.4.5.107 nvidia-cusparse-cu12-12.1.0.106 nvidia-nccl-cu12-2.19.3 nvidia-nvjitlink-cu12-12.1.105 nvidia-nvtx-cu12-12.1.105\n",
            "2.2.1+cu121\n",
            "12.1\n",
            "Looking in links: https://pytorch-geometric.com/whl/torch-2.2.0+cu121.html\n",
            "Collecting torch-geometric\n",
            "  Downloading torch_geometric-2.5.3-py3-none-any.whl (1.1 MB)\n",
            "\u001b[2K     \u001b[90m━━━━━━━━━━━━━━━━━━━━━━━━━━━━━━━━━━━━━━━━\u001b[0m \u001b[32m1.1/1.1 MB\u001b[0m \u001b[31m5.9 MB/s\u001b[0m eta \u001b[36m0:00:00\u001b[0m\n",
            "\u001b[?25hCollecting torch-sparse\n",
            "  Downloading https://data.pyg.org/whl/torch-2.2.0%2Bcu121/torch_sparse-0.6.18%2Bpt22cu121-cp310-cp310-linux_x86_64.whl (5.0 MB)\n",
            "\u001b[2K     \u001b[90m━━━━━━━━━━━━━━━━━━━━━━━━━━━━━━━━━━━━━━━━\u001b[0m \u001b[32m5.0/5.0 MB\u001b[0m \u001b[31m29.9 MB/s\u001b[0m eta \u001b[36m0:00:00\u001b[0m\n",
            "\u001b[?25hCollecting torch-scatter\n",
            "  Downloading https://data.pyg.org/whl/torch-2.2.0%2Bcu121/torch_scatter-2.1.2%2Bpt22cu121-cp310-cp310-linux_x86_64.whl (10.9 MB)\n",
            "\u001b[2K     \u001b[90m━━━━━━━━━━━━━━━━━━━━━━━━━━━━━━━━━━━━━━━━\u001b[0m \u001b[32m10.9/10.9 MB\u001b[0m \u001b[31m51.6 MB/s\u001b[0m eta \u001b[36m0:00:00\u001b[0m\n",
            "\u001b[?25hCollecting torch-cluster\n",
            "  Downloading https://data.pyg.org/whl/torch-2.2.0%2Bcu121/torch_cluster-1.6.3%2Bpt22cu121-cp310-cp310-linux_x86_64.whl (3.4 MB)\n",
            "\u001b[2K     \u001b[90m━━━━━━━━━━━━━━━━━━━━━━━━━━━━━━━━━━━━━━━━\u001b[0m \u001b[32m3.4/3.4 MB\u001b[0m \u001b[31m53.2 MB/s\u001b[0m eta \u001b[36m0:00:00\u001b[0m\n",
            "\u001b[?25hRequirement already satisfied: tqdm in /usr/local/lib/python3.10/dist-packages (from torch-geometric) (4.66.4)\n",
            "Requirement already satisfied: numpy in /usr/local/lib/python3.10/dist-packages (from torch-geometric) (1.25.2)\n",
            "Requirement already satisfied: scipy in /usr/local/lib/python3.10/dist-packages (from torch-geometric) (1.11.4)\n",
            "Requirement already satisfied: fsspec in /usr/local/lib/python3.10/dist-packages (from torch-geometric) (2023.6.0)\n",
            "Requirement already satisfied: jinja2 in /usr/local/lib/python3.10/dist-packages (from torch-geometric) (3.1.4)\n",
            "Requirement already satisfied: aiohttp in /usr/local/lib/python3.10/dist-packages (from torch-geometric) (3.9.5)\n",
            "Requirement already satisfied: requests in /usr/local/lib/python3.10/dist-packages (from torch-geometric) (2.31.0)\n",
            "Requirement already satisfied: pyparsing in /usr/local/lib/python3.10/dist-packages (from torch-geometric) (3.1.2)\n",
            "Requirement already satisfied: scikit-learn in /usr/local/lib/python3.10/dist-packages (from torch-geometric) (1.2.2)\n",
            "Requirement already satisfied: psutil>=5.8.0 in /usr/local/lib/python3.10/dist-packages (from torch-geometric) (5.9.5)\n",
            "Requirement already satisfied: aiosignal>=1.1.2 in /usr/local/lib/python3.10/dist-packages (from aiohttp->torch-geometric) (1.3.1)\n",
            "Requirement already satisfied: attrs>=17.3.0 in /usr/local/lib/python3.10/dist-packages (from aiohttp->torch-geometric) (23.2.0)\n",
            "Requirement already satisfied: frozenlist>=1.1.1 in /usr/local/lib/python3.10/dist-packages (from aiohttp->torch-geometric) (1.4.1)\n",
            "Requirement already satisfied: multidict<7.0,>=4.5 in /usr/local/lib/python3.10/dist-packages (from aiohttp->torch-geometric) (6.0.5)\n",
            "Requirement already satisfied: yarl<2.0,>=1.0 in /usr/local/lib/python3.10/dist-packages (from aiohttp->torch-geometric) (1.9.4)\n",
            "Requirement already satisfied: async-timeout<5.0,>=4.0 in /usr/local/lib/python3.10/dist-packages (from aiohttp->torch-geometric) (4.0.3)\n",
            "Requirement already satisfied: MarkupSafe>=2.0 in /usr/local/lib/python3.10/dist-packages (from jinja2->torch-geometric) (2.1.5)\n",
            "Requirement already satisfied: charset-normalizer<4,>=2 in /usr/local/lib/python3.10/dist-packages (from requests->torch-geometric) (3.3.2)\n",
            "Requirement already satisfied: idna<4,>=2.5 in /usr/local/lib/python3.10/dist-packages (from requests->torch-geometric) (3.7)\n",
            "Requirement already satisfied: urllib3<3,>=1.21.1 in /usr/local/lib/python3.10/dist-packages (from requests->torch-geometric) (2.0.7)\n",
            "Requirement already satisfied: certifi>=2017.4.17 in /usr/local/lib/python3.10/dist-packages (from requests->torch-geometric) (2024.2.2)\n",
            "Requirement already satisfied: joblib>=1.1.1 in /usr/local/lib/python3.10/dist-packages (from scikit-learn->torch-geometric) (1.4.2)\n",
            "Requirement already satisfied: threadpoolctl>=2.0.0 in /usr/local/lib/python3.10/dist-packages (from scikit-learn->torch-geometric) (3.5.0)\n",
            "Installing collected packages: torch-scatter, torch-sparse, torch-cluster, torch-geometric\n",
            "Successfully installed torch-cluster-1.6.3+pt22cu121 torch-geometric-2.5.3 torch-scatter-2.1.2+pt22cu121 torch-sparse-0.6.18+pt22cu121\n"
          ]
        }
      ]
    },
    {
      "cell_type": "code",
      "source": [
        "import networkx as nx\n",
        "venuesdict = venuesdf.to_dict('records')\n",
        "\n",
        "i = 0\n",
        "nodeIds = {}\n",
        "node_attr = []\n",
        "\n",
        "for el in venuesdict:\n",
        "  #print(el['Venue ID'])\n",
        "  nodeIds[el['Venue ID']] = i\n",
        "  node_attr.append(el['Venue category ID'])\n",
        "  i+=1\n",
        "\n",
        "print(len(node_attr))\n"
      ],
      "metadata": {
        "colab": {
          "base_uri": "https://localhost:8080/"
        },
        "id": "peLIawpuCpsl",
        "outputId": "5f54314a-6019-4fbc-c271-7275f5812d26"
      },
      "id": "peLIawpuCpsl",
      "execution_count": 11,
      "outputs": [
        {
          "output_type": "stream",
          "name": "stdout",
          "text": [
            "50\n"
          ]
        }
      ]
    },
    {
      "cell_type": "code",
      "source": [
        "#fast spatial graph construction\n",
        "\n",
        "import networkx as nx\n",
        "venuesdict = venuesdf.to_dict('records')\n",
        "#print(venuesdict)\n",
        "\n",
        "#for el in venuesdict:\n",
        "#  print((el,venuesdict[el]))\n",
        "'''\n",
        "G = nx.Graph()\n",
        "\n",
        "distances = []\n",
        "\n",
        "from tqdm import tqdm\n",
        "\n",
        "for i in tqdm(range(len(venuesdict) - 1)):\n",
        "    if not G.has_node(venuesdict[i]['Venue ID']):\n",
        "        G.add_node(venuesdict[i]['Venue ID'], category=venuesdict[i]['Venue category ID'])\n",
        "\n",
        "    for j in range(i + 1, len(venuesdict)):\n",
        "        if not G.has_node(venuesdict[j]['Venue ID']):\n",
        "            G.add_node(venuesdict[j]['Venue ID'], category=venuesdict[i]['Venue category ID'])\n",
        "\n",
        "        if distance_between_coordinates(venuesdict[i]['Latitude'], venuesdict[i]['Longitude'],\n",
        "                                        venuesdict[j]['Latitude'], venuesdict[j]['Longitude']) < 1:\n",
        "            G.add_edge(venuesdict[i]['Venue ID'], venuesdict[j]['Venue ID'])\n",
        "'''\n",
        "from tqdm import tqdm\n",
        "import torch\n",
        "from torch_geometric.data import Data\n",
        "\n",
        "edge_index = []\n",
        "edges_attr = []\n",
        "\n",
        "for i in tqdm(range(len(venuesdict) - 1)):\n",
        "\n",
        "   #if venuesdict[i]['Venue ID'] not in node_attr:\n",
        "   #  node_attr.append(venuesdict[i]['Venue ID'])\n",
        "\n",
        "   for j in range(i + 1, len(venuesdict)):\n",
        "    #  if venuesdict[j]['Venue ID'] not in node_attr:\n",
        "    #     node_attr.append(venuesdict[j]['Venue ID'])\n",
        "\n",
        "\n",
        "      if distance_between_coordinates(venuesdict[i]['Latitude'], venuesdict[i]['Longitude'],\n",
        "                                    venuesdict[j]['Latitude'], venuesdict[j]['Longitude']) < 1:\n",
        "        edge_index.append([nodeIds[venuesdict[i]['Venue ID']], nodeIds[venuesdict[j]['Venue ID']]])\n",
        "        edges_attr.append(1)\n",
        "\n",
        "spatG = Data(x=torch.tensor(node_attr), edge_index=torch.tensor(edge_index).t().contiguous(), edge_attr=torch.tensor(edges_attr))\n",
        "print(spatG)\n"
      ],
      "metadata": {
        "colab": {
          "base_uri": "https://localhost:8080/"
        },
        "id": "LoL_BQyKFRJL",
        "outputId": "ef717417-eb47-4b36-c58f-d6a4728dc64e"
      },
      "id": "LoL_BQyKFRJL",
      "execution_count": 12,
      "outputs": [
        {
          "output_type": "stream",
          "name": "stderr",
          "text": [
            "100%|██████████| 49/49 [00:00<00:00, 6707.82it/s]"
          ]
        },
        {
          "output_type": "stream",
          "name": "stdout",
          "text": [
            "Data(x=[50], edge_index=[2, 58], edge_attr=[58])\n"
          ]
        },
        {
          "output_type": "stream",
          "name": "stderr",
          "text": [
            "\n"
          ]
        }
      ]
    },
    {
      "cell_type": "code",
      "source": [
        "import pickle\n",
        "\n",
        "#spatpG = G\n",
        "\n",
        "pickle.dump(spatG,open('spatG.pickle','wb'))\n",
        "\n",
        "#data = pickle.load(open('spatG.pickle','rb'))"
      ],
      "metadata": {
        "id": "Blc1bRFSR2cA"
      },
      "id": "Blc1bRFSR2cA",
      "execution_count": 14,
      "outputs": []
    },
    {
      "cell_type": "code",
      "source": [
        "#nx.draw(G)\n",
        "print(spatG)"
      ],
      "metadata": {
        "colab": {
          "base_uri": "https://localhost:8080/"
        },
        "id": "Mxp8l8v7SyTw",
        "outputId": "35e79eb3-88a7-4ef2-88ca-352d3eb5081f"
      },
      "id": "Mxp8l8v7SyTw",
      "execution_count": 15,
      "outputs": [
        {
          "output_type": "stream",
          "name": "stdout",
          "text": [
            "Data(x=[50], edge_index=[2, 58], edge_attr=[58])\n"
          ]
        }
      ]
    },
    {
      "cell_type": "code",
      "execution_count": null,
      "id": "2dbf6439",
      "metadata": {
        "id": "2dbf6439",
        "colab": {
          "base_uri": "https://localhost:8080/",
          "height": 446
        },
        "outputId": "d3ed024f-6477-4b13-bcd1-19d9f0b93733"
      },
      "outputs": [
        {
          "output_type": "stream",
          "name": "stdout",
          "text": [
            "13416\n"
          ]
        },
        {
          "output_type": "error",
          "ename": "KeyboardInterrupt",
          "evalue": "",
          "traceback": [
            "\u001b[0;31m---------------------------------------------------------------------------\u001b[0m",
            "\u001b[0;31mKeyboardInterrupt\u001b[0m                         Traceback (most recent call last)",
            "\u001b[0;32m<ipython-input-11-c07e0247efc5>\u001b[0m in \u001b[0;36m<cell line: 11>\u001b[0;34m()\u001b[0m\n\u001b[1;32m     14\u001b[0m             \u001b[0mspatG\u001b[0m\u001b[0;34m.\u001b[0m\u001b[0madd_node\u001b[0m\u001b[0;34m(\u001b[0m\u001b[0mrow1\u001b[0m\u001b[0;34m[\u001b[0m\u001b[0;34m'Venue ID'\u001b[0m\u001b[0;34m]\u001b[0m\u001b[0;34m,\u001b[0m \u001b[0mcategory\u001b[0m\u001b[0;34m=\u001b[0m\u001b[0mrow1\u001b[0m\u001b[0;34m[\u001b[0m\u001b[0;34m'Venue category ID'\u001b[0m\u001b[0;34m]\u001b[0m\u001b[0;34m)\u001b[0m\u001b[0;34m\u001b[0m\u001b[0;34m\u001b[0m\u001b[0m\n\u001b[1;32m     15\u001b[0m \u001b[0;34m\u001b[0m\u001b[0m\n\u001b[0;32m---> 16\u001b[0;31m     \u001b[0;32mfor\u001b[0m \u001b[0m_\u001b[0m\u001b[0;34m,\u001b[0m\u001b[0mrow2\u001b[0m \u001b[0;32min\u001b[0m \u001b[0mvenuesdf\u001b[0m\u001b[0;34m.\u001b[0m\u001b[0miterrows\u001b[0m\u001b[0;34m(\u001b[0m\u001b[0;34m)\u001b[0m\u001b[0;34m:\u001b[0m\u001b[0;34m\u001b[0m\u001b[0;34m\u001b[0m\u001b[0m\n\u001b[0m\u001b[1;32m     17\u001b[0m \u001b[0;34m\u001b[0m\u001b[0m\n\u001b[1;32m     18\u001b[0m \u001b[0;34m\u001b[0m\u001b[0m\n",
            "\u001b[0;32m/usr/local/lib/python3.10/dist-packages/pandas/core/frame.py\u001b[0m in \u001b[0;36miterrows\u001b[0;34m(self)\u001b[0m\n\u001b[1;32m   1398\u001b[0m         \u001b[0musing_cow\u001b[0m \u001b[0;34m=\u001b[0m \u001b[0musing_copy_on_write\u001b[0m\u001b[0;34m(\u001b[0m\u001b[0;34m)\u001b[0m\u001b[0;34m\u001b[0m\u001b[0;34m\u001b[0m\u001b[0m\n\u001b[1;32m   1399\u001b[0m         \u001b[0;32mfor\u001b[0m \u001b[0mk\u001b[0m\u001b[0;34m,\u001b[0m \u001b[0mv\u001b[0m \u001b[0;32min\u001b[0m \u001b[0mzip\u001b[0m\u001b[0;34m(\u001b[0m\u001b[0mself\u001b[0m\u001b[0;34m.\u001b[0m\u001b[0mindex\u001b[0m\u001b[0;34m,\u001b[0m \u001b[0mself\u001b[0m\u001b[0;34m.\u001b[0m\u001b[0mvalues\u001b[0m\u001b[0;34m)\u001b[0m\u001b[0;34m:\u001b[0m\u001b[0;34m\u001b[0m\u001b[0;34m\u001b[0m\u001b[0m\n\u001b[0;32m-> 1400\u001b[0;31m             \u001b[0ms\u001b[0m \u001b[0;34m=\u001b[0m \u001b[0mklass\u001b[0m\u001b[0;34m(\u001b[0m\u001b[0mv\u001b[0m\u001b[0;34m,\u001b[0m \u001b[0mindex\u001b[0m\u001b[0;34m=\u001b[0m\u001b[0mcolumns\u001b[0m\u001b[0;34m,\u001b[0m \u001b[0mname\u001b[0m\u001b[0;34m=\u001b[0m\u001b[0mk\u001b[0m\u001b[0;34m)\u001b[0m\u001b[0;34m.\u001b[0m\u001b[0m__finalize__\u001b[0m\u001b[0;34m(\u001b[0m\u001b[0mself\u001b[0m\u001b[0;34m)\u001b[0m\u001b[0;34m\u001b[0m\u001b[0;34m\u001b[0m\u001b[0m\n\u001b[0m\u001b[1;32m   1401\u001b[0m             \u001b[0;32mif\u001b[0m \u001b[0musing_cow\u001b[0m \u001b[0;32mand\u001b[0m \u001b[0mself\u001b[0m\u001b[0;34m.\u001b[0m\u001b[0m_mgr\u001b[0m\u001b[0;34m.\u001b[0m\u001b[0mis_single_block\u001b[0m\u001b[0;34m:\u001b[0m\u001b[0;34m\u001b[0m\u001b[0;34m\u001b[0m\u001b[0m\n\u001b[1;32m   1402\u001b[0m                 \u001b[0ms\u001b[0m\u001b[0;34m.\u001b[0m\u001b[0m_mgr\u001b[0m\u001b[0;34m.\u001b[0m\u001b[0madd_references\u001b[0m\u001b[0;34m(\u001b[0m\u001b[0mself\u001b[0m\u001b[0;34m.\u001b[0m\u001b[0m_mgr\u001b[0m\u001b[0;34m)\u001b[0m  \u001b[0;31m# type: ignore[arg-type]\u001b[0m\u001b[0;34m\u001b[0m\u001b[0;34m\u001b[0m\u001b[0m\n",
            "\u001b[0;32m/usr/local/lib/python3.10/dist-packages/pandas/core/series.py\u001b[0m in \u001b[0;36m__init__\u001b[0;34m(self, data, index, dtype, name, copy, fastpath)\u001b[0m\n\u001b[1;32m    511\u001b[0m             \u001b[0mmanager\u001b[0m \u001b[0;34m=\u001b[0m \u001b[0mget_option\u001b[0m\u001b[0;34m(\u001b[0m\u001b[0;34m\"mode.data_manager\"\u001b[0m\u001b[0;34m)\u001b[0m\u001b[0;34m\u001b[0m\u001b[0;34m\u001b[0m\u001b[0m\n\u001b[1;32m    512\u001b[0m             \u001b[0;32mif\u001b[0m \u001b[0mmanager\u001b[0m \u001b[0;34m==\u001b[0m \u001b[0;34m\"block\"\u001b[0m\u001b[0;34m:\u001b[0m\u001b[0;34m\u001b[0m\u001b[0;34m\u001b[0m\u001b[0m\n\u001b[0;32m--> 513\u001b[0;31m                 \u001b[0mdata\u001b[0m \u001b[0;34m=\u001b[0m \u001b[0mSingleBlockManager\u001b[0m\u001b[0;34m.\u001b[0m\u001b[0mfrom_array\u001b[0m\u001b[0;34m(\u001b[0m\u001b[0mdata\u001b[0m\u001b[0;34m,\u001b[0m \u001b[0mindex\u001b[0m\u001b[0;34m,\u001b[0m \u001b[0mrefs\u001b[0m\u001b[0;34m=\u001b[0m\u001b[0mrefs\u001b[0m\u001b[0;34m)\u001b[0m\u001b[0;34m\u001b[0m\u001b[0;34m\u001b[0m\u001b[0m\n\u001b[0m\u001b[1;32m    514\u001b[0m             \u001b[0;32melif\u001b[0m \u001b[0mmanager\u001b[0m \u001b[0;34m==\u001b[0m \u001b[0;34m\"array\"\u001b[0m\u001b[0;34m:\u001b[0m\u001b[0;34m\u001b[0m\u001b[0;34m\u001b[0m\u001b[0m\n\u001b[1;32m    515\u001b[0m                 \u001b[0mdata\u001b[0m \u001b[0;34m=\u001b[0m \u001b[0mSingleArrayManager\u001b[0m\u001b[0;34m.\u001b[0m\u001b[0mfrom_array\u001b[0m\u001b[0;34m(\u001b[0m\u001b[0mdata\u001b[0m\u001b[0;34m,\u001b[0m \u001b[0mindex\u001b[0m\u001b[0;34m)\u001b[0m\u001b[0;34m\u001b[0m\u001b[0;34m\u001b[0m\u001b[0m\n",
            "\u001b[0;32m/usr/local/lib/python3.10/dist-packages/pandas/core/internals/managers.py\u001b[0m in \u001b[0;36mfrom_array\u001b[0;34m(cls, array, index, refs)\u001b[0m\n\u001b[1;32m   1878\u001b[0m         \u001b[0mConstructor\u001b[0m \u001b[0;32mfor\u001b[0m \u001b[0;32mif\u001b[0m \u001b[0mwe\u001b[0m \u001b[0mhave\u001b[0m \u001b[0man\u001b[0m \u001b[0marray\u001b[0m \u001b[0mthat\u001b[0m \u001b[0;32mis\u001b[0m \u001b[0;32mnot\u001b[0m \u001b[0myet\u001b[0m \u001b[0ma\u001b[0m \u001b[0mBlock\u001b[0m\u001b[0;34m.\u001b[0m\u001b[0;34m\u001b[0m\u001b[0;34m\u001b[0m\u001b[0m\n\u001b[1;32m   1879\u001b[0m         \"\"\"\n\u001b[0;32m-> 1880\u001b[0;31m         \u001b[0mblock\u001b[0m \u001b[0;34m=\u001b[0m \u001b[0mnew_block\u001b[0m\u001b[0;34m(\u001b[0m\u001b[0marray\u001b[0m\u001b[0;34m,\u001b[0m \u001b[0mplacement\u001b[0m\u001b[0;34m=\u001b[0m\u001b[0mslice\u001b[0m\u001b[0;34m(\u001b[0m\u001b[0;36m0\u001b[0m\u001b[0;34m,\u001b[0m \u001b[0mlen\u001b[0m\u001b[0;34m(\u001b[0m\u001b[0mindex\u001b[0m\u001b[0;34m)\u001b[0m\u001b[0;34m)\u001b[0m\u001b[0;34m,\u001b[0m \u001b[0mndim\u001b[0m\u001b[0;34m=\u001b[0m\u001b[0;36m1\u001b[0m\u001b[0;34m,\u001b[0m \u001b[0mrefs\u001b[0m\u001b[0;34m=\u001b[0m\u001b[0mrefs\u001b[0m\u001b[0;34m)\u001b[0m\u001b[0;34m\u001b[0m\u001b[0;34m\u001b[0m\u001b[0m\n\u001b[0m\u001b[1;32m   1881\u001b[0m         \u001b[0;32mreturn\u001b[0m \u001b[0mcls\u001b[0m\u001b[0;34m(\u001b[0m\u001b[0mblock\u001b[0m\u001b[0;34m,\u001b[0m \u001b[0mindex\u001b[0m\u001b[0;34m)\u001b[0m\u001b[0;34m\u001b[0m\u001b[0;34m\u001b[0m\u001b[0m\n\u001b[1;32m   1882\u001b[0m \u001b[0;34m\u001b[0m\u001b[0m\n",
            "\u001b[0;32m/usr/local/lib/python3.10/dist-packages/pandas/core/internals/blocks.py\u001b[0m in \u001b[0;36mnew_block\u001b[0;34m(values, placement, ndim, refs)\u001b[0m\n\u001b[1;32m   2395\u001b[0m     \u001b[0mklass\u001b[0m \u001b[0;34m=\u001b[0m \u001b[0mget_block_type\u001b[0m\u001b[0;34m(\u001b[0m\u001b[0mvalues\u001b[0m\u001b[0;34m.\u001b[0m\u001b[0mdtype\u001b[0m\u001b[0;34m)\u001b[0m\u001b[0;34m\u001b[0m\u001b[0;34m\u001b[0m\u001b[0m\n\u001b[1;32m   2396\u001b[0m \u001b[0;34m\u001b[0m\u001b[0m\n\u001b[0;32m-> 2397\u001b[0;31m     \u001b[0mvalues\u001b[0m \u001b[0;34m=\u001b[0m \u001b[0mmaybe_coerce_values\u001b[0m\u001b[0;34m(\u001b[0m\u001b[0mvalues\u001b[0m\u001b[0;34m)\u001b[0m\u001b[0;34m\u001b[0m\u001b[0;34m\u001b[0m\u001b[0m\n\u001b[0m\u001b[1;32m   2398\u001b[0m     \u001b[0;32mreturn\u001b[0m \u001b[0mklass\u001b[0m\u001b[0;34m(\u001b[0m\u001b[0mvalues\u001b[0m\u001b[0;34m,\u001b[0m \u001b[0mndim\u001b[0m\u001b[0;34m=\u001b[0m\u001b[0mndim\u001b[0m\u001b[0;34m,\u001b[0m \u001b[0mplacement\u001b[0m\u001b[0;34m=\u001b[0m\u001b[0mplacement\u001b[0m\u001b[0;34m,\u001b[0m \u001b[0mrefs\u001b[0m\u001b[0;34m=\u001b[0m\u001b[0mrefs\u001b[0m\u001b[0;34m)\u001b[0m\u001b[0;34m\u001b[0m\u001b[0;34m\u001b[0m\u001b[0m\n\u001b[1;32m   2399\u001b[0m \u001b[0;34m\u001b[0m\u001b[0m\n",
            "\u001b[0;32m/usr/local/lib/python3.10/dist-packages/pandas/core/internals/blocks.py\u001b[0m in \u001b[0;36mmaybe_coerce_values\u001b[0;34m(values)\u001b[0m\n\u001b[1;32m   2320\u001b[0m \u001b[0;34m\u001b[0m\u001b[0m\n\u001b[1;32m   2321\u001b[0m     \u001b[0;32mif\u001b[0m \u001b[0misinstance\u001b[0m\u001b[0;34m(\u001b[0m\u001b[0mvalues\u001b[0m\u001b[0;34m,\u001b[0m \u001b[0mnp\u001b[0m\u001b[0;34m.\u001b[0m\u001b[0mndarray\u001b[0m\u001b[0;34m)\u001b[0m\u001b[0;34m:\u001b[0m\u001b[0;34m\u001b[0m\u001b[0;34m\u001b[0m\u001b[0m\n\u001b[0;32m-> 2322\u001b[0;31m         \u001b[0mvalues\u001b[0m \u001b[0;34m=\u001b[0m \u001b[0mensure_wrapped_if_datetimelike\u001b[0m\u001b[0;34m(\u001b[0m\u001b[0mvalues\u001b[0m\u001b[0;34m)\u001b[0m\u001b[0;34m\u001b[0m\u001b[0;34m\u001b[0m\u001b[0m\n\u001b[0m\u001b[1;32m   2323\u001b[0m \u001b[0;34m\u001b[0m\u001b[0m\n\u001b[1;32m   2324\u001b[0m         \u001b[0;32mif\u001b[0m \u001b[0missubclass\u001b[0m\u001b[0;34m(\u001b[0m\u001b[0mvalues\u001b[0m\u001b[0;34m.\u001b[0m\u001b[0mdtype\u001b[0m\u001b[0;34m.\u001b[0m\u001b[0mtype\u001b[0m\u001b[0;34m,\u001b[0m \u001b[0mstr\u001b[0m\u001b[0;34m)\u001b[0m\u001b[0;34m:\u001b[0m\u001b[0;34m\u001b[0m\u001b[0;34m\u001b[0m\u001b[0m\n",
            "\u001b[0;32m/usr/local/lib/python3.10/dist-packages/pandas/core/construction.py\u001b[0m in \u001b[0;36mensure_wrapped_if_datetimelike\u001b[0;34m(arr)\u001b[0m\n\u001b[1;32m    461\u001b[0m     \"\"\"\n\u001b[1;32m    462\u001b[0m     \u001b[0;32mif\u001b[0m \u001b[0misinstance\u001b[0m\u001b[0;34m(\u001b[0m\u001b[0marr\u001b[0m\u001b[0;34m,\u001b[0m \u001b[0mnp\u001b[0m\u001b[0;34m.\u001b[0m\u001b[0mndarray\u001b[0m\u001b[0;34m)\u001b[0m\u001b[0;34m:\u001b[0m\u001b[0;34m\u001b[0m\u001b[0;34m\u001b[0m\u001b[0m\n\u001b[0;32m--> 463\u001b[0;31m         \u001b[0;32mif\u001b[0m \u001b[0marr\u001b[0m\u001b[0;34m.\u001b[0m\u001b[0mdtype\u001b[0m\u001b[0;34m.\u001b[0m\u001b[0mkind\u001b[0m \u001b[0;34m==\u001b[0m \u001b[0;34m\"M\"\u001b[0m\u001b[0;34m:\u001b[0m\u001b[0;34m\u001b[0m\u001b[0;34m\u001b[0m\u001b[0m\n\u001b[0m\u001b[1;32m    464\u001b[0m             \u001b[0;32mfrom\u001b[0m \u001b[0mpandas\u001b[0m\u001b[0;34m.\u001b[0m\u001b[0mcore\u001b[0m\u001b[0;34m.\u001b[0m\u001b[0marrays\u001b[0m \u001b[0;32mimport\u001b[0m \u001b[0mDatetimeArray\u001b[0m\u001b[0;34m\u001b[0m\u001b[0;34m\u001b[0m\u001b[0m\n\u001b[1;32m    465\u001b[0m \u001b[0;34m\u001b[0m\u001b[0m\n",
            "\u001b[0;31mKeyboardInterrupt\u001b[0m: "
          ]
        }
      ],
      "source": [
        "#spatial graph construction\n",
        "\n",
        "print(len(venuesdf))\n",
        "import networkx as nx\n",
        "\n",
        "spatG = nx.Graph()\n",
        "\n",
        "d = 1\n",
        "\n",
        "# Add nodes and edges with features\n",
        "for _, row1 in venuesdf.iterrows():\n",
        "\n",
        "    if not spatG.has_node(row1['Venue ID']):\n",
        "            spatG.add_node(row1['Venue ID'], category=row1['Venue category ID'])\n",
        "\n",
        "    for _,row2 in venuesdf.iterrows():\n",
        "\n",
        "\n",
        "        # Add nodes if not already in the graph\n",
        "\n",
        "\n",
        "        if not spatG.has_node(row2['Venue ID']):\n",
        "            spatG.add_node(row1['Venue ID'], category=row1['Venue category ID'])\n",
        "\n",
        "        # Add edges with features\n",
        "\n",
        "        if distance_between_coordinates(row1['Latitude'],row1['Longitude'],row2['Latitude'],row2['Longitude']) < d:\n",
        "\n",
        "            spatG.add_edge(row1['Venue ID'],row2['Venue ID'])\n",
        "\n",
        "\n",
        "print(spatG)\n",
        "\n",
        "\n"
      ]
    },
    {
      "cell_type": "code",
      "execution_count": null,
      "id": "e9ab55e3",
      "metadata": {
        "id": "e9ab55e3",
        "colab": {
          "base_uri": "https://localhost:8080/"
        },
        "outputId": "903eb08d-ce40-465b-a6c7-df4ac5a8b4df"
      },
      "outputs": [
        {
          "output_type": "stream",
          "name": "stdout",
          "text": [
            "Data(x=[13322], edge_index=[2, 28917], edge_attr=[28917])\n"
          ]
        }
      ],
      "source": [
        "\n",
        "#sequantial relation graph\n",
        "#build a graph that captures the sequence of actions made by the users\n",
        "\n",
        "import networkx as nx\n",
        "\n",
        "edge_index = []\n",
        "edges_attr = []\n",
        "\n",
        "usrloc = {}\n",
        "\n",
        "#seqG = nx.Graph()\n",
        "\n",
        "for _, row in df.iterrows():\n",
        "\n",
        "  #if not seqG.has_node(row['Venue ID']):\n",
        "  #  seqG.add_node(row['Venue ID'], category=row['Venue category ID'])\n",
        "\n",
        "  if row['User ID'] not in usrloc:\n",
        "    usrloc[row['User ID']] = row['Venue ID']\n",
        "\n",
        "  else:\n",
        "    #seqG.add_edge(usrloc[row['User ID']],row['Venue ID'])\n",
        "    edge_index.append([nodeIds[usrloc[row['User ID']]], nodeIds[row['Venue ID']]])\n",
        "    edges_attr.append(1)\n",
        "    usrloc[row['User ID']] = row['Venue ID']\n",
        "\n",
        "\n",
        "seqG = Data(x=torch.tensor(node_attr), edge_index=torch.tensor(edge_index).t().contiguous(), edge_attr=torch.tensor(edges_attr))\n",
        "print(seqG)\n",
        "\n",
        "\n",
        "\n",
        "\n"
      ]
    },
    {
      "cell_type": "code",
      "source": [
        "import pickle\n",
        "\n",
        "\n",
        "print(seqG)\n",
        "\n",
        "pickle.dump(seqG,open('tempG.pickle','wb'))\n",
        "\n",
        "#data = pickle.load(open('tempG.pickle','rb'))"
      ],
      "metadata": {
        "colab": {
          "base_uri": "https://localhost:8080/"
        },
        "id": "i_gOIQACbN1E",
        "outputId": "c8028efc-dbee-470d-8d61-96f0cca67cb6"
      },
      "id": "i_gOIQACbN1E",
      "execution_count": null,
      "outputs": [
        {
          "output_type": "stream",
          "name": "stdout",
          "text": [
            "Graph with 26132 nodes and 78480 edges\n"
          ]
        }
      ]
    },
    {
      "cell_type": "code",
      "source": [
        "#build an alternative temporal graph\n",
        "#two pois are connected if users go on average to them in the seme timeframe\n",
        "\n",
        "df['localTime'] = pd.to_datetime(df['UTC time']) + pd.to_timedelta(df['Timezone'], unit = 'm')\n",
        "\n",
        "df['localDayofWeek'] = df.localTime.dt.dayofweek\n",
        "df['localHour'] = df.localTime.dt.hour\n",
        "\n",
        "\n",
        "\n",
        "\n"
      ],
      "metadata": {
        "colab": {
          "base_uri": "https://localhost:8080/"
        },
        "id": "IyhWcu8Hb2Hj",
        "outputId": "2ef783c8-b6c2-4cf0-b380-0316a744a400"
      },
      "id": "IyhWcu8Hb2Hj",
      "execution_count": null,
      "outputs": [
        {
          "output_type": "stream",
          "name": "stderr",
          "text": [
            "<ipython-input-11-f85843e15d2c>:4: UserWarning: Could not infer format, so each element will be parsed individually, falling back to `dateutil`. To ensure parsing is consistent and as-expected, please specify a format.\n",
            "  df['localTime'] = pd.to_datetime(df['UTC time']) + pd.to_timedelta(df['Timezone'], unit = 'm')\n"
          ]
        }
      ]
    },
    {
      "cell_type": "code",
      "source": [
        "import math\n",
        "groupeddf = df.groupby(['Venue ID','Venue category ID'],as_index=False)\n",
        "avghour = groupeddf['localHour'].mean()\n",
        "avgday = groupeddf['localDayofWeek'].mean()\n",
        "\n",
        "print(avghour)\n",
        "\n",
        "timedf = pd.concat([avghour,avgday['localDayofWeek']],axis=1)\n",
        "\n",
        "\n",
        "\n",
        "print(timedf)\n",
        "\n",
        "hours = {}\n",
        "week = {}\n",
        "\n",
        "#week['workdays'] = []\n",
        "#week['weekend'] = []\n",
        "\n",
        "\n",
        "for _, row in timedf.iterrows():\n",
        "\n",
        "  hour = math.floor(row['localHour'])\n",
        "  day = math.floor(row['localDayofWeek'])\n",
        "\n",
        "  if hour not in hours:\n",
        "    #hours[hour] = [[row['Venue ID'],row['Venue category ID']]]\n",
        "    hours[hour] = [[row['Venue ID'],row['Venue category ID']]]\n",
        "\n",
        "  else:\n",
        "    hours[hour].append([row['Venue ID'],row['Venue category ID']])\n",
        "\n",
        "  #if 1 <= day <=4:\n",
        "  #  week['workdays'].append([row['Venue ID'],row['Venue category ID']])\n",
        "  #else:\n",
        "  #  week['weekend'].append([row['Venue ID'],row['Venue category ID']])\n",
        "\n",
        "  if day not in week:\n",
        "    #hours[hour] = [[row['Venue ID'],row['Venue category ID']]]\n",
        "    week[day] = [[row['Venue ID'],row['Venue category ID']]]\n",
        "\n",
        "  else:\n",
        "    week[day].append([row['Venue ID'],row['Venue category ID']])\n",
        "\n",
        "\n",
        "\n",
        "\n"
      ],
      "metadata": {
        "colab": {
          "base_uri": "https://localhost:8080/"
        },
        "id": "y7d_3DktgSmi",
        "outputId": "86118f67-5483-40de-dd03-8873027c7d39"
      },
      "id": "y7d_3DktgSmi",
      "execution_count": null,
      "outputs": [
        {
          "output_type": "stream",
          "name": "stdout",
          "text": [
            "       Venue ID  Venue category ID  localHour\n",
            "0             0                153       13.0\n",
            "1             1                253       23.0\n",
            "2             2                 43       18.0\n",
            "3             2                 56       10.5\n",
            "4             3                 47       22.0\n",
            "...         ...                ...        ...\n",
            "13415     13317                136        2.0\n",
            "13416     13318                302       16.0\n",
            "13417     13319                117       17.0\n",
            "13418     13320                 69        7.0\n",
            "13419     13321                136        7.0\n",
            "\n",
            "[13420 rows x 3 columns]\n",
            "       Venue ID  Venue category ID  localHour  localDayofWeek\n",
            "0             0                153       13.0             2.0\n",
            "1             1                253       23.0             5.0\n",
            "2             2                 43       18.0             4.0\n",
            "3             2                 56       10.5             5.0\n",
            "4             3                 47       22.0             4.5\n",
            "...         ...                ...        ...             ...\n",
            "13415     13317                136        2.0             6.0\n",
            "13416     13318                302       16.0             3.0\n",
            "13417     13319                117       17.0             2.0\n",
            "13418     13320                 69        7.0             4.0\n",
            "13419     13321                136        7.0             0.0\n",
            "\n",
            "[13420 rows x 4 columns]\n"
          ]
        }
      ]
    },
    {
      "cell_type": "code",
      "source": [
        "#dayG = nx.Graph()\n",
        "#hourG = nx.Graph()\n",
        "\n",
        "edge_index = []\n",
        "edges_attr = []\n",
        "\n",
        "for el in hours:\n",
        "   for u in hours[el]:\n",
        "\n",
        "    #if not hourG.has_node(u[0]):\n",
        "    #  hourG.add_node(u[0], category=u[1])\n",
        "\n",
        "    for v in hours[el]:\n",
        "\n",
        "      if u != v:\n",
        "\n",
        "        #if not hourG.has_node(u[0]):\n",
        "        #  hourG.add_node(v[0], category=v[1])\n",
        "\n",
        "        #hourG.add_edge(u[0],v[0])\n",
        "        edge_index.append([nodeIds[u[0]], nodeIds[v[0]]])\n",
        "\n",
        "hourG = Data(x=torch.tensor(node_attr), edge_index=torch.tensor(edge_index).t().contiguous(), edge_attr=torch.tensor(edges_attr))\n",
        "print(hourG)\n",
        "\n",
        "print(hourG)\n",
        "\n"
      ],
      "metadata": {
        "colab": {
          "base_uri": "https://localhost:8080/"
        },
        "id": "sUL95Z8_CV2E",
        "outputId": "440c34eb-e953-4d49-db06-bcebe0d79c36"
      },
      "id": "sUL95Z8_CV2E",
      "execution_count": null,
      "outputs": [
        {
          "output_type": "stream",
          "name": "stdout",
          "text": [
            "Data(x=[13322], edge_index=[2, 10341172], edge_attr=[0])\n",
            "Data(x=[13322], edge_index=[2, 10341172], edge_attr=[0])\n"
          ]
        }
      ]
    },
    {
      "cell_type": "code",
      "source": [
        "edge_index = []\n",
        "edges_attr = []\n",
        "\n",
        "\n",
        "for el in week:\n",
        "   for u in week[el]:\n",
        "\n",
        "    #if not dayG.has_node(u[0]):\n",
        "    #  dayG.add_node(u[0], category=u[1])\n",
        "\n",
        "    for v in week[el]:\n",
        "\n",
        "      if u != v:\n",
        "\n",
        "        #if not dayG.has_node(u[0]):\n",
        "        #  dayG.add_node(v[0], category=v[1])\n",
        "\n",
        "        #dayG.add_edge(u[0],v[0])\n",
        "        edge_index.append([nodeIds[u[0]], nodeIds[v[0]]])\n",
        "\n",
        "dayG = Data(x=torch.tensor(node_attr), edge_index=torch.tensor(edge_index).t().contiguous(), edge_attr=torch.tensor(edges_attr))\n",
        "print(dayG)\n",
        "\n",
        "print(dayG)\n"
      ],
      "metadata": {
        "id": "DVzk8w57C8b6",
        "colab": {
          "base_uri": "https://localhost:8080/"
        },
        "outputId": "4b2a3da1-5606-45a0-d383-ae1bde514134"
      },
      "id": "DVzk8w57C8b6",
      "execution_count": null,
      "outputs": [
        {
          "output_type": "stream",
          "name": "stdout",
          "text": [
            "Data(x=[13322], edge_index=[2, 27208004], edge_attr=[0])\n",
            "Data(x=[13322], edge_index=[2, 27208004], edge_attr=[0])\n"
          ]
        }
      ]
    }
  ],
  "metadata": {
    "kernelspec": {
      "display_name": "Python 3 (ipykernel)",
      "language": "python",
      "name": "python3"
    },
    "language_info": {
      "codemirror_mode": {
        "name": "ipython",
        "version": 3
      },
      "file_extension": ".py",
      "mimetype": "text/x-python",
      "name": "python",
      "nbconvert_exporter": "python",
      "pygments_lexer": "ipython3",
      "version": "3.10.12"
    },
    "colab": {
      "provenance": []
    }
  },
  "nbformat": 4,
  "nbformat_minor": 5
}