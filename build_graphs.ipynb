{
  "cells": [
    {
      "cell_type": "code",
      "execution_count": 1,
      "id": "5dd42afa",
      "metadata": {
        "colab": {
          "base_uri": "https://localhost:8080/"
        },
        "id": "5dd42afa",
        "outputId": "d8b91963-6e11-4145-bdc3-74a19173b3da"
      },
      "outputs": [
        {
          "output_type": "stream",
          "name": "stdout",
          "text": [
            "--2024-05-27 15:59:09--  http://www-public.tem-tsp.eu/~zhang_da/pub/dataset_tsmc2014.zip\n",
            "Resolving www-public.tem-tsp.eu (www-public.tem-tsp.eu)... 157.159.10.107, 2001:660:3203:100:1:0:80:107\n",
            "Connecting to www-public.tem-tsp.eu (www-public.tem-tsp.eu)|157.159.10.107|:80... connected.\n",
            "HTTP request sent, awaiting response... 200 OK\n",
            "Length: 25546284 (24M) [application/zip]\n",
            "Saving to: ‘dataset_tsmc2014.zip’\n",
            "\n",
            "dataset_tsmc2014.zi 100%[===================>]  24.36M  3.90MB/s    in 13s     \n",
            "\n",
            "2024-05-27 15:59:24 (1.83 MB/s) - ‘dataset_tsmc2014.zip’ saved [25546284/25546284]\n",
            "\n",
            "Archive:  dataset_tsmc2014.zip\n",
            "   creating: dataset_tsmc2014/\n",
            "  inflating: dataset_tsmc2014/dataset_TSMC2014_NYC.txt  \n",
            "  inflating: dataset_tsmc2014/dataset_TSMC2014_readme.txt  \n",
            "  inflating: dataset_tsmc2014/dataset_TSMC2014_TKY.txt  \n"
          ]
        }
      ],
      "source": [
        "#import pandas as pd\n",
        "!wget http://www-public.tem-tsp.eu/~zhang_da/pub/dataset_tsmc2014.zip\n",
        "!unzip dataset_tsmc2014.zip"
      ]
    },
    {
      "cell_type": "code",
      "execution_count": 2,
      "id": "c201ab83",
      "metadata": {
        "id": "c201ab83"
      },
      "outputs": [],
      "source": [
        "import pandas as pd\n",
        "columns = ['User ID',\n",
        " 'Venue ID',\n",
        " 'Venue category ID',\n",
        " 'Venue category name',\n",
        " 'Latitude',\n",
        " 'Longitude',\n",
        " 'Timezone',\n",
        " 'UTC time']"
      ]
    },
    {
      "cell_type": "code",
      "execution_count": 3,
      "id": "1a36d1da",
      "metadata": {
        "colab": {
          "base_uri": "https://localhost:8080/"
        },
        "id": "1a36d1da",
        "outputId": "616dc145-ce56-49f6-bb04-5e1fe779319e"
      },
      "outputs": [
        {
          "output_type": "stream",
          "name": "stdout",
          "text": [
            "        User ID                  Venue ID         Venue category ID  \\\n",
            "149759      655  4bd6e7467b1876b0b8308d86  4bf58dd8d48988d126941735   \n",
            "89993      1060  4f4657cbe4b0f8695e6d26f1  4bf58dd8d48988d124941735   \n",
            "110274       16  4b4f2c9ff964a52035fc26e3  4bf58dd8d48988d1e0931735   \n",
            "157447      597  49e4ec34f964a5206e631fe3  4bf58dd8d48988d1fd941735   \n",
            "47592       880  4b80fc8df964a520489430e3  4bf58dd8d48988d1c5941735   \n",
            "...         ...                       ...                       ...   \n",
            "188197      114  3fd66200f964a520dfe51ee3  4bf58dd8d48988d116941735   \n",
            "105134      354  4bdc9fb73904a59345084f9e  4f2a25ac4b909258e854f55f   \n",
            "5602        474  4bfdb176b68d0f478e30e957  4bf58dd8d48988d1fc941735   \n",
            "28311       973  4acbe67af964a52044c820e3  4bf58dd8d48988d146941735   \n",
            "65276       392  4ab38f3df964a520ca6d20e3  4bf58dd8d48988d129951735   \n",
            "\n",
            "        Venue category name   Latitude  Longitude  Timezone  \\\n",
            "149759  Government Building  40.714978 -74.005416      -240   \n",
            "89993                Office  40.752896 -73.974144      -240   \n",
            "110274          Coffee Shop  40.863842 -73.975110      -240   \n",
            "157447                 Mall  40.726966 -74.038324      -240   \n",
            "47592        Sandwich Place  40.790151 -73.948373      -240   \n",
            "...                     ...        ...        ...       ...   \n",
            "188197                  Bar  40.724013 -73.996263      -300   \n",
            "105134         Neighborhood  40.714249 -73.953760      -240   \n",
            "5602        Laundry Service  40.606173 -73.986294      -240   \n",
            "28311         Deli / Bodega  40.722307 -73.987352      -240   \n",
            "65276         Train Station  40.704359 -74.190717      -240   \n",
            "\n",
            "                              UTC time  \n",
            "149759  Thu Aug 16 16:44:11 +0000 2012  \n",
            "89993   Thu May 31 14:33:23 +0000 2012  \n",
            "110274  Fri Jun 15 13:52:41 +0000 2012  \n",
            "157447  Sat Sep 15 15:57:18 +0000 2012  \n",
            "47592   Fri May 04 05:35:49 +0000 2012  \n",
            "...                                ...  \n",
            "188197  Tue Dec 04 05:51:46 +0000 2012  \n",
            "105134  Mon Jun 11 10:45:36 +0000 2012  \n",
            "5602    Sun Apr 08 18:20:04 +0000 2012  \n",
            "28311   Sat Apr 21 05:27:28 +0000 2012  \n",
            "65276   Sun May 13 20:29:47 +0000 2012  \n",
            "\n",
            "[300 rows x 8 columns]\n"
          ]
        }
      ],
      "source": [
        "NUMCHECKIN = 300\n",
        "\n",
        "df = pd.read_csv('dataset_tsmc2014/dataset_TSMC2014_NYC.txt', sep='\\t', encoding='latin-1', names=columns)\n",
        "df = df.sample(NUMCHECKIN)\n",
        "print(df)"
      ]
    },
    {
      "cell_type": "code",
      "execution_count": 4,
      "id": "-ByntkrZYdH8",
      "metadata": {
        "colab": {
          "base_uri": "https://localhost:8080/"
        },
        "id": "-ByntkrZYdH8",
        "outputId": "71a38af1-9e88-4e85-e02d-712a927ebabb"
      },
      "outputs": [
        {
          "output_type": "stream",
          "name": "stdout",
          "text": [
            "        User ID  Venue ID  Venue category ID   Latitude  Longitude  Timezone  \\\n",
            "149759      655       146                 28  40.714978 -74.005416      -240   \n",
            "89993      1060       261                 27  40.752896 -73.974144      -240   \n",
            "110274       16       108                 87  40.863842 -73.975110      -240   \n",
            "157447      597        33                105  40.726966 -74.038324      -240   \n",
            "47592       880       122                 74  40.790151 -73.948373      -240   \n",
            "...         ...       ...                ...        ...        ...       ...   \n",
            "188197      114         5                 16  40.724013 -73.996263      -300   \n",
            "105134      354       147                118  40.714249 -73.953760      -240   \n",
            "5602        474       151                103  40.606173 -73.986294      -240   \n",
            "28311       973        73                 40  40.722307 -73.987352      -240   \n",
            "65276       392        70                 29  40.704359 -74.190717      -240   \n",
            "\n",
            "                              UTC time  \n",
            "149759  Thu Aug 16 16:44:11 +0000 2012  \n",
            "89993   Thu May 31 14:33:23 +0000 2012  \n",
            "110274  Fri Jun 15 13:52:41 +0000 2012  \n",
            "157447  Sat Sep 15 15:57:18 +0000 2012  \n",
            "47592   Fri May 04 05:35:49 +0000 2012  \n",
            "...                                ...  \n",
            "188197  Tue Dec 04 05:51:46 +0000 2012  \n",
            "105134  Mon Jun 11 10:45:36 +0000 2012  \n",
            "5602    Sun Apr 08 18:20:04 +0000 2012  \n",
            "28311   Sat Apr 21 05:27:28 +0000 2012  \n",
            "65276   Sun May 13 20:29:47 +0000 2012  \n",
            "\n",
            "[300 rows x 7 columns]\n"
          ]
        }
      ],
      "source": [
        "from sklearn.preprocessing import LabelEncoder\n",
        "\n",
        "\n",
        "le = LabelEncoder()\n",
        "df['Venue ID'] = le.fit_transform(df['Venue ID'])\n",
        "df['Venue category ID'] = le.fit_transform(df['Venue category ID'])\n",
        "df.drop(['Venue category name'],axis=1,inplace=True)\n",
        "print(df)"
      ]
    },
    {
      "cell_type": "code",
      "execution_count": 5,
      "id": "184078b5",
      "metadata": {
        "id": "184078b5"
      },
      "outputs": [],
      "source": [
        "import math\n",
        "\n",
        "def distance_between_coordinates(lat1, lon1, lat2, lon2):\n",
        "    radius = 6371  # Radius of the Earth in km\n",
        "\n",
        "    # Convert latitude and longitude from degrees to radians\n",
        "    lat1 = math.radians(lat1)\n",
        "    lon1 = math.radians(lon1)\n",
        "    lat2 = math.radians(lat2)\n",
        "    lon2 = math.radians(lon2)\n",
        "\n",
        "    # Calculate the differences in latitude and longitude<\n",
        "    d_lat = lat2 - lat1\n",
        "    d_lon = lon2 - lon1\n",
        "\n",
        "    # Calculate the distance using the Haversine formula\n",
        "    a = math.sin(d_lat/2) * math.sin(d_lat/2) + math.cos(lat1) * math.cos(lat2) * math.sin(d_lon/2) * math.sin(d_lon/2)\n",
        "    c = 2 * math.atan2(math.sqrt(a), math.sqrt(1-a))\n",
        "    distance = radius * c\n",
        "\n",
        "    return distance"
      ]
    },
    {
      "cell_type": "code",
      "execution_count": 6,
      "id": "9a7233d1",
      "metadata": {
        "colab": {
          "base_uri": "https://localhost:8080/"
        },
        "id": "9a7233d1",
        "outputId": "ab2a6353-e4e1-45a5-dfff-16bcd4c34072"
      },
      "outputs": [
        {
          "output_type": "stream",
          "name": "stdout",
          "text": [
            "2.8819941850086326\n"
          ]
        }
      ],
      "source": [
        "print(distance_between_coordinates(40.719810,-74.002581,40.735981, -74.029309))"
      ]
    },
    {
      "cell_type": "code",
      "execution_count": 7,
      "id": "IyhWcu8Hb2Hj",
      "metadata": {
        "colab": {
          "base_uri": "https://localhost:8080/"
        },
        "id": "IyhWcu8Hb2Hj",
        "outputId": "c5788cd5-7edd-4e6a-d958-d5839130f1ec"
      },
      "outputs": [
        {
          "output_type": "stream",
          "name": "stderr",
          "text": [
            "<ipython-input-7-f85843e15d2c>:4: UserWarning: Could not infer format, so each element will be parsed individually, falling back to `dateutil`. To ensure parsing is consistent and as-expected, please specify a format.\n",
            "  df['localTime'] = pd.to_datetime(df['UTC time']) + pd.to_timedelta(df['Timezone'], unit = 'm')\n"
          ]
        }
      ],
      "source": [
        "#build an alternative temporal graph\n",
        "#two pois are connected if users go on average to them in the seme timeframe\n",
        "\n",
        "df['localTime'] = pd.to_datetime(df['UTC time']) + pd.to_timedelta(df['Timezone'], unit = 'm')\n",
        "\n",
        "df['localDayofWeek'] = df.localTime.dt.dayofweek\n",
        "df['localHour'] = df.localTime.dt.hour\n",
        "\n",
        "\n",
        "\n",
        "\n"
      ]
    },
    {
      "cell_type": "code",
      "execution_count": 8,
      "id": "f614c60a",
      "metadata": {
        "colab": {
          "base_uri": "https://localhost:8080/"
        },
        "id": "f614c60a",
        "outputId": "8093ea61-b2ba-4220-d5e6-9c97d77b2a33",
        "scrolled": true
      },
      "outputs": [
        {
          "output_type": "stream",
          "name": "stdout",
          "text": [
            "        Venue ID   Latitude  Longitude  Venue category ID\n",
            "149759       146  40.714978 -74.005416                 28\n",
            "89993        261  40.752896 -73.974144                 27\n",
            "110274       108  40.863842 -73.975110                 87\n",
            "157447        33  40.726966 -74.038324                105\n",
            "47592        122  40.790151 -73.948373                 74\n",
            "...          ...        ...        ...                ...\n",
            "58965         68  40.956343 -74.069028                105\n",
            "188197         5  40.724013 -73.996263                 16\n",
            "5602         151  40.606173 -73.986294                103\n",
            "28311         73  40.722307 -73.987352                 40\n",
            "65276         70  40.704359 -74.190717                 29\n",
            "\n",
            "[289 rows x 4 columns]\n"
          ]
        }
      ],
      "source": [
        "venuesdf = df[['Venue ID','Latitude','Longitude','Venue category ID']].drop_duplicates(subset=['Venue ID'])\n",
        "numvenues = len(venuesdf)\n",
        "print(venuesdf)\n"
      ]
    },
    {
      "cell_type": "code",
      "execution_count": 9,
      "id": "wOEGNi0V-mhi",
      "metadata": {
        "colab": {
          "base_uri": "https://localhost:8080/"
        },
        "id": "wOEGNi0V-mhi",
        "outputId": "bb7ede32-abd1-4aee-bfa0-76bb2f543976"
      },
      "outputs": [
        {
          "output_type": "stream",
          "name": "stdout",
          "text": [
            "2.3.0+cu121\n",
            "12.1\n",
            "Looking in links: https://pytorch-geometric.com/whl/torch-2.2.0+cu121.html\n",
            "Collecting torch-geometric\n",
            "  Downloading torch_geometric-2.5.3-py3-none-any.whl (1.1 MB)\n",
            "\u001b[2K     \u001b[90m━━━━━━━━━━━━━━━━━━━━━━━━━━━━━━━━━━━━━━━━\u001b[0m \u001b[32m1.1/1.1 MB\u001b[0m \u001b[31m5.8 MB/s\u001b[0m eta \u001b[36m0:00:00\u001b[0m\n",
            "\u001b[?25hCollecting torch-sparse\n",
            "  Downloading https://data.pyg.org/whl/torch-2.2.0%2Bcu121/torch_sparse-0.6.18%2Bpt22cu121-cp310-cp310-linux_x86_64.whl (5.0 MB)\n",
            "\u001b[2K     \u001b[90m━━━━━━━━━━━━━━━━━━━━━━━━━━━━━━━━━━━━━━━━\u001b[0m \u001b[32m5.0/5.0 MB\u001b[0m \u001b[31m30.8 MB/s\u001b[0m eta \u001b[36m0:00:00\u001b[0m\n",
            "\u001b[?25hCollecting torch-scatter\n",
            "  Downloading https://data.pyg.org/whl/torch-2.2.0%2Bcu121/torch_scatter-2.1.2%2Bpt22cu121-cp310-cp310-linux_x86_64.whl (10.9 MB)\n",
            "\u001b[2K     \u001b[90m━━━━━━━━━━━━━━━━━━━━━━━━━━━━━━━━━━━━━━━━\u001b[0m \u001b[32m10.9/10.9 MB\u001b[0m \u001b[31m37.0 MB/s\u001b[0m eta \u001b[36m0:00:00\u001b[0m\n",
            "\u001b[?25hCollecting torch-cluster\n",
            "  Downloading https://data.pyg.org/whl/torch-2.2.0%2Bcu121/torch_cluster-1.6.3%2Bpt22cu121-cp310-cp310-linux_x86_64.whl (3.4 MB)\n",
            "\u001b[2K     \u001b[90m━━━━━━━━━━━━━━━━━━━━━━━━━━━━━━━━━━━━━━━━\u001b[0m \u001b[32m3.4/3.4 MB\u001b[0m \u001b[31m35.5 MB/s\u001b[0m eta \u001b[36m0:00:00\u001b[0m\n",
            "\u001b[?25hRequirement already satisfied: tqdm in /usr/local/lib/python3.10/dist-packages (from torch-geometric) (4.66.4)\n",
            "Requirement already satisfied: numpy in /usr/local/lib/python3.10/dist-packages (from torch-geometric) (1.25.2)\n",
            "Requirement already satisfied: scipy in /usr/local/lib/python3.10/dist-packages (from torch-geometric) (1.11.4)\n",
            "Requirement already satisfied: fsspec in /usr/local/lib/python3.10/dist-packages (from torch-geometric) (2023.6.0)\n",
            "Requirement already satisfied: jinja2 in /usr/local/lib/python3.10/dist-packages (from torch-geometric) (3.1.4)\n",
            "Requirement already satisfied: aiohttp in /usr/local/lib/python3.10/dist-packages (from torch-geometric) (3.9.5)\n",
            "Requirement already satisfied: requests in /usr/local/lib/python3.10/dist-packages (from torch-geometric) (2.31.0)\n",
            "Requirement already satisfied: pyparsing in /usr/local/lib/python3.10/dist-packages (from torch-geometric) (3.1.2)\n",
            "Requirement already satisfied: scikit-learn in /usr/local/lib/python3.10/dist-packages (from torch-geometric) (1.2.2)\n",
            "Requirement already satisfied: psutil>=5.8.0 in /usr/local/lib/python3.10/dist-packages (from torch-geometric) (5.9.5)\n",
            "Requirement already satisfied: aiosignal>=1.1.2 in /usr/local/lib/python3.10/dist-packages (from aiohttp->torch-geometric) (1.3.1)\n",
            "Requirement already satisfied: attrs>=17.3.0 in /usr/local/lib/python3.10/dist-packages (from aiohttp->torch-geometric) (23.2.0)\n",
            "Requirement already satisfied: frozenlist>=1.1.1 in /usr/local/lib/python3.10/dist-packages (from aiohttp->torch-geometric) (1.4.1)\n",
            "Requirement already satisfied: multidict<7.0,>=4.5 in /usr/local/lib/python3.10/dist-packages (from aiohttp->torch-geometric) (6.0.5)\n",
            "Requirement already satisfied: yarl<2.0,>=1.0 in /usr/local/lib/python3.10/dist-packages (from aiohttp->torch-geometric) (1.9.4)\n",
            "Requirement already satisfied: async-timeout<5.0,>=4.0 in /usr/local/lib/python3.10/dist-packages (from aiohttp->torch-geometric) (4.0.3)\n",
            "Requirement already satisfied: MarkupSafe>=2.0 in /usr/local/lib/python3.10/dist-packages (from jinja2->torch-geometric) (2.1.5)\n",
            "Requirement already satisfied: charset-normalizer<4,>=2 in /usr/local/lib/python3.10/dist-packages (from requests->torch-geometric) (3.3.2)\n",
            "Requirement already satisfied: idna<4,>=2.5 in /usr/local/lib/python3.10/dist-packages (from requests->torch-geometric) (3.7)\n",
            "Requirement already satisfied: urllib3<3,>=1.21.1 in /usr/local/lib/python3.10/dist-packages (from requests->torch-geometric) (2.0.7)\n",
            "Requirement already satisfied: certifi>=2017.4.17 in /usr/local/lib/python3.10/dist-packages (from requests->torch-geometric) (2024.2.2)\n",
            "Requirement already satisfied: joblib>=1.1.1 in /usr/local/lib/python3.10/dist-packages (from scikit-learn->torch-geometric) (1.4.2)\n",
            "Requirement already satisfied: threadpoolctl>=2.0.0 in /usr/local/lib/python3.10/dist-packages (from scikit-learn->torch-geometric) (3.5.0)\n",
            "Installing collected packages: torch-scatter, torch-sparse, torch-cluster, torch-geometric\n",
            "Successfully installed torch-cluster-1.6.3+pt22cu121 torch-geometric-2.5.3 torch-scatter-2.1.2+pt22cu121 torch-sparse-0.6.18+pt22cu121\n"
          ]
        }
      ],
      "source": [
        "#!pip3 install torch --index-url https://download.pytorch.org/whl/${CUDA}\n",
        "import torch\n",
        "print(torch.__version__)\n",
        "print(torch.version.cuda)\n",
        "!pip install torch-geometric \\\n",
        "  torch-sparse \\\n",
        "  torch-scatter \\\n",
        "  torch-cluster \\\n",
        "  -f https://pytorch-geometric.com/whl/torch-2.2.0+cu121.html"
      ]
    },
    {
      "cell_type": "code",
      "execution_count": 10,
      "id": "peLIawpuCpsl",
      "metadata": {
        "colab": {
          "base_uri": "https://localhost:8080/"
        },
        "id": "peLIawpuCpsl",
        "outputId": "43af1d78-bbef-4318-e95c-b52a9f063a50"
      },
      "outputs": [
        {
          "output_type": "stream",
          "name": "stdout",
          "text": [
            "289\n"
          ]
        }
      ],
      "source": [
        "import networkx as nx\n",
        "venuesdict = venuesdf.to_dict('records')\n",
        "\n",
        "i = 0\n",
        "nodeIds = {}\n",
        "node_attr = []\n",
        "\n",
        "for el in venuesdict:\n",
        "  #print(el['Venue ID'])\n",
        "  nodeIds[el['Venue ID']] = i\n",
        "  node_attr.append([float(el['Venue category ID'])])\n",
        "  i+=1\n",
        "\n",
        "print(len(node_attr))\n"
      ]
    },
    {
      "cell_type": "code",
      "execution_count": 11,
      "id": "Gi8Q9FEIo9Ef",
      "metadata": {
        "colab": {
          "base_uri": "https://localhost:8080/"
        },
        "id": "Gi8Q9FEIo9Ef",
        "outputId": "44132ebb-40b9-4452-e435-f7a462fd7f93"
      },
      "outputs": [
        {
          "output_type": "stream",
          "name": "stdout",
          "text": [
            "{655: [[146, 12, 3]], 1060: [[261, 10, 3]], 16: [[108, 9, 4]], 597: [[33, 11, 5]], 880: [[122, 1, 4]], 999: [[18, 19, 6], [62, 9, 4]], 422: [[233, 13, 1]], 445: [[281, 2, 4], [225, 11, 0]], 837: [[77, 0, 6], [209, 1, 4], [158, 15, 2]], 502: [[83, 13, 2]], 440: [[55, 17, 0]], 715: [[93, 8, 2]], 773: [[282, 4, 0]], 372: [[243, 10, 6], [40, 15, 6], [182, 18, 0], [21, 23, 4]], 1073: [[28, 23, 6]], 666: [[286, 20, 3]], 85: [[52, 11, 5]], 673: [[171, 1, 1]], 780: [[2, 0, 6]], 985: [[131, 11, 6]], 761: [[150, 20, 5]], 527: [[127, 17, 5], [246, 13, 3]], 852: [[31, 15, 6]], 137: [[86, 18, 0]], 964: [[154, 7, 5]], 1018: [[7, 14, 6]], 756: [[102, 10, 4]], 124: [[78, 0, 5], [133, 10, 3]], 84: [[184, 17, 6], [280, 8, 6]], 943: [[274, 19, 5], [25, 21, 2]], 1082: [[232, 6, 0]], 701: [[92, 1, 0]], 70: [[16, 8, 2], [207, 5, 1]], 99: [[145, 13, 5]], 1012: [[222, 6, 5]], 974: [[221, 23, 0], [228, 19, 6]], 69: [[67, 15, 0], [236, 22, 6]], 737: [[253, 23, 3]], 620: [[160, 12, 4]], 1080: [[30, 23, 6]], 64: [[123, 13, 4]], 1028: [[53, 8, 0]], 121: [[252, 6, 0]], 1039: [[218, 14, 5], [135, 22, 5]], 300: [[125, 22, 3]], 1053: [[206, 21, 5]], 293: [[201, 10, 6], [220, 15, 3], [195, 12, 2]], 34: [[256, 1, 6]], 484: [[96, 17, 0]], 1074: [[178, 6, 4]], 353: [[260, 9, 1], [177, 12, 2]], 125: [[23, 18, 3]], 576: [[276, 0, 1]], 481: [[203, 10, 1]], 922: [[176, 21, 5]], 924: [[183, 20, 4], [245, 19, 4]], 723: [[173, 16, 5]], 459: [[167, 19, 4]], 488: [[44, 17, 5]], 344: [[128, 8, 2], [142, 12, 0], [141, 7, 2]], 435: [[113, 21, 1]], 276: [[168, 19, 4]], 934: [[194, 1, 3]], 129: [[75, 10, 2]], 647: [[161, 7, 0]], 281: [[132, 8, 2]], 425: [[208, 13, 0], [208, 0, 4]], 95: [[14, 19, 2], [231, 8, 5]], 185: [[198, 11, 6], [191, 23, 0]], 757: [[163, 7, 4]], 67: [[91, 0, 4], [169, 22, 3]], 173: [[271, 16, 4]], 221: [[14, 23, 4]], 1025: [[174, 16, 2]], 36: [[100, 11, 2], [101, 12, 6]], 730: [[35, 13, 6]], 1076: [[85, 20, 5]], 35: [[175, 9, 5], [175, 10, 5]], 519: [[71, 12, 4], [129, 19, 5]], 772: [[38, 18, 3], [87, 22, 6]], 653: [[215, 14, 4]], 819: [[242, 11, 4], [242, 1, 4]], 862: [[159, 16, 6]], 394: [[43, 21, 6]], 181: [[211, 5, 6]], 797: [[63, 9, 3]], 254: [[130, 13, 6]], 326: [[105, 5, 3]], 354: [[104, 19, 0], [147, 6, 0]], 413: [[54, 18, 2], [262, 23, 5]], 239: [[147, 12, 6]], 199: [[247, 20, 5]], 504: [[124, 20, 5]], 705: [[143, 9, 0]], 753: [[89, 7, 1]], 533: [[149, 16, 0], [275, 15, 1]], 817: [[257, 8, 5]], 621: [[197, 6, 0]], 363: [[29, 12, 4]], 920: [[270, 10, 4]], 782: [[9, 17, 3]], 1011: [[80, 17, 1]], 343: [[284, 17, 0], [237, 6, 3]], 541: [[172, 10, 1]], 39: [[193, 22, 1]], 18: [[65, 17, 6]], 969: [[137, 12, 6]], 73: [[84, 13, 6]], 567: [[250, 6, 1]], 1046: [[32, 8, 4]], 658: [[41, 16, 4]], 107: [[166, 18, 6]], 123: [[266, 14, 6]], 872: [[10, 14, 0]], 458: [[248, 0, 4], [179, 14, 2]], 706: [[134, 0, 2]], 238: [[223, 17, 5]], 997: [[126, 8, 0]], 835: [[148, 8, 5]], 842: [[224, 22, 2]], 816: [[241, 17, 3], [241, 1, 1], [116, 11, 4]], 596: [[272, 14, 4]], 150: [[36, 14, 6]], 529: [[251, 18, 1]], 595: [[46, 21, 5]], 626: [[14, 9, 1], [34, 9, 0]], 138: [[196, 11, 4]], 178: [[72, 18, 2], [219, 21, 5]], 750: [[136, 15, 4], [152, 6, 0]], 172: [[99, 8, 3]], 280: [[4, 13, 6], [57, 13, 0]], 1002: [[12, 18, 4]], 267: [[199, 17, 4], [265, 21, 6]], 462: [[200, 17, 5]], 718: [[210, 7, 0]], 966: [[217, 8, 2]], 403: [[164, 15, 2]], 957: [[158, 18, 1]], 7: [[189, 16, 5], [254, 9, 0]], 754: [[117, 7, 4]], 53: [[212, 5, 2], [258, 0, 0]], 25: [[56, 12, 3]], 728: [[17, 18, 3]], 282: [[3, 21, 4]], 349: [[8, 20, 2]], 509: [[15, 20, 5]], 379: [[98, 18, 1]], 1054: [[190, 21, 2]], 559: [[1, 18, 5]], 546: [[188, 21, 5]], 313: [[180, 13, 4]], 302: [[267, 16, 0]], 951: [[121, 18, 3]], 1049: [[162, 19, 4]], 393: [[11, 13, 6]], 785: [[0, 19, 2]], 495: [[47, 10, 0]], 661: [[229, 2, 1]], 909: [[144, 16, 6]], 847: [[37, 9, 2]], 304: [[120, 20, 1]], 671: [[185, 16, 5]], 796: [[204, 14, 6]], 427: [[268, 19, 4]], 1062: [[277, 23, 2]], 1061: [[79, 19, 6]], 1006: [[263, 23, 0]], 487: [[255, 15, 3]], 65: [[205, 10, 4]], 369: [[181, 7, 1]], 727: [[97, 22, 6]], 1078: [[170, 16, 0]], 86: [[22, 12, 6]], 945: [[288, 13, 0]], 975: [[69, 5, 5]], 734: [[249, 16, 4]], 798: [[157, 13, 3]], 461: [[213, 21, 6]], 355: [[74, 9, 1]], 731: [[64, 19, 1]], 201: [[20, 16, 4]], 464: [[234, 8, 5]], 273: [[240, 18, 6]], 205: [[214, 9, 0]], 215: [[51, 8, 5]], 742: [[66, 13, 3]], 956: [[110, 16, 1], [76, 17, 4]], 865: [[192, 13, 4], [140, 11, 4]], 402: [[12, 9, 3]], 418: [[287, 6, 1]], 404: [[259, 22, 3]], 744: [[238, 9, 4]], 929: [[81, 13, 0]], 319: [[226, 11, 2], [45, 17, 6]], 253: [[278, 19, 4]], 364: [[153, 18, 5], [60, 19, 5]], 1051: [[94, 12, 6]], 736: [[269, 18, 1]], 689: [[49, 14, 6]], 672: [[264, 6, 2]], 371: [[230, 13, 6]], 105: [[107, 21, 3]], 59: [[283, 19, 5]], 645: [[235, 8, 1]], 141: [[48, 9, 4]], 834: [[58, 12, 6]], 998: [[88, 20, 3]], 370: [[90, 20, 5]], 351: [[186, 9, 3]], 497: [[244, 12, 5]], 623: [[106, 12, 5]], 646: [[6, 18, 3]], 664: [[155, 21, 5]], 965: [[12, 15, 3]], 719: [[27, 14, 6]], 342: [[42, 13, 1]], 234: [[13, 12, 3]], 340: [[139, 19, 5]], 159: [[82, 0, 1]], 472: [[239, 6, 2]], 500: [[61, 8, 0]], 286: [[112, 17, 2]], 654: [[156, 20, 0]], 57: [[118, 22, 4]], 725: [[138, 17, 0]], 1008: [[119, 18, 2]], 143: [[227, 21, 0]], 930: [[273, 14, 4]], 332: [[26, 19, 1]], 601: [[103, 15, 4]], 889: [[216, 10, 1]], 367: [[19, 4, 5]], 111: [[111, 21, 6]], 225: [[187, 23, 0]], 130: [[39, 17, 3]], 609: [[202, 12, 2]], 767: [[115, 16, 0]], 914: [[279, 20, 5]], 851: [[95, 14, 3]], 806: [[285, 18, 0]], 290: [[59, 12, 5]], 360: [[50, 17, 5]], 21: [[114, 10, 6]], 81: [[75, 17, 3]], 76: [[109, 9, 4]], 214: [[24, 17, 5]], 522: [[165, 19, 0]], 684: [[68, 18, 3]], 114: [[5, 0, 1]], 474: [[151, 14, 6]], 973: [[73, 1, 5]], 392: [[70, 16, 6]]}\n",
            "252\n",
            "tensor([[ 655,    0,   12,  ...,    0,    0,    0],\n",
            "        [1060,    1,   10,  ...,    0,    0,    0],\n",
            "        [  16,    2,    9,  ...,    0,    0,    0],\n",
            "        ...,\n",
            "        [ 474,  286,   14,  ...,    0,    0,    0],\n",
            "        [ 973,  287,    1,  ...,    0,    0,    0],\n",
            "        [ 392,  288,   16,  ...,    0,    0,    0]])\n",
            "252\n"
          ]
        }
      ],
      "source": [
        "#import torch\n",
        "sequences = {}\n",
        "count = {}\n",
        "\n",
        "MINVISIT = 5\n",
        "\n",
        "\n",
        "for _, row in df.iterrows():\n",
        "\n",
        "  if row['User ID'] not in sequences:\n",
        "    sequences[row['User ID']] = [[row['Venue ID'],row['localHour'],row['localDayofWeek']]]\n",
        "\n",
        "\n",
        "  else:\n",
        "    sequences[row['User ID']].append([row['Venue ID'],row['localHour'],row['localDayofWeek']])\n",
        "\n",
        "\n",
        "  if row['Venue ID'] not in count:\n",
        "    count[row['Venue ID']] = 1\n",
        "  else:\n",
        "    count[row['Venue ID']] += 1\n",
        "\n",
        "print(sequences)\n",
        "seq = []\n",
        "next = []\n",
        "to_remove = []\n",
        "\n",
        "for el in sequences:\n",
        "  entry = [el]\n",
        "  for i in range(len(sequences[el][len(sequences[el])-1])):\n",
        "    el2 = sequences[el][len(sequences[el])-1][i]\n",
        "    #print(el2,i)\n",
        "    if i == 0:\n",
        "      el2 = nodeIds[el2]\n",
        "    #print(el2,i)\n",
        "    entry.append(el2)\n",
        "  for i in range(len(sequences[el])-1):\n",
        "    entry.append(nodeIds[sequences[el][i][0]])\n",
        "  seq.append(torch.tensor(entry))\n",
        "\n",
        "  target = torch.zeros(numvenues)\n",
        "  target[sequences[el][len(sequences[el])-1][0]] = 1\n",
        "  next.append(target)\n",
        "  #print(count[sequences[el][len(sequences[el])-1][0]])\n",
        "  if count[sequences[el][len(sequences[el])-1][0]] < MINVISIT:\n",
        "\n",
        "    to_remove.append(sequences[el][len(sequences[el])-1][0])\n",
        "    #seq.append(torch.tensor(entry))\n",
        "    #next.append(target)\n",
        "\n",
        "seq=torch.nn.utils.rnn.pad_sequence(seq,batch_first=True)\n",
        "#seq=torch.nn.utils.rnn.pad_sequence(seq)\n",
        "\n",
        "print(len(to_remove))\n",
        "\n",
        "#to_remove_new = []\n",
        "\n",
        "#for el in to_remove:\n",
        "\n",
        "#  el = nodeIds[el]\n",
        "#  to_remove_new[]\n",
        "\n",
        "print(seq)\n",
        "print(len(next))\n",
        "\n"
      ]
    },
    {
      "cell_type": "code",
      "execution_count": 12,
      "id": "WQcL9QUDo7kz",
      "metadata": {
        "colab": {
          "base_uri": "https://localhost:8080/"
        },
        "id": "WQcL9QUDo7kz",
        "outputId": "a0e3c5a6-8245-49b4-9a90-d4e240ae5b0c"
      },
      "outputs": [
        {
          "output_type": "stream",
          "name": "stdout",
          "text": [
            "        User ID  Venue ID  Venue category ID   Latitude  Longitude  Timezone  \\\n",
            "31301       999        18                 56  40.723711 -73.992911      -240   \n",
            "166296      445       281                 70  40.827397 -73.945516      -240   \n",
            "141180      837        77                 24  40.633577 -74.006455      -240   \n",
            "64627       372       243                 50  40.742715 -73.988847      -240   \n",
            "16553       527       127                104  40.736950 -73.877220      -240   \n",
            "210921      124        78                 25  40.740636 -74.007780      -300   \n",
            "5934         84       184                 91  40.639595 -73.979155      -240   \n",
            "192243      943       274                  3  40.729662 -74.047638      -300   \n",
            "57106        70        16                100  40.758538 -73.985603      -240   \n",
            "95589       974       221                 48  40.827375 -73.952930      -240   \n",
            "54160        69        67                 42  40.709220 -73.869469      -240   \n",
            "146675     1039       218                  1  40.718419 -73.958328      -240   \n",
            "207524      293       201                  3  40.693212 -73.930104      -300   \n",
            "198712      353       260                 30  40.747584 -73.985720      -300   \n",
            "139812      924       183                 85  40.725185 -74.157362      -240   \n",
            "218810      344       128                 31  40.721502 -73.844175      -300   \n",
            "150712      185       198                 31  40.964572 -74.066434      -240   \n",
            "59668        67        91                 50  40.856751 -73.846722      -240   \n",
            "209346       36       100                 87  40.726342 -74.032850      -300   \n",
            "43509       372        40                 61  40.730040 -73.992856      -240   \n",
            "26978       519        71                 45  40.750394 -73.976687      -240   \n",
            "12320       772        38                 20  40.762936 -73.977806      -240   \n",
            "7592        354       104                104  40.725267 -73.996171      -240   \n",
            "57898       413        54                 59  40.763059 -73.979723      -240   \n",
            "183955      533       149                  9  40.814604 -74.216868      -300   \n",
            "158999      343       284                108  40.676590 -73.882608      -240   \n",
            "47542       458       248                114  40.695610 -73.972599      -240   \n",
            "58841       816       241                  3  40.935081 -73.965371      -240   \n",
            "57948       178        72                 92  40.781191 -73.986495      -240   \n",
            "202779      750       136                104  40.751633 -73.975885      -300   \n",
            "154860      280         4                 85  40.737610 -73.987941      -240   \n",
            "151867      267       199                106  40.857545 -73.856363      -240   \n",
            "25055       293       220                 31  40.675652 -73.930388      -240   \n",
            "3995          7       189                106  40.713962 -73.991883      -240   \n",
            "1233         53       212                 56  40.888952 -74.102658      -240   \n",
            "193396      344       142                 64  40.735633 -73.816259      -300   \n",
            "131814      837       209                 45  40.738733 -74.000154      -240   \n",
            "226213      956       110                  0  40.718347 -74.002619      -300   \n",
            "82252       865       192                 68  40.710044 -74.004590      -240   \n",
            "96885       319       226                  3  40.627294 -73.953616      -240   \n",
            "215268      816       241                  3  40.935081 -73.965371      -300   \n",
            "4231        364       153                 41  40.636959 -74.025427      -240   \n",
            "95105       372       182                 56  40.728005 -73.993485      -240   \n",
            "\n",
            "                              UTC time                 localTime  \\\n",
            "31301   Sun Apr 22 23:33:12 +0000 2012 2012-04-22 19:33:12+00:00   \n",
            "166296  Fri Oct 26 06:21:32 +0000 2012 2012-10-26 02:21:32+00:00   \n",
            "141180  Sun Jul 29 04:39:01 +0000 2012 2012-07-29 00:39:01+00:00   \n",
            "64627   Sun May 13 14:55:11 +0000 2012 2012-05-13 10:55:11+00:00   \n",
            "16553   Sat Apr 14 21:51:25 +0000 2012 2012-04-14 17:51:25+00:00   \n",
            "210921  Sat Jan 12 05:55:43 +0000 2013 2013-01-12 00:55:43+00:00   \n",
            "5934    Sun Apr 08 21:33:23 +0000 2012 2012-04-08 17:33:23+00:00   \n",
            "192243  Sun Dec 09 00:06:09 +0000 2012 2012-12-08 19:06:09+00:00   \n",
            "57106   Wed May 09 12:41:45 +0000 2012 2012-05-09 08:41:45+00:00   \n",
            "95589   Tue Jun 05 03:36:39 +0000 2012 2012-06-04 23:36:39+00:00   \n",
            "54160   Mon May 07 19:28:45 +0000 2012 2012-05-07 15:28:45+00:00   \n",
            "146675  Sat Aug 11 18:38:34 +0000 2012 2012-08-11 14:38:34+00:00   \n",
            "207524  Sun Jan 06 15:22:53 +0000 2013 2013-01-06 10:22:53+00:00   \n",
            "198712  Tue Dec 18 14:35:20 +0000 2012 2012-12-18 09:35:20+00:00   \n",
            "139812  Sat Jul 28 00:10:38 +0000 2012 2012-07-27 20:10:38+00:00   \n",
            "218810  Wed Jan 30 13:37:13 +0000 2013 2013-01-30 08:37:13+00:00   \n",
            "150712  Sun Aug 19 15:01:24 +0000 2012 2012-08-19 11:01:24+00:00   \n",
            "59668   Fri May 11 04:02:05 +0000 2012 2012-05-11 00:02:05+00:00   \n",
            "209346  Wed Jan 09 16:24:39 +0000 2013 2013-01-09 11:24:39+00:00   \n",
            "43509   Sun Apr 29 19:46:10 +0000 2012 2012-04-29 15:46:10+00:00   \n",
            "26978   Fri Apr 20 16:02:52 +0000 2012 2012-04-20 12:02:52+00:00   \n",
            "12320   Thu Apr 12 22:02:51 +0000 2012 2012-04-12 18:02:51+00:00   \n",
            "7592    Mon Apr 09 23:52:18 +0000 2012 2012-04-09 19:52:18+00:00   \n",
            "57898   Wed May 09 22:18:48 +0000 2012 2012-05-09 18:18:48+00:00   \n",
            "183955  Mon Nov 26 21:36:46 +0000 2012 2012-11-26 16:36:46+00:00   \n",
            "158999  Mon Oct 08 21:04:12 +0000 2012 2012-10-08 17:04:12+00:00   \n",
            "47542   Fri May 04 04:47:05 +0000 2012 2012-05-04 00:47:05+00:00   \n",
            "58841   Thu May 10 21:16:16 +0000 2012 2012-05-10 17:16:16+00:00   \n",
            "57948   Wed May 09 22:41:47 +0000 2012 2012-05-09 18:41:47+00:00   \n",
            "202779  Fri Dec 28 20:03:16 +0000 2012 2012-12-28 15:03:16+00:00   \n",
            "154860  Sun Sep 09 17:19:25 +0000 2012 2012-09-09 13:19:25+00:00   \n",
            "151867  Fri Aug 17 21:11:47 +0000 2012 2012-08-17 17:11:47+00:00   \n",
            "25055   Thu Apr 19 19:30:23 +0000 2012 2012-04-19 15:30:23+00:00   \n",
            "3995    Sat Apr 07 20:15:31 +0000 2012 2012-04-07 16:15:31+00:00   \n",
            "1233    Wed Apr 04 09:28:45 +0000 2012 2012-04-04 05:28:45+00:00   \n",
            "193396  Mon Dec 10 17:17:07 +0000 2012 2012-12-10 12:17:07+00:00   \n",
            "131814  Fri Jul 13 05:54:30 +0000 2012 2012-07-13 01:54:30+00:00   \n",
            "226213  Tue Feb 12 21:43:33 +0000 2013 2013-02-12 16:43:33+00:00   \n",
            "82252   Fri May 25 17:12:21 +0000 2012 2012-05-25 13:12:21+00:00   \n",
            "96885   Wed Jun 06 15:12:37 +0000 2012 2012-06-06 11:12:37+00:00   \n",
            "215268  Tue Jan 22 06:21:37 +0000 2013 2013-01-22 01:21:37+00:00   \n",
            "4231    Sat Apr 07 22:06:12 +0000 2012 2012-04-07 18:06:12+00:00   \n",
            "95105   Mon Jun 04 22:23:15 +0000 2012 2012-06-04 18:23:15+00:00   \n",
            "\n",
            "        localDayofWeek  localHour  \n",
            "31301                6         19  \n",
            "166296               4          2  \n",
            "141180               6          0  \n",
            "64627                6         10  \n",
            "16553                5         17  \n",
            "210921               5          0  \n",
            "5934                 6         17  \n",
            "192243               5         19  \n",
            "57106                2          8  \n",
            "95589                0         23  \n",
            "54160                0         15  \n",
            "146675               5         14  \n",
            "207524               6         10  \n",
            "198712               1          9  \n",
            "139812               4         20  \n",
            "218810               2          8  \n",
            "150712               6         11  \n",
            "59668                4          0  \n",
            "209346               2         11  \n",
            "43509                6         15  \n",
            "26978                4         12  \n",
            "12320                3         18  \n",
            "7592                 0         19  \n",
            "57898                2         18  \n",
            "183955               0         16  \n",
            "158999               0         17  \n",
            "47542                4          0  \n",
            "58841                3         17  \n",
            "57948                2         18  \n",
            "202779               4         15  \n",
            "154860               6         13  \n",
            "151867               4         17  \n",
            "25055                3         15  \n",
            "3995                 5         16  \n",
            "1233                 2          5  \n",
            "193396               0         12  \n",
            "131814               4          1  \n",
            "226213               1         16  \n",
            "82252                4         13  \n",
            "96885                2         11  \n",
            "215268               1          1  \n",
            "4231                 5         18  \n",
            "95105                0         18  \n",
            "        Venue ID   Latitude  Longitude  Venue category ID\n",
            "31301         18  40.723711 -73.992911                 56\n",
            "166296       281  40.827397 -73.945516                 70\n",
            "141180        77  40.633577 -74.006455                 24\n",
            "64627        243  40.742715 -73.988847                 50\n",
            "16553        127  40.736950 -73.877220                104\n",
            "210921        78  40.740636 -74.007780                 25\n",
            "5934         184  40.639595 -73.979155                 91\n",
            "192243       274  40.729662 -74.047638                  3\n",
            "57106         16  40.758538 -73.985603                100\n",
            "95589        221  40.827375 -73.952930                 48\n",
            "54160         67  40.709220 -73.869469                 42\n",
            "146675       218  40.718419 -73.958328                  1\n",
            "207524       201  40.693212 -73.930104                  3\n",
            "198712       260  40.747584 -73.985720                 30\n",
            "139812       183  40.725185 -74.157362                 85\n",
            "218810       128  40.721502 -73.844175                 31\n",
            "150712       198  40.964572 -74.066434                 31\n",
            "59668         91  40.856751 -73.846722                 50\n",
            "209346       100  40.726342 -74.032850                 87\n",
            "43509         40  40.730040 -73.992856                 61\n",
            "26978         71  40.750394 -73.976687                 45\n",
            "12320         38  40.762936 -73.977806                 20\n",
            "7592         104  40.725267 -73.996171                104\n",
            "57898         54  40.763059 -73.979723                 59\n",
            "183955       149  40.814604 -74.216868                  9\n",
            "158999       284  40.676590 -73.882608                108\n",
            "47542        248  40.695610 -73.972599                114\n",
            "58841        241  40.935081 -73.965371                  3\n",
            "57948         72  40.781191 -73.986495                 92\n",
            "202779       136  40.751633 -73.975885                104\n",
            "154860         4  40.737610 -73.987941                 85\n",
            "151867       199  40.857545 -73.856363                106\n",
            "25055        220  40.675652 -73.930388                 31\n",
            "3995         189  40.713962 -73.991883                106\n",
            "1233         212  40.888952 -74.102658                 56\n",
            "193396       142  40.735633 -73.816259                 64\n",
            "131814       209  40.738733 -74.000154                 45\n",
            "226213       110  40.718347 -74.002619                  0\n",
            "82252        192  40.710044 -74.004590                 68\n",
            "96885        226  40.627294 -73.953616                  3\n",
            "4231         153  40.636959 -74.025427                 41\n",
            "95105        182  40.728005 -73.993485                 56\n"
          ]
        }
      ],
      "source": [
        "df = df[~df['Venue ID'].isin(to_remove)]\n",
        "venuesdf = venuesdf[~venuesdf['Venue ID'].isin(to_remove)]\n",
        "venuesdict = venuesdf.to_dict('records')\n",
        "print(df)\n",
        "print(venuesdf)"
      ]
    },
    {
      "cell_type": "code",
      "execution_count": 13,
      "id": "LoL_BQyKFRJL",
      "metadata": {
        "colab": {
          "base_uri": "https://localhost:8080/"
        },
        "id": "LoL_BQyKFRJL",
        "outputId": "8c6e93de-139e-4481-9728-ae9b07e266d2"
      },
      "outputs": [
        {
          "output_type": "stream",
          "name": "stderr",
          "text": [
            "100%|██████████| 41/41 [00:00<00:00, 10731.81it/s]"
          ]
        },
        {
          "output_type": "stream",
          "name": "stdout",
          "text": [
            "Data(x=[289, 1], edge_index=[2, 20], edge_attr=[20, 1])\n"
          ]
        },
        {
          "output_type": "stream",
          "name": "stderr",
          "text": [
            "\n"
          ]
        }
      ],
      "source": [
        "#fast spatial graph construction\n",
        "\n",
        "import networkx as nx\n",
        "venuesdict = venuesdf.to_dict('records')\n",
        "#print(venuesdict)\n",
        "\n",
        "#for el in venuesdict:\n",
        "#  print((el,venuesdict[el]))\n",
        "'''\n",
        "G = nx.Graph()\n",
        "\n",
        "distances = []\n",
        "\n",
        "from tqdm import tqdm\n",
        "\n",
        "for i in tqdm(range(len(venuesdict) - 1)):\n",
        "    if not G.has_node(venuesdict[i]['Venue ID']):\n",
        "        G.add_node(venuesdict[i]['Venue ID'], category=venuesdict[i]['Venue category ID'])\n",
        "\n",
        "    for j in range(i + 1, len(venuesdict)):\n",
        "        if not G.has_node(venuesdict[j]['Venue ID']):\n",
        "            G.add_node(venuesdict[j]['Venue ID'], category=venuesdict[i]['Venue category ID'])\n",
        "\n",
        "        if distance_between_coordinates(venuesdict[i]['Latitude'], venuesdict[i]['Longitude'],\n",
        "                                        venuesdict[j]['Latitude'], venuesdict[j]['Longitude']) < 1:\n",
        "            G.add_edge(venuesdict[i]['Venue ID'], venuesdict[j]['Venue ID'])\n",
        "'''\n",
        "from tqdm import tqdm\n",
        "import torch\n",
        "from torch_geometric.data import Data\n",
        "\n",
        "edge_index = []\n",
        "edges_attr = []\n",
        "\n",
        "for i in tqdm(range(len(venuesdict) - 1)):\n",
        "\n",
        "   #if venuesdict[i]['Venue ID'] not in node_attr:\n",
        "   #  node_attr.append(venuesdict[i]['Venue ID'])\n",
        "\n",
        "   for j in range(i + 1, len(venuesdict)):\n",
        "    #  if venuesdict[j]['Venue ID'] not in node_attr:\n",
        "    #     node_attr.append(venuesdict[j]['Venue ID'])\n",
        "\n",
        "\n",
        "      if distance_between_coordinates(venuesdict[i]['Latitude'], venuesdict[i]['Longitude'],\n",
        "                                    venuesdict[j]['Latitude'], venuesdict[j]['Longitude']) < 1:\n",
        "        edge_index.append([nodeIds[venuesdict[i]['Venue ID']], nodeIds[venuesdict[j]['Venue ID']]])\n",
        "        edges_attr.append([1])\n",
        "\n",
        "spatG = Data(x=torch.tensor(node_attr), edge_index=torch.LongTensor(edge_index).t().contiguous(), edge_attr=torch.tensor(edges_attr))\n",
        "print(spatG)\n"
      ]
    },
    {
      "cell_type": "code",
      "execution_count": 14,
      "id": "Blc1bRFSR2cA",
      "metadata": {
        "colab": {
          "base_uri": "https://localhost:8080/"
        },
        "id": "Blc1bRFSR2cA",
        "outputId": "b84d7796-d8ef-4cdc-8f7b-6cdfe9fac821"
      },
      "outputs": [
        {
          "output_type": "stream",
          "name": "stdout",
          "text": [
            "Data(x=[289, 1], edge_index=[2, 20], edge_attr=[20, 1])\n"
          ]
        }
      ],
      "source": [
        "import pickle\n",
        "\n",
        "print(spatG)\n",
        "\n",
        "#spatpG = G\n",
        "\n",
        "pickle.dump(spatG,open('spatG.pickle','wb'))\n",
        "\n",
        "#data = pickle.load(open('spatG.pickle','rb'))"
      ]
    },
    {
      "cell_type": "code",
      "execution_count": 15,
      "id": "Mxp8l8v7SyTw",
      "metadata": {
        "colab": {
          "base_uri": "https://localhost:8080/"
        },
        "id": "Mxp8l8v7SyTw",
        "outputId": "bf05405f-297a-4d6f-e59e-ef535f936509"
      },
      "outputs": [
        {
          "output_type": "stream",
          "name": "stdout",
          "text": [
            "Data(x=[289, 1], edge_index=[2, 20], edge_attr=[20, 1])\n"
          ]
        }
      ],
      "source": [
        "#nx.draw(G)\n",
        "print(spatG)"
      ]
    },
    {
      "cell_type": "code",
      "execution_count": 16,
      "id": "e9ab55e3",
      "metadata": {
        "colab": {
          "base_uri": "https://localhost:8080/"
        },
        "id": "e9ab55e3",
        "outputId": "6f288d3e-9db0-435a-8789-115f086ee7bc"
      },
      "outputs": [
        {
          "output_type": "stream",
          "name": "stdout",
          "text": [
            "Data(x=[289, 1], edge_index=[2, 6], edge_attr=[6])\n"
          ]
        }
      ],
      "source": [
        "\n",
        "#sequantial relation graph\n",
        "#build a graph that captures the sequence of actions made by the users\n",
        "\n",
        "import networkx as nx\n",
        "\n",
        "edge_index = []\n",
        "edges_attr = []\n",
        "\n",
        "usrloc = {}\n",
        "\n",
        "#seqG = nx.Graph()\n",
        "\n",
        "for _, row in df.iterrows():\n",
        "\n",
        "  #if not seqG.has_node(row['Venue ID']):\n",
        "  #  seqG.add_node(row['Venue ID'], category=row['Venue category ID'])\n",
        "\n",
        "  if row['User ID'] not in usrloc:\n",
        "    usrloc[row['User ID']] = row['Venue ID']\n",
        "\n",
        "  else:\n",
        "    #seqG.add_edge(usrloc[row['User ID']],row['Venue ID'])\n",
        "    edge_index.append([nodeIds[usrloc[row['User ID']]], nodeIds[row['Venue ID']]])\n",
        "    edges_attr.append(1)\n",
        "    usrloc[row['User ID']] = row['Venue ID']\n",
        "\n",
        "\n",
        "seqG = Data(x=torch.tensor(node_attr), edge_index=torch.tensor(edge_index).t().contiguous(), edge_attr=torch.tensor(edges_attr))\n",
        "print(seqG)\n",
        "\n",
        "\n",
        "\n",
        "\n"
      ]
    },
    {
      "cell_type": "code",
      "execution_count": 17,
      "id": "i_gOIQACbN1E",
      "metadata": {
        "colab": {
          "base_uri": "https://localhost:8080/"
        },
        "id": "i_gOIQACbN1E",
        "outputId": "716f2ad5-6e9d-4eb5-b76a-ff1e75215497"
      },
      "outputs": [
        {
          "output_type": "stream",
          "name": "stdout",
          "text": [
            "Data(x=[289, 1], edge_index=[2, 6], edge_attr=[6])\n"
          ]
        }
      ],
      "source": [
        "import pickle\n",
        "\n",
        "\n",
        "print(seqG)\n",
        "\n",
        "pickle.dump(seqG,open('tempG.pickle','wb'))\n",
        "\n",
        "#data = pickle.load(open('tempG.pickle','rb'))"
      ]
    },
    {
      "cell_type": "code",
      "execution_count": 18,
      "id": "y7d_3DktgSmi",
      "metadata": {
        "colab": {
          "base_uri": "https://localhost:8080/"
        },
        "id": "y7d_3DktgSmi",
        "outputId": "cb3a559c-f9ab-4207-cbbe-6ed1e69a3d3c"
      },
      "outputs": [
        {
          "output_type": "stream",
          "name": "stdout",
          "text": [
            "    Venue ID  Venue category ID  localHour\n",
            "0          4                 85       13.0\n",
            "1         16                100        8.0\n",
            "2         18                 56       19.0\n",
            "3         38                 20       18.0\n",
            "4         40                 61       15.0\n",
            "5         54                 59       18.0\n",
            "6         67                 42       15.0\n",
            "7         71                 45       12.0\n",
            "8         72                 92       18.0\n",
            "9         77                 24        0.0\n",
            "10        78                 25        0.0\n",
            "11        91                 50        0.0\n",
            "12       100                 87       11.0\n",
            "13       104                104       19.0\n",
            "14       110                  0       16.0\n",
            "15       127                104       17.0\n",
            "16       128                 31        8.0\n",
            "17       136                104       15.0\n",
            "18       142                 64       12.0\n",
            "19       149                  9       16.0\n",
            "20       153                 41       18.0\n",
            "21       182                 56       18.0\n",
            "22       183                 85       20.0\n",
            "23       184                 91       17.0\n",
            "24       189                106       16.0\n",
            "25       192                 68       13.0\n",
            "26       198                 31       11.0\n",
            "27       199                106       17.0\n",
            "28       201                  3       10.0\n",
            "29       209                 45        1.0\n",
            "30       212                 56        5.0\n",
            "31       218                  1       14.0\n",
            "32       220                 31       15.0\n",
            "33       221                 48       23.0\n",
            "34       226                  3       11.0\n",
            "35       241                  3        9.0\n",
            "36       243                 50       10.0\n",
            "37       248                114        0.0\n",
            "38       260                 30        9.0\n",
            "39       274                  3       19.0\n",
            "40       281                 70        2.0\n",
            "41       284                108       17.0\n",
            "    Venue ID  Venue category ID  localHour  localDayofWeek\n",
            "0          4                 85       13.0             6.0\n",
            "1         16                100        8.0             2.0\n",
            "2         18                 56       19.0             6.0\n",
            "3         38                 20       18.0             3.0\n",
            "4         40                 61       15.0             6.0\n",
            "5         54                 59       18.0             2.0\n",
            "6         67                 42       15.0             0.0\n",
            "7         71                 45       12.0             4.0\n",
            "8         72                 92       18.0             2.0\n",
            "9         77                 24        0.0             6.0\n",
            "10        78                 25        0.0             5.0\n",
            "11        91                 50        0.0             4.0\n",
            "12       100                 87       11.0             2.0\n",
            "13       104                104       19.0             0.0\n",
            "14       110                  0       16.0             1.0\n",
            "15       127                104       17.0             5.0\n",
            "16       128                 31        8.0             2.0\n",
            "17       136                104       15.0             4.0\n",
            "18       142                 64       12.0             0.0\n",
            "19       149                  9       16.0             0.0\n",
            "20       153                 41       18.0             5.0\n",
            "21       182                 56       18.0             0.0\n",
            "22       183                 85       20.0             4.0\n",
            "23       184                 91       17.0             6.0\n",
            "24       189                106       16.0             5.0\n",
            "25       192                 68       13.0             4.0\n",
            "26       198                 31       11.0             6.0\n",
            "27       199                106       17.0             4.0\n",
            "28       201                  3       10.0             6.0\n",
            "29       209                 45        1.0             4.0\n",
            "30       212                 56        5.0             2.0\n",
            "31       218                  1       14.0             5.0\n",
            "32       220                 31       15.0             3.0\n",
            "33       221                 48       23.0             0.0\n",
            "34       226                  3       11.0             2.0\n",
            "35       241                  3        9.0             2.0\n",
            "36       243                 50       10.0             6.0\n",
            "37       248                114        0.0             4.0\n",
            "38       260                 30        9.0             1.0\n",
            "39       274                  3       19.0             5.0\n",
            "40       281                 70        2.0             4.0\n",
            "41       284                108       17.0             0.0\n"
          ]
        }
      ],
      "source": [
        "import math\n",
        "groupeddf = df.groupby(['Venue ID','Venue category ID'],as_index=False)\n",
        "avghour = groupeddf['localHour'].mean()\n",
        "avgday = groupeddf['localDayofWeek'].mean()\n",
        "\n",
        "print(avghour)\n",
        "\n",
        "timedf = pd.concat([avghour,avgday['localDayofWeek']],axis=1)\n",
        "\n",
        "\n",
        "\n",
        "print(timedf)\n",
        "\n",
        "hours = {}\n",
        "week = {}\n",
        "\n",
        "#week['workdays'] = []\n",
        "#week['weekend'] = []\n",
        "\n",
        "\n",
        "for _, row in timedf.iterrows():\n",
        "\n",
        "  hour = math.floor(row['localHour'])\n",
        "  day = math.floor(row['localDayofWeek'])\n",
        "\n",
        "  if hour not in hours:\n",
        "    #hours[hour] = [[row['Venue ID'],row['Venue category ID']]]\n",
        "    hours[hour] = [[row['Venue ID'],row['Venue category ID']]]\n",
        "\n",
        "  else:\n",
        "    hours[hour].append([row['Venue ID'],row['Venue category ID']])\n",
        "\n",
        "  #if 1 <= day <=4:\n",
        "  #  week['workdays'].append([row['Venue ID'],row['Venue category ID']])\n",
        "  #else:\n",
        "  #  week['weekend'].append([row['Venue ID'],row['Venue category ID']])\n",
        "\n",
        "  if day not in week:\n",
        "    #hours[hour] = [[row['Venue ID'],row['Venue category ID']]]\n",
        "    week[day] = [[row['Venue ID'],row['Venue category ID']]]\n",
        "\n",
        "  else:\n",
        "    week[day].append([row['Venue ID'],row['Venue category ID']])\n",
        "\n",
        "\n",
        "\n",
        "\n"
      ]
    },
    {
      "cell_type": "code",
      "execution_count": 19,
      "id": "sUL95Z8_CV2E",
      "metadata": {
        "colab": {
          "base_uri": "https://localhost:8080/"
        },
        "id": "sUL95Z8_CV2E",
        "outputId": "149bc0b9-1a83-4598-c7ee-87970da48417"
      },
      "outputs": [
        {
          "output_type": "stream",
          "name": "stdout",
          "text": [
            "Data(x=[289, 1], edge_index=[2, 84], edge_attr=[0])\n"
          ]
        }
      ],
      "source": [
        "#dayG = nx.Graph()\n",
        "#hourG = nx.Graph()\n",
        "\n",
        "edge_index = []\n",
        "edges_attr = []\n",
        "\n",
        "for el in hours:\n",
        "   for u in hours[el]:\n",
        "\n",
        "    #if not hourG.has_node(u[0]):\n",
        "    #  hourG.add_node(u[0], category=u[1])\n",
        "\n",
        "    for v in hours[el]:\n",
        "\n",
        "      if u != v:\n",
        "\n",
        "        #if not hourG.has_node(u[0]):\n",
        "        #  hourG.add_node(v[0], category=v[1])\n",
        "\n",
        "        #hourG.add_edge(u[0],v[0])\n",
        "        edge_index.append([nodeIds[u[0]], nodeIds[v[0]]])\n",
        "\n",
        "hourG = Data(x=torch.tensor(node_attr), edge_index=torch.tensor(edge_index).t().contiguous(), edge_attr=torch.tensor(edges_attr))\n",
        "print(hourG)\n",
        "\n",
        "\n"
      ]
    },
    {
      "cell_type": "code",
      "execution_count": 20,
      "id": "5ef64bc7",
      "metadata": {
        "id": "5ef64bc7"
      },
      "outputs": [],
      "source": [
        "pickle.dump(hourG,open('hourG.pickle','wb'))\n",
        "\n",
        "#data = pickle.load(open('tempG.pickle','rb'))"
      ]
    },
    {
      "cell_type": "code",
      "execution_count": 21,
      "id": "DVzk8w57C8b6",
      "metadata": {
        "colab": {
          "base_uri": "https://localhost:8080/"
        },
        "id": "DVzk8w57C8b6",
        "outputId": "4fc08fe1-d884-4bc9-b69e-b1f1cf70110e"
      },
      "outputs": [
        {
          "output_type": "stream",
          "name": "stdout",
          "text": [
            "Data(x=[289, 1], edge_index=[2, 260], edge_attr=[0])\n"
          ]
        }
      ],
      "source": [
        "edge_index = []\n",
        "edges_attr = []\n",
        "\n",
        "\n",
        "for el in week:\n",
        "   for u in week[el]:\n",
        "\n",
        "    #if not dayG.has_node(u[0]):\n",
        "    #  dayG.add_node(u[0], category=u[1])\n",
        "\n",
        "    for v in week[el]:\n",
        "\n",
        "      if u != v:\n",
        "\n",
        "        #if not dayG.has_node(u[0]):\n",
        "        #  dayG.add_node(v[0], category=v[1])\n",
        "\n",
        "        #dayG.add_edge(u[0],v[0])\n",
        "        edge_index.append([nodeIds[u[0]], nodeIds[v[0]]])\n",
        "\n",
        "dayG = Data(x=torch.tensor(node_attr), edge_index=torch.tensor(edge_index).t().contiguous(), edge_attr=torch.tensor(edges_attr))\n",
        "print(dayG)"
      ]
    },
    {
      "cell_type": "code",
      "execution_count": 22,
      "id": "bc3ffb10",
      "metadata": {
        "id": "bc3ffb10"
      },
      "outputs": [],
      "source": [
        "pickle.dump(dayG,open('dayG.pickle','wb'))"
      ]
    },
    {
      "cell_type": "code",
      "execution_count": 22,
      "id": "3RyeVXUsEF_D",
      "metadata": {
        "id": "3RyeVXUsEF_D"
      },
      "outputs": [],
      "source": []
    },
    {
      "cell_type": "code",
      "execution_count": 23,
      "id": "XlLW_es1-Z87",
      "metadata": {
        "colab": {
          "base_uri": "https://localhost:8080/"
        },
        "id": "XlLW_es1-Z87",
        "outputId": "f0892906-cd72-4a49-e9b3-d0d12b618e42"
      },
      "outputs": [
        {
          "output_type": "stream",
          "name": "stdout",
          "text": [
            "Collecting pytorch-lightning\n",
            "  Downloading pytorch_lightning-2.2.5-py3-none-any.whl (802 kB)\n",
            "\u001b[2K     \u001b[90m━━━━━━━━━━━━━━━━━━━━━━━━━━━━━━━━━━━━━━━━\u001b[0m \u001b[32m802.3/802.3 kB\u001b[0m \u001b[31m10.6 MB/s\u001b[0m eta \u001b[36m0:00:00\u001b[0m\n",
            "\u001b[?25hRequirement already satisfied: numpy>=1.17.2 in /usr/local/lib/python3.10/dist-packages (from pytorch-lightning) (1.25.2)\n",
            "Requirement already satisfied: torch>=1.13.0 in /usr/local/lib/python3.10/dist-packages (from pytorch-lightning) (2.3.0+cu121)\n",
            "Requirement already satisfied: tqdm>=4.57.0 in /usr/local/lib/python3.10/dist-packages (from pytorch-lightning) (4.66.4)\n",
            "Requirement already satisfied: PyYAML>=5.4 in /usr/local/lib/python3.10/dist-packages (from pytorch-lightning) (6.0.1)\n",
            "Requirement already satisfied: fsspec[http]>=2022.5.0 in /usr/local/lib/python3.10/dist-packages (from pytorch-lightning) (2023.6.0)\n",
            "Collecting torchmetrics>=0.7.0 (from pytorch-lightning)\n",
            "  Downloading torchmetrics-1.4.0.post0-py3-none-any.whl (868 kB)\n",
            "\u001b[2K     \u001b[90m━━━━━━━━━━━━━━━━━━━━━━━━━━━━━━━━━━━━━━━━\u001b[0m \u001b[32m868.8/868.8 kB\u001b[0m \u001b[31m40.8 MB/s\u001b[0m eta \u001b[36m0:00:00\u001b[0m\n",
            "\u001b[?25hRequirement already satisfied: packaging>=20.0 in /usr/local/lib/python3.10/dist-packages (from pytorch-lightning) (24.0)\n",
            "Requirement already satisfied: typing-extensions>=4.4.0 in /usr/local/lib/python3.10/dist-packages (from pytorch-lightning) (4.11.0)\n",
            "Collecting lightning-utilities>=0.8.0 (from pytorch-lightning)\n",
            "  Downloading lightning_utilities-0.11.2-py3-none-any.whl (26 kB)\n",
            "Requirement already satisfied: requests in /usr/local/lib/python3.10/dist-packages (from fsspec[http]>=2022.5.0->pytorch-lightning) (2.31.0)\n",
            "Requirement already satisfied: aiohttp!=4.0.0a0,!=4.0.0a1 in /usr/local/lib/python3.10/dist-packages (from fsspec[http]>=2022.5.0->pytorch-lightning) (3.9.5)\n",
            "Requirement already satisfied: setuptools in /usr/local/lib/python3.10/dist-packages (from lightning-utilities>=0.8.0->pytorch-lightning) (67.7.2)\n",
            "Requirement already satisfied: filelock in /usr/local/lib/python3.10/dist-packages (from torch>=1.13.0->pytorch-lightning) (3.14.0)\n",
            "Requirement already satisfied: sympy in /usr/local/lib/python3.10/dist-packages (from torch>=1.13.0->pytorch-lightning) (1.12)\n",
            "Requirement already satisfied: networkx in /usr/local/lib/python3.10/dist-packages (from torch>=1.13.0->pytorch-lightning) (3.3)\n",
            "Requirement already satisfied: jinja2 in /usr/local/lib/python3.10/dist-packages (from torch>=1.13.0->pytorch-lightning) (3.1.4)\n",
            "Collecting nvidia-cuda-nvrtc-cu12==12.1.105 (from torch>=1.13.0->pytorch-lightning)\n",
            "  Using cached nvidia_cuda_nvrtc_cu12-12.1.105-py3-none-manylinux1_x86_64.whl (23.7 MB)\n",
            "Collecting nvidia-cuda-runtime-cu12==12.1.105 (from torch>=1.13.0->pytorch-lightning)\n",
            "  Using cached nvidia_cuda_runtime_cu12-12.1.105-py3-none-manylinux1_x86_64.whl (823 kB)\n",
            "Collecting nvidia-cuda-cupti-cu12==12.1.105 (from torch>=1.13.0->pytorch-lightning)\n",
            "  Using cached nvidia_cuda_cupti_cu12-12.1.105-py3-none-manylinux1_x86_64.whl (14.1 MB)\n",
            "Collecting nvidia-cudnn-cu12==8.9.2.26 (from torch>=1.13.0->pytorch-lightning)\n",
            "  Using cached nvidia_cudnn_cu12-8.9.2.26-py3-none-manylinux1_x86_64.whl (731.7 MB)\n",
            "Collecting nvidia-cublas-cu12==12.1.3.1 (from torch>=1.13.0->pytorch-lightning)\n",
            "  Using cached nvidia_cublas_cu12-12.1.3.1-py3-none-manylinux1_x86_64.whl (410.6 MB)\n",
            "Collecting nvidia-cufft-cu12==11.0.2.54 (from torch>=1.13.0->pytorch-lightning)\n",
            "  Using cached nvidia_cufft_cu12-11.0.2.54-py3-none-manylinux1_x86_64.whl (121.6 MB)\n",
            "Collecting nvidia-curand-cu12==10.3.2.106 (from torch>=1.13.0->pytorch-lightning)\n",
            "  Using cached nvidia_curand_cu12-10.3.2.106-py3-none-manylinux1_x86_64.whl (56.5 MB)\n",
            "Collecting nvidia-cusolver-cu12==11.4.5.107 (from torch>=1.13.0->pytorch-lightning)\n",
            "  Using cached nvidia_cusolver_cu12-11.4.5.107-py3-none-manylinux1_x86_64.whl (124.2 MB)\n",
            "Collecting nvidia-cusparse-cu12==12.1.0.106 (from torch>=1.13.0->pytorch-lightning)\n",
            "  Using cached nvidia_cusparse_cu12-12.1.0.106-py3-none-manylinux1_x86_64.whl (196.0 MB)\n",
            "Collecting nvidia-nccl-cu12==2.20.5 (from torch>=1.13.0->pytorch-lightning)\n",
            "  Using cached nvidia_nccl_cu12-2.20.5-py3-none-manylinux2014_x86_64.whl (176.2 MB)\n",
            "Collecting nvidia-nvtx-cu12==12.1.105 (from torch>=1.13.0->pytorch-lightning)\n",
            "  Using cached nvidia_nvtx_cu12-12.1.105-py3-none-manylinux1_x86_64.whl (99 kB)\n",
            "Requirement already satisfied: triton==2.3.0 in /usr/local/lib/python3.10/dist-packages (from torch>=1.13.0->pytorch-lightning) (2.3.0)\n",
            "Collecting nvidia-nvjitlink-cu12 (from nvidia-cusolver-cu12==11.4.5.107->torch>=1.13.0->pytorch-lightning)\n",
            "  Downloading nvidia_nvjitlink_cu12-12.5.40-py3-none-manylinux2014_x86_64.whl (21.3 MB)\n",
            "\u001b[2K     \u001b[90m━━━━━━━━━━━━━━━━━━━━━━━━━━━━━━━━━━━━━━━━\u001b[0m \u001b[32m21.3/21.3 MB\u001b[0m \u001b[31m48.1 MB/s\u001b[0m eta \u001b[36m0:00:00\u001b[0m\n",
            "\u001b[?25hRequirement already satisfied: aiosignal>=1.1.2 in /usr/local/lib/python3.10/dist-packages (from aiohttp!=4.0.0a0,!=4.0.0a1->fsspec[http]>=2022.5.0->pytorch-lightning) (1.3.1)\n",
            "Requirement already satisfied: attrs>=17.3.0 in /usr/local/lib/python3.10/dist-packages (from aiohttp!=4.0.0a0,!=4.0.0a1->fsspec[http]>=2022.5.0->pytorch-lightning) (23.2.0)\n",
            "Requirement already satisfied: frozenlist>=1.1.1 in /usr/local/lib/python3.10/dist-packages (from aiohttp!=4.0.0a0,!=4.0.0a1->fsspec[http]>=2022.5.0->pytorch-lightning) (1.4.1)\n",
            "Requirement already satisfied: multidict<7.0,>=4.5 in /usr/local/lib/python3.10/dist-packages (from aiohttp!=4.0.0a0,!=4.0.0a1->fsspec[http]>=2022.5.0->pytorch-lightning) (6.0.5)\n",
            "Requirement already satisfied: yarl<2.0,>=1.0 in /usr/local/lib/python3.10/dist-packages (from aiohttp!=4.0.0a0,!=4.0.0a1->fsspec[http]>=2022.5.0->pytorch-lightning) (1.9.4)\n",
            "Requirement already satisfied: async-timeout<5.0,>=4.0 in /usr/local/lib/python3.10/dist-packages (from aiohttp!=4.0.0a0,!=4.0.0a1->fsspec[http]>=2022.5.0->pytorch-lightning) (4.0.3)\n",
            "Requirement already satisfied: MarkupSafe>=2.0 in /usr/local/lib/python3.10/dist-packages (from jinja2->torch>=1.13.0->pytorch-lightning) (2.1.5)\n",
            "Requirement already satisfied: charset-normalizer<4,>=2 in /usr/local/lib/python3.10/dist-packages (from requests->fsspec[http]>=2022.5.0->pytorch-lightning) (3.3.2)\n",
            "Requirement already satisfied: idna<4,>=2.5 in /usr/local/lib/python3.10/dist-packages (from requests->fsspec[http]>=2022.5.0->pytorch-lightning) (3.7)\n",
            "Requirement already satisfied: urllib3<3,>=1.21.1 in /usr/local/lib/python3.10/dist-packages (from requests->fsspec[http]>=2022.5.0->pytorch-lightning) (2.0.7)\n",
            "Requirement already satisfied: certifi>=2017.4.17 in /usr/local/lib/python3.10/dist-packages (from requests->fsspec[http]>=2022.5.0->pytorch-lightning) (2024.2.2)\n",
            "Requirement already satisfied: mpmath>=0.19 in /usr/local/lib/python3.10/dist-packages (from sympy->torch>=1.13.0->pytorch-lightning) (1.3.0)\n",
            "Installing collected packages: nvidia-nvtx-cu12, nvidia-nvjitlink-cu12, nvidia-nccl-cu12, nvidia-curand-cu12, nvidia-cufft-cu12, nvidia-cuda-runtime-cu12, nvidia-cuda-nvrtc-cu12, nvidia-cuda-cupti-cu12, nvidia-cublas-cu12, lightning-utilities, nvidia-cusparse-cu12, nvidia-cudnn-cu12, nvidia-cusolver-cu12, torchmetrics, pytorch-lightning\n",
            "Successfully installed lightning-utilities-0.11.2 nvidia-cublas-cu12-12.1.3.1 nvidia-cuda-cupti-cu12-12.1.105 nvidia-cuda-nvrtc-cu12-12.1.105 nvidia-cuda-runtime-cu12-12.1.105 nvidia-cudnn-cu12-8.9.2.26 nvidia-cufft-cu12-11.0.2.54 nvidia-curand-cu12-10.3.2.106 nvidia-cusolver-cu12-11.4.5.107 nvidia-cusparse-cu12-12.1.0.106 nvidia-nccl-cu12-2.20.5 nvidia-nvjitlink-cu12-12.5.40 nvidia-nvtx-cu12-12.1.105 pytorch-lightning-2.2.5 torchmetrics-1.4.0.post0\n"
          ]
        }
      ],
      "source": [
        "!pip install pytorch-lightning\n",
        "import pytorch_lightning as pl"
      ]
    },
    {
      "cell_type": "code",
      "execution_count": 24,
      "id": "QxAZBv8Y-udN",
      "metadata": {
        "id": "QxAZBv8Y-udN"
      },
      "outputs": [],
      "source": [
        "from sklearn.model_selection import train_test_split\n",
        "\n",
        "batchsize = 32\n",
        "\n",
        "\n",
        "#train_x,test_x,train_y,test_y = train_test_split(seq,torch.stack(next),test_size=0.2,stratify=torch.stack(next))\n",
        "train_x,test_x,train_y,test_y = train_test_split(seq,torch.stack(next),test_size=0.2)\n",
        "#train_x,val_x,train_y,val_y = train_test_split(train_x,train_y,test_size=0.2,stratify=train_y)\n",
        "train_x,val_x,train_y,val_y = train_test_split(train_x,train_y,test_size=0.2)\n",
        "\n",
        "trainset = torch.utils.data.TensorDataset(train_x,train_y)\n",
        "trainloader = torch.utils.data.DataLoader(trainset,batch_size=batchsize,shuffle=True)\n",
        "\n",
        "valset = torch.utils.data.TensorDataset(val_x,val_y)\n",
        "valloader = torch.utils.data.DataLoader(valset,batch_size=batchsize,shuffle=True)\n",
        "\n",
        "testset = torch.utils.data.TensorDataset(test_x,test_y)\n",
        "testloader = torch.utils.data.DataLoader(testset,batch_size=batchsize,shuffle=True)"
      ]
    },
    {
      "cell_type": "code",
      "execution_count": 31,
      "id": "qSHVr4HM5ddS",
      "metadata": {
        "colab": {
          "base_uri": "https://localhost:8080/",
          "height": 1000,
          "referenced_widgets": [
            "6c18f45c37a444c0ba366b7bc580e2fa",
            "cef1f5860695455f9f2a9d1a35c7d92c",
            "f18b4e01cc2b4cb8bdccde50f3a6d37a",
            "0121414252d44c609bae5872b60c0fca",
            "6908175fd99b437da8da80fa6ebda8af",
            "47070d4981434aeb894b4f061668a4bb",
            "21ccf2bc11a34c66956110f0a186073d",
            "2c6001c3b5024d36913369fe39aec53b",
            "0443f123e845463b8f50605f0775d727",
            "c95296f5b76648a691d02863d4a92938",
            "7b328d1d9fea4304bc32ae437b7d4579"
          ]
        },
        "id": "qSHVr4HM5ddS",
        "outputId": "9cfbaf74-1647-4505-b4f7-1400fc8bf5f2"
      },
      "outputs": [
        {
          "output_type": "stream",
          "name": "stderr",
          "text": [
            "INFO:pytorch_lightning.utilities.rank_zero:GPU available: False, used: False\n",
            "INFO:pytorch_lightning.utilities.rank_zero:TPU available: False, using: 0 TPU cores\n",
            "INFO:pytorch_lightning.utilities.rank_zero:IPU available: False, using: 0 IPUs\n",
            "INFO:pytorch_lightning.utilities.rank_zero:HPU available: False, using: 0 HPUs\n",
            "INFO:pytorch_lightning.callbacks.model_summary:\n",
            "  | Name  | Type  | Params\n",
            "--------------------------------\n",
            "0 | model | Model | 981 K \n",
            "--------------------------------\n",
            "981 K     Trainable params\n",
            "0         Non-trainable params\n",
            "981 K     Total params\n",
            "3.928     Total estimated model params size (MB)\n",
            "/usr/local/lib/python3.10/dist-packages/pytorch_lightning/loops/fit_loop.py:298: The number of training batches (5) is smaller than the logging interval Trainer(log_every_n_steps=50). Set a lower value for log_every_n_steps if you want to see logs for the training epoch.\n"
          ]
        },
        {
          "output_type": "display_data",
          "data": {
            "text/plain": [
              "Training: |          | 0/? [00:00<?, ?it/s]"
            ],
            "application/vnd.jupyter.widget-view+json": {
              "version_major": 2,
              "version_minor": 0,
              "model_id": "6c18f45c37a444c0ba366b7bc580e2fa"
            }
          },
          "metadata": {}
        },
        {
          "output_type": "stream",
          "name": "stdout",
          "text": [
            "tensor([[349, 157,  20,   2,   0,   0,   0],\n",
            "        [371, 225,  13,   6,   0,   0,   0],\n",
            "        [344, 202,   7,   2,  61, 159,   0],\n",
            "        [280, 238,  13,   0, 139,   0,   0],\n",
            "        [293, 183,  12,   2,  47, 146,   0],\n",
            "        [238, 123,  17,   5,   0,   0,   0],\n",
            "        [706, 122,   0,   2,   0,   0,   0],\n",
            "        [ 34,  49,   1,   6,   0,   0,   0],\n",
            "        [956, 255,  17,   4, 208,   0,   0],\n",
            "        [753, 100,   7,   1,   0,   0,   0],\n",
            "        [819,  85,   1,   4,  85,   0,   0],\n",
            "        [364, 273,  19,   5, 218,   0,   0],\n",
            "        [427, 181,  19,   4,   0,   0,   0],\n",
            "        [767, 270,  16,   0,   0,   0,   0],\n",
            "        [221,  71,  23,   4,   0,   0,   0],\n",
            "        [ 64,  41,  13,   4,   0,   0,   0],\n",
            "        [ 69,  93,  22,   6,  37,   0,   0],\n",
            "        [ 39, 110,  22,   1,   0,   0,   0],\n",
            "        [715,  11,   8,   2,   0,   0,   0],\n",
            "        [ 95,  88,   8,   5,  71,   0,   0],\n",
            "        [965, 140,  15,   3,   0,   0,   0],\n",
            "        [234, 244,  12,   3,   0,   0,   0],\n",
            "        [646, 239,  18,   3,   0,   0,   0],\n",
            "        [757,  73,   7,   4,   0,   0,   0],\n",
            "        [ 25, 154,  12,   3,   0,   0,   0],\n",
            "        [730,  78,  13,   6,   0,   0,   0],\n",
            "        [351, 234,   9,   3,   0,   0,   0],\n",
            "        [172, 138,   8,   3,   0,   0,   0],\n",
            "        [159, 247,   0,   1,   0,   0,   0],\n",
            "        [215, 206,   8,   5,   0,   0,   0],\n",
            "        [842, 127,  22,   2,   0,   0,   0],\n",
            "        [199,  97,  20,   5,   0,   0,   0]])\n",
            "tensor([2, 6, 2, 0, 2, 5, 2, 6, 4, 1, 4, 5, 4, 0, 4, 4, 6, 1, 2, 5, 3, 3, 3, 4,\n",
            "        3, 6, 3, 3, 1, 5, 2, 5])\n",
            "True\n",
            "tensor([[  5,   5,   5,   7,  13,  13,  28,  33,  33,  52,  52,  74,  80,  80,\n",
            "          80,  82,  83,  94,  94, 208],\n",
            "        [ 80,  94, 227,  36,  52, 139, 203,  83,  95,  82, 137, 141,  94, 139,\n",
            "         227, 137,  95, 208, 227, 209]])\n"
          ]
        },
        {
          "output_type": "error",
          "ename": "ValueError",
          "evalue": "`MessagePassing.propagate` only supports integer tensors of shape `[2, num_messages]`, `torch_sparse.SparseTensor` or `torch.sparse.Tensor` for argument `edge_index`.",
          "traceback": [
            "\u001b[0;31m---------------------------------------------------------------------------\u001b[0m",
            "\u001b[0;31mValueError\u001b[0m                                Traceback (most recent call last)",
            "\u001b[0;32m<ipython-input-31-5a5be2033717>\u001b[0m in \u001b[0;36m<cell line: 113>\u001b[0;34m()\u001b[0m\n\u001b[1;32m    111\u001b[0m \u001b[0;34m\u001b[0m\u001b[0m\n\u001b[1;32m    112\u001b[0m \u001b[0mtrainer\u001b[0m \u001b[0;34m=\u001b[0m \u001b[0mpl\u001b[0m\u001b[0;34m.\u001b[0m\u001b[0mTrainer\u001b[0m\u001b[0;34m(\u001b[0m\u001b[0mmax_epochs\u001b[0m\u001b[0;34m=\u001b[0m\u001b[0;36m10\u001b[0m\u001b[0;34m)\u001b[0m\u001b[0;34m\u001b[0m\u001b[0;34m\u001b[0m\u001b[0m\n\u001b[0;32m--> 113\u001b[0;31m \u001b[0mtrainer\u001b[0m\u001b[0;34m.\u001b[0m\u001b[0mfit\u001b[0m\u001b[0;34m(\u001b[0m\u001b[0mmodel\u001b[0m\u001b[0;34m,\u001b[0m \u001b[0mtrainloader\u001b[0m\u001b[0;34m)\u001b[0m\u001b[0;34m\u001b[0m\u001b[0;34m\u001b[0m\u001b[0m\n\u001b[0m",
            "\u001b[0;32m/usr/local/lib/python3.10/dist-packages/pytorch_lightning/trainer/trainer.py\u001b[0m in \u001b[0;36mfit\u001b[0;34m(self, model, train_dataloaders, val_dataloaders, datamodule, ckpt_path)\u001b[0m\n\u001b[1;32m    542\u001b[0m         \u001b[0mself\u001b[0m\u001b[0;34m.\u001b[0m\u001b[0mstate\u001b[0m\u001b[0;34m.\u001b[0m\u001b[0mstatus\u001b[0m \u001b[0;34m=\u001b[0m \u001b[0mTrainerStatus\u001b[0m\u001b[0;34m.\u001b[0m\u001b[0mRUNNING\u001b[0m\u001b[0;34m\u001b[0m\u001b[0;34m\u001b[0m\u001b[0m\n\u001b[1;32m    543\u001b[0m         \u001b[0mself\u001b[0m\u001b[0;34m.\u001b[0m\u001b[0mtraining\u001b[0m \u001b[0;34m=\u001b[0m \u001b[0;32mTrue\u001b[0m\u001b[0;34m\u001b[0m\u001b[0;34m\u001b[0m\u001b[0m\n\u001b[0;32m--> 544\u001b[0;31m         call._call_and_handle_interrupt(\n\u001b[0m\u001b[1;32m    545\u001b[0m             \u001b[0mself\u001b[0m\u001b[0;34m,\u001b[0m \u001b[0mself\u001b[0m\u001b[0;34m.\u001b[0m\u001b[0m_fit_impl\u001b[0m\u001b[0;34m,\u001b[0m \u001b[0mmodel\u001b[0m\u001b[0;34m,\u001b[0m \u001b[0mtrain_dataloaders\u001b[0m\u001b[0;34m,\u001b[0m \u001b[0mval_dataloaders\u001b[0m\u001b[0;34m,\u001b[0m \u001b[0mdatamodule\u001b[0m\u001b[0;34m,\u001b[0m \u001b[0mckpt_path\u001b[0m\u001b[0;34m\u001b[0m\u001b[0;34m\u001b[0m\u001b[0m\n\u001b[1;32m    546\u001b[0m         )\n",
            "\u001b[0;32m/usr/local/lib/python3.10/dist-packages/pytorch_lightning/trainer/call.py\u001b[0m in \u001b[0;36m_call_and_handle_interrupt\u001b[0;34m(trainer, trainer_fn, *args, **kwargs)\u001b[0m\n\u001b[1;32m     42\u001b[0m         \u001b[0;32mif\u001b[0m \u001b[0mtrainer\u001b[0m\u001b[0;34m.\u001b[0m\u001b[0mstrategy\u001b[0m\u001b[0;34m.\u001b[0m\u001b[0mlauncher\u001b[0m \u001b[0;32mis\u001b[0m \u001b[0;32mnot\u001b[0m \u001b[0;32mNone\u001b[0m\u001b[0;34m:\u001b[0m\u001b[0;34m\u001b[0m\u001b[0;34m\u001b[0m\u001b[0m\n\u001b[1;32m     43\u001b[0m             \u001b[0;32mreturn\u001b[0m \u001b[0mtrainer\u001b[0m\u001b[0;34m.\u001b[0m\u001b[0mstrategy\u001b[0m\u001b[0;34m.\u001b[0m\u001b[0mlauncher\u001b[0m\u001b[0;34m.\u001b[0m\u001b[0mlaunch\u001b[0m\u001b[0;34m(\u001b[0m\u001b[0mtrainer_fn\u001b[0m\u001b[0;34m,\u001b[0m \u001b[0;34m*\u001b[0m\u001b[0margs\u001b[0m\u001b[0;34m,\u001b[0m \u001b[0mtrainer\u001b[0m\u001b[0;34m=\u001b[0m\u001b[0mtrainer\u001b[0m\u001b[0;34m,\u001b[0m \u001b[0;34m**\u001b[0m\u001b[0mkwargs\u001b[0m\u001b[0;34m)\u001b[0m\u001b[0;34m\u001b[0m\u001b[0;34m\u001b[0m\u001b[0m\n\u001b[0;32m---> 44\u001b[0;31m         \u001b[0;32mreturn\u001b[0m \u001b[0mtrainer_fn\u001b[0m\u001b[0;34m(\u001b[0m\u001b[0;34m*\u001b[0m\u001b[0margs\u001b[0m\u001b[0;34m,\u001b[0m \u001b[0;34m**\u001b[0m\u001b[0mkwargs\u001b[0m\u001b[0;34m)\u001b[0m\u001b[0;34m\u001b[0m\u001b[0;34m\u001b[0m\u001b[0m\n\u001b[0m\u001b[1;32m     45\u001b[0m \u001b[0;34m\u001b[0m\u001b[0m\n\u001b[1;32m     46\u001b[0m     \u001b[0;32mexcept\u001b[0m \u001b[0m_TunerExitException\u001b[0m\u001b[0;34m:\u001b[0m\u001b[0;34m\u001b[0m\u001b[0;34m\u001b[0m\u001b[0m\n",
            "\u001b[0;32m/usr/local/lib/python3.10/dist-packages/pytorch_lightning/trainer/trainer.py\u001b[0m in \u001b[0;36m_fit_impl\u001b[0;34m(self, model, train_dataloaders, val_dataloaders, datamodule, ckpt_path)\u001b[0m\n\u001b[1;32m    578\u001b[0m             \u001b[0mmodel_connected\u001b[0m\u001b[0;34m=\u001b[0m\u001b[0mself\u001b[0m\u001b[0;34m.\u001b[0m\u001b[0mlightning_module\u001b[0m \u001b[0;32mis\u001b[0m \u001b[0;32mnot\u001b[0m \u001b[0;32mNone\u001b[0m\u001b[0;34m,\u001b[0m\u001b[0;34m\u001b[0m\u001b[0;34m\u001b[0m\u001b[0m\n\u001b[1;32m    579\u001b[0m         )\n\u001b[0;32m--> 580\u001b[0;31m         \u001b[0mself\u001b[0m\u001b[0;34m.\u001b[0m\u001b[0m_run\u001b[0m\u001b[0;34m(\u001b[0m\u001b[0mmodel\u001b[0m\u001b[0;34m,\u001b[0m \u001b[0mckpt_path\u001b[0m\u001b[0;34m=\u001b[0m\u001b[0mckpt_path\u001b[0m\u001b[0;34m)\u001b[0m\u001b[0;34m\u001b[0m\u001b[0;34m\u001b[0m\u001b[0m\n\u001b[0m\u001b[1;32m    581\u001b[0m \u001b[0;34m\u001b[0m\u001b[0m\n\u001b[1;32m    582\u001b[0m         \u001b[0;32massert\u001b[0m \u001b[0mself\u001b[0m\u001b[0;34m.\u001b[0m\u001b[0mstate\u001b[0m\u001b[0;34m.\u001b[0m\u001b[0mstopped\u001b[0m\u001b[0;34m\u001b[0m\u001b[0;34m\u001b[0m\u001b[0m\n",
            "\u001b[0;32m/usr/local/lib/python3.10/dist-packages/pytorch_lightning/trainer/trainer.py\u001b[0m in \u001b[0;36m_run\u001b[0;34m(self, model, ckpt_path)\u001b[0m\n\u001b[1;32m    985\u001b[0m         \u001b[0;31m# RUN THE TRAINER\u001b[0m\u001b[0;34m\u001b[0m\u001b[0;34m\u001b[0m\u001b[0m\n\u001b[1;32m    986\u001b[0m         \u001b[0;31m# ----------------------------\u001b[0m\u001b[0;34m\u001b[0m\u001b[0;34m\u001b[0m\u001b[0m\n\u001b[0;32m--> 987\u001b[0;31m         \u001b[0mresults\u001b[0m \u001b[0;34m=\u001b[0m \u001b[0mself\u001b[0m\u001b[0;34m.\u001b[0m\u001b[0m_run_stage\u001b[0m\u001b[0;34m(\u001b[0m\u001b[0;34m)\u001b[0m\u001b[0;34m\u001b[0m\u001b[0;34m\u001b[0m\u001b[0m\n\u001b[0m\u001b[1;32m    988\u001b[0m \u001b[0;34m\u001b[0m\u001b[0m\n\u001b[1;32m    989\u001b[0m         \u001b[0;31m# ----------------------------\u001b[0m\u001b[0;34m\u001b[0m\u001b[0;34m\u001b[0m\u001b[0m\n",
            "\u001b[0;32m/usr/local/lib/python3.10/dist-packages/pytorch_lightning/trainer/trainer.py\u001b[0m in \u001b[0;36m_run_stage\u001b[0;34m(self)\u001b[0m\n\u001b[1;32m   1031\u001b[0m                 \u001b[0mself\u001b[0m\u001b[0;34m.\u001b[0m\u001b[0m_run_sanity_check\u001b[0m\u001b[0;34m(\u001b[0m\u001b[0;34m)\u001b[0m\u001b[0;34m\u001b[0m\u001b[0;34m\u001b[0m\u001b[0m\n\u001b[1;32m   1032\u001b[0m             \u001b[0;32mwith\u001b[0m \u001b[0mtorch\u001b[0m\u001b[0;34m.\u001b[0m\u001b[0mautograd\u001b[0m\u001b[0;34m.\u001b[0m\u001b[0mset_detect_anomaly\u001b[0m\u001b[0;34m(\u001b[0m\u001b[0mself\u001b[0m\u001b[0;34m.\u001b[0m\u001b[0m_detect_anomaly\u001b[0m\u001b[0;34m)\u001b[0m\u001b[0;34m:\u001b[0m\u001b[0;34m\u001b[0m\u001b[0;34m\u001b[0m\u001b[0m\n\u001b[0;32m-> 1033\u001b[0;31m                 \u001b[0mself\u001b[0m\u001b[0;34m.\u001b[0m\u001b[0mfit_loop\u001b[0m\u001b[0;34m.\u001b[0m\u001b[0mrun\u001b[0m\u001b[0;34m(\u001b[0m\u001b[0;34m)\u001b[0m\u001b[0;34m\u001b[0m\u001b[0;34m\u001b[0m\u001b[0m\n\u001b[0m\u001b[1;32m   1034\u001b[0m             \u001b[0;32mreturn\u001b[0m \u001b[0;32mNone\u001b[0m\u001b[0;34m\u001b[0m\u001b[0;34m\u001b[0m\u001b[0m\n\u001b[1;32m   1035\u001b[0m         \u001b[0;32mraise\u001b[0m \u001b[0mRuntimeError\u001b[0m\u001b[0;34m(\u001b[0m\u001b[0;34mf\"Unexpected state {self.state}\"\u001b[0m\u001b[0;34m)\u001b[0m\u001b[0;34m\u001b[0m\u001b[0;34m\u001b[0m\u001b[0m\n",
            "\u001b[0;32m/usr/local/lib/python3.10/dist-packages/pytorch_lightning/loops/fit_loop.py\u001b[0m in \u001b[0;36mrun\u001b[0;34m(self)\u001b[0m\n\u001b[1;32m    203\u001b[0m             \u001b[0;32mtry\u001b[0m\u001b[0;34m:\u001b[0m\u001b[0;34m\u001b[0m\u001b[0;34m\u001b[0m\u001b[0m\n\u001b[1;32m    204\u001b[0m                 \u001b[0mself\u001b[0m\u001b[0;34m.\u001b[0m\u001b[0mon_advance_start\u001b[0m\u001b[0;34m(\u001b[0m\u001b[0;34m)\u001b[0m\u001b[0;34m\u001b[0m\u001b[0;34m\u001b[0m\u001b[0m\n\u001b[0;32m--> 205\u001b[0;31m                 \u001b[0mself\u001b[0m\u001b[0;34m.\u001b[0m\u001b[0madvance\u001b[0m\u001b[0;34m(\u001b[0m\u001b[0;34m)\u001b[0m\u001b[0;34m\u001b[0m\u001b[0;34m\u001b[0m\u001b[0m\n\u001b[0m\u001b[1;32m    206\u001b[0m                 \u001b[0mself\u001b[0m\u001b[0;34m.\u001b[0m\u001b[0mon_advance_end\u001b[0m\u001b[0;34m(\u001b[0m\u001b[0;34m)\u001b[0m\u001b[0;34m\u001b[0m\u001b[0;34m\u001b[0m\u001b[0m\n\u001b[1;32m    207\u001b[0m                 \u001b[0mself\u001b[0m\u001b[0;34m.\u001b[0m\u001b[0m_restarting\u001b[0m \u001b[0;34m=\u001b[0m \u001b[0;32mFalse\u001b[0m\u001b[0;34m\u001b[0m\u001b[0;34m\u001b[0m\u001b[0m\n",
            "\u001b[0;32m/usr/local/lib/python3.10/dist-packages/pytorch_lightning/loops/fit_loop.py\u001b[0m in \u001b[0;36madvance\u001b[0;34m(self)\u001b[0m\n\u001b[1;32m    361\u001b[0m         \u001b[0;32mwith\u001b[0m \u001b[0mself\u001b[0m\u001b[0;34m.\u001b[0m\u001b[0mtrainer\u001b[0m\u001b[0;34m.\u001b[0m\u001b[0mprofiler\u001b[0m\u001b[0;34m.\u001b[0m\u001b[0mprofile\u001b[0m\u001b[0;34m(\u001b[0m\u001b[0;34m\"run_training_epoch\"\u001b[0m\u001b[0;34m)\u001b[0m\u001b[0;34m:\u001b[0m\u001b[0;34m\u001b[0m\u001b[0;34m\u001b[0m\u001b[0m\n\u001b[1;32m    362\u001b[0m             \u001b[0;32massert\u001b[0m \u001b[0mself\u001b[0m\u001b[0;34m.\u001b[0m\u001b[0m_data_fetcher\u001b[0m \u001b[0;32mis\u001b[0m \u001b[0;32mnot\u001b[0m \u001b[0;32mNone\u001b[0m\u001b[0;34m\u001b[0m\u001b[0;34m\u001b[0m\u001b[0m\n\u001b[0;32m--> 363\u001b[0;31m             \u001b[0mself\u001b[0m\u001b[0;34m.\u001b[0m\u001b[0mepoch_loop\u001b[0m\u001b[0;34m.\u001b[0m\u001b[0mrun\u001b[0m\u001b[0;34m(\u001b[0m\u001b[0mself\u001b[0m\u001b[0;34m.\u001b[0m\u001b[0m_data_fetcher\u001b[0m\u001b[0;34m)\u001b[0m\u001b[0;34m\u001b[0m\u001b[0;34m\u001b[0m\u001b[0m\n\u001b[0m\u001b[1;32m    364\u001b[0m \u001b[0;34m\u001b[0m\u001b[0m\n\u001b[1;32m    365\u001b[0m     \u001b[0;32mdef\u001b[0m \u001b[0mon_advance_end\u001b[0m\u001b[0;34m(\u001b[0m\u001b[0mself\u001b[0m\u001b[0;34m)\u001b[0m \u001b[0;34m->\u001b[0m \u001b[0;32mNone\u001b[0m\u001b[0;34m:\u001b[0m\u001b[0;34m\u001b[0m\u001b[0;34m\u001b[0m\u001b[0m\n",
            "\u001b[0;32m/usr/local/lib/python3.10/dist-packages/pytorch_lightning/loops/training_epoch_loop.py\u001b[0m in \u001b[0;36mrun\u001b[0;34m(self, data_fetcher)\u001b[0m\n\u001b[1;32m    138\u001b[0m         \u001b[0;32mwhile\u001b[0m \u001b[0;32mnot\u001b[0m \u001b[0mself\u001b[0m\u001b[0;34m.\u001b[0m\u001b[0mdone\u001b[0m\u001b[0;34m:\u001b[0m\u001b[0;34m\u001b[0m\u001b[0;34m\u001b[0m\u001b[0m\n\u001b[1;32m    139\u001b[0m             \u001b[0;32mtry\u001b[0m\u001b[0;34m:\u001b[0m\u001b[0;34m\u001b[0m\u001b[0;34m\u001b[0m\u001b[0m\n\u001b[0;32m--> 140\u001b[0;31m                 \u001b[0mself\u001b[0m\u001b[0;34m.\u001b[0m\u001b[0madvance\u001b[0m\u001b[0;34m(\u001b[0m\u001b[0mdata_fetcher\u001b[0m\u001b[0;34m)\u001b[0m\u001b[0;34m\u001b[0m\u001b[0;34m\u001b[0m\u001b[0m\n\u001b[0m\u001b[1;32m    141\u001b[0m                 \u001b[0mself\u001b[0m\u001b[0;34m.\u001b[0m\u001b[0mon_advance_end\u001b[0m\u001b[0;34m(\u001b[0m\u001b[0mdata_fetcher\u001b[0m\u001b[0;34m)\u001b[0m\u001b[0;34m\u001b[0m\u001b[0;34m\u001b[0m\u001b[0m\n\u001b[1;32m    142\u001b[0m                 \u001b[0mself\u001b[0m\u001b[0;34m.\u001b[0m\u001b[0m_restarting\u001b[0m \u001b[0;34m=\u001b[0m \u001b[0;32mFalse\u001b[0m\u001b[0;34m\u001b[0m\u001b[0;34m\u001b[0m\u001b[0m\n",
            "\u001b[0;32m/usr/local/lib/python3.10/dist-packages/pytorch_lightning/loops/training_epoch_loop.py\u001b[0m in \u001b[0;36madvance\u001b[0;34m(self, data_fetcher)\u001b[0m\n\u001b[1;32m    248\u001b[0m                 \u001b[0;32mif\u001b[0m \u001b[0mtrainer\u001b[0m\u001b[0;34m.\u001b[0m\u001b[0mlightning_module\u001b[0m\u001b[0;34m.\u001b[0m\u001b[0mautomatic_optimization\u001b[0m\u001b[0;34m:\u001b[0m\u001b[0;34m\u001b[0m\u001b[0;34m\u001b[0m\u001b[0m\n\u001b[1;32m    249\u001b[0m                     \u001b[0;31m# in automatic optimization, there can only be one optimizer\u001b[0m\u001b[0;34m\u001b[0m\u001b[0;34m\u001b[0m\u001b[0m\n\u001b[0;32m--> 250\u001b[0;31m                     \u001b[0mbatch_output\u001b[0m \u001b[0;34m=\u001b[0m \u001b[0mself\u001b[0m\u001b[0;34m.\u001b[0m\u001b[0mautomatic_optimization\u001b[0m\u001b[0;34m.\u001b[0m\u001b[0mrun\u001b[0m\u001b[0;34m(\u001b[0m\u001b[0mtrainer\u001b[0m\u001b[0;34m.\u001b[0m\u001b[0moptimizers\u001b[0m\u001b[0;34m[\u001b[0m\u001b[0;36m0\u001b[0m\u001b[0;34m]\u001b[0m\u001b[0;34m,\u001b[0m \u001b[0mbatch_idx\u001b[0m\u001b[0;34m,\u001b[0m \u001b[0mkwargs\u001b[0m\u001b[0;34m)\u001b[0m\u001b[0;34m\u001b[0m\u001b[0;34m\u001b[0m\u001b[0m\n\u001b[0m\u001b[1;32m    251\u001b[0m                 \u001b[0;32melse\u001b[0m\u001b[0;34m:\u001b[0m\u001b[0;34m\u001b[0m\u001b[0;34m\u001b[0m\u001b[0m\n\u001b[1;32m    252\u001b[0m                     \u001b[0mbatch_output\u001b[0m \u001b[0;34m=\u001b[0m \u001b[0mself\u001b[0m\u001b[0;34m.\u001b[0m\u001b[0mmanual_optimization\u001b[0m\u001b[0;34m.\u001b[0m\u001b[0mrun\u001b[0m\u001b[0;34m(\u001b[0m\u001b[0mkwargs\u001b[0m\u001b[0;34m)\u001b[0m\u001b[0;34m\u001b[0m\u001b[0;34m\u001b[0m\u001b[0m\n",
            "\u001b[0;32m/usr/local/lib/python3.10/dist-packages/pytorch_lightning/loops/optimization/automatic.py\u001b[0m in \u001b[0;36mrun\u001b[0;34m(self, optimizer, batch_idx, kwargs)\u001b[0m\n\u001b[1;32m    188\u001b[0m         \u001b[0;31m# gradient update with accumulated gradients\u001b[0m\u001b[0;34m\u001b[0m\u001b[0;34m\u001b[0m\u001b[0m\n\u001b[1;32m    189\u001b[0m         \u001b[0;32melse\u001b[0m\u001b[0;34m:\u001b[0m\u001b[0;34m\u001b[0m\u001b[0;34m\u001b[0m\u001b[0m\n\u001b[0;32m--> 190\u001b[0;31m             \u001b[0mself\u001b[0m\u001b[0;34m.\u001b[0m\u001b[0m_optimizer_step\u001b[0m\u001b[0;34m(\u001b[0m\u001b[0mbatch_idx\u001b[0m\u001b[0;34m,\u001b[0m \u001b[0mclosure\u001b[0m\u001b[0;34m)\u001b[0m\u001b[0;34m\u001b[0m\u001b[0;34m\u001b[0m\u001b[0m\n\u001b[0m\u001b[1;32m    191\u001b[0m \u001b[0;34m\u001b[0m\u001b[0m\n\u001b[1;32m    192\u001b[0m         \u001b[0mresult\u001b[0m \u001b[0;34m=\u001b[0m \u001b[0mclosure\u001b[0m\u001b[0;34m.\u001b[0m\u001b[0mconsume_result\u001b[0m\u001b[0;34m(\u001b[0m\u001b[0;34m)\u001b[0m\u001b[0;34m\u001b[0m\u001b[0;34m\u001b[0m\u001b[0m\n",
            "\u001b[0;32m/usr/local/lib/python3.10/dist-packages/pytorch_lightning/loops/optimization/automatic.py\u001b[0m in \u001b[0;36m_optimizer_step\u001b[0;34m(self, batch_idx, train_step_and_backward_closure)\u001b[0m\n\u001b[1;32m    266\u001b[0m \u001b[0;34m\u001b[0m\u001b[0m\n\u001b[1;32m    267\u001b[0m         \u001b[0;31m# model hook\u001b[0m\u001b[0;34m\u001b[0m\u001b[0;34m\u001b[0m\u001b[0m\n\u001b[0;32m--> 268\u001b[0;31m         call._call_lightning_module_hook(\n\u001b[0m\u001b[1;32m    269\u001b[0m             \u001b[0mtrainer\u001b[0m\u001b[0;34m,\u001b[0m\u001b[0;34m\u001b[0m\u001b[0;34m\u001b[0m\u001b[0m\n\u001b[1;32m    270\u001b[0m             \u001b[0;34m\"optimizer_step\"\u001b[0m\u001b[0;34m,\u001b[0m\u001b[0;34m\u001b[0m\u001b[0;34m\u001b[0m\u001b[0m\n",
            "\u001b[0;32m/usr/local/lib/python3.10/dist-packages/pytorch_lightning/trainer/call.py\u001b[0m in \u001b[0;36m_call_lightning_module_hook\u001b[0;34m(trainer, hook_name, pl_module, *args, **kwargs)\u001b[0m\n\u001b[1;32m    155\u001b[0m \u001b[0;34m\u001b[0m\u001b[0m\n\u001b[1;32m    156\u001b[0m     \u001b[0;32mwith\u001b[0m \u001b[0mtrainer\u001b[0m\u001b[0;34m.\u001b[0m\u001b[0mprofiler\u001b[0m\u001b[0;34m.\u001b[0m\u001b[0mprofile\u001b[0m\u001b[0;34m(\u001b[0m\u001b[0;34mf\"[LightningModule]{pl_module.__class__.__name__}.{hook_name}\"\u001b[0m\u001b[0;34m)\u001b[0m\u001b[0;34m:\u001b[0m\u001b[0;34m\u001b[0m\u001b[0;34m\u001b[0m\u001b[0m\n\u001b[0;32m--> 157\u001b[0;31m         \u001b[0moutput\u001b[0m \u001b[0;34m=\u001b[0m \u001b[0mfn\u001b[0m\u001b[0;34m(\u001b[0m\u001b[0;34m*\u001b[0m\u001b[0margs\u001b[0m\u001b[0;34m,\u001b[0m \u001b[0;34m**\u001b[0m\u001b[0mkwargs\u001b[0m\u001b[0;34m)\u001b[0m\u001b[0;34m\u001b[0m\u001b[0;34m\u001b[0m\u001b[0m\n\u001b[0m\u001b[1;32m    158\u001b[0m \u001b[0;34m\u001b[0m\u001b[0m\n\u001b[1;32m    159\u001b[0m     \u001b[0;31m# restore current_fx when nested context\u001b[0m\u001b[0;34m\u001b[0m\u001b[0;34m\u001b[0m\u001b[0m\n",
            "\u001b[0;32m/usr/local/lib/python3.10/dist-packages/pytorch_lightning/core/module.py\u001b[0m in \u001b[0;36moptimizer_step\u001b[0;34m(self, epoch, batch_idx, optimizer, optimizer_closure)\u001b[0m\n\u001b[1;32m   1301\u001b[0m \u001b[0;34m\u001b[0m\u001b[0m\n\u001b[1;32m   1302\u001b[0m         \"\"\"\n\u001b[0;32m-> 1303\u001b[0;31m         \u001b[0moptimizer\u001b[0m\u001b[0;34m.\u001b[0m\u001b[0mstep\u001b[0m\u001b[0;34m(\u001b[0m\u001b[0mclosure\u001b[0m\u001b[0;34m=\u001b[0m\u001b[0moptimizer_closure\u001b[0m\u001b[0;34m)\u001b[0m\u001b[0;34m\u001b[0m\u001b[0;34m\u001b[0m\u001b[0m\n\u001b[0m\u001b[1;32m   1304\u001b[0m \u001b[0;34m\u001b[0m\u001b[0m\n\u001b[1;32m   1305\u001b[0m     \u001b[0;32mdef\u001b[0m \u001b[0moptimizer_zero_grad\u001b[0m\u001b[0;34m(\u001b[0m\u001b[0mself\u001b[0m\u001b[0;34m,\u001b[0m \u001b[0mepoch\u001b[0m\u001b[0;34m:\u001b[0m \u001b[0mint\u001b[0m\u001b[0;34m,\u001b[0m \u001b[0mbatch_idx\u001b[0m\u001b[0;34m:\u001b[0m \u001b[0mint\u001b[0m\u001b[0;34m,\u001b[0m \u001b[0moptimizer\u001b[0m\u001b[0;34m:\u001b[0m \u001b[0mOptimizer\u001b[0m\u001b[0;34m)\u001b[0m \u001b[0;34m->\u001b[0m \u001b[0;32mNone\u001b[0m\u001b[0;34m:\u001b[0m\u001b[0;34m\u001b[0m\u001b[0;34m\u001b[0m\u001b[0m\n",
            "\u001b[0;32m/usr/local/lib/python3.10/dist-packages/pytorch_lightning/core/optimizer.py\u001b[0m in \u001b[0;36mstep\u001b[0;34m(self, closure, **kwargs)\u001b[0m\n\u001b[1;32m    150\u001b[0m \u001b[0;34m\u001b[0m\u001b[0m\n\u001b[1;32m    151\u001b[0m         \u001b[0;32massert\u001b[0m \u001b[0mself\u001b[0m\u001b[0;34m.\u001b[0m\u001b[0m_strategy\u001b[0m \u001b[0;32mis\u001b[0m \u001b[0;32mnot\u001b[0m \u001b[0;32mNone\u001b[0m\u001b[0;34m\u001b[0m\u001b[0;34m\u001b[0m\u001b[0m\n\u001b[0;32m--> 152\u001b[0;31m         \u001b[0mstep_output\u001b[0m \u001b[0;34m=\u001b[0m \u001b[0mself\u001b[0m\u001b[0;34m.\u001b[0m\u001b[0m_strategy\u001b[0m\u001b[0;34m.\u001b[0m\u001b[0moptimizer_step\u001b[0m\u001b[0;34m(\u001b[0m\u001b[0mself\u001b[0m\u001b[0;34m.\u001b[0m\u001b[0m_optimizer\u001b[0m\u001b[0;34m,\u001b[0m \u001b[0mclosure\u001b[0m\u001b[0;34m,\u001b[0m \u001b[0;34m**\u001b[0m\u001b[0mkwargs\u001b[0m\u001b[0;34m)\u001b[0m\u001b[0;34m\u001b[0m\u001b[0;34m\u001b[0m\u001b[0m\n\u001b[0m\u001b[1;32m    153\u001b[0m \u001b[0;34m\u001b[0m\u001b[0m\n\u001b[1;32m    154\u001b[0m         \u001b[0mself\u001b[0m\u001b[0;34m.\u001b[0m\u001b[0m_on_after_step\u001b[0m\u001b[0;34m(\u001b[0m\u001b[0;34m)\u001b[0m\u001b[0;34m\u001b[0m\u001b[0;34m\u001b[0m\u001b[0m\n",
            "\u001b[0;32m/usr/local/lib/python3.10/dist-packages/pytorch_lightning/strategies/strategy.py\u001b[0m in \u001b[0;36moptimizer_step\u001b[0;34m(self, optimizer, closure, model, **kwargs)\u001b[0m\n\u001b[1;32m    237\u001b[0m         \u001b[0;31m# TODO(fabric): remove assertion once strategy's optimizer_step typing is fixed\u001b[0m\u001b[0;34m\u001b[0m\u001b[0;34m\u001b[0m\u001b[0m\n\u001b[1;32m    238\u001b[0m         \u001b[0;32massert\u001b[0m \u001b[0misinstance\u001b[0m\u001b[0;34m(\u001b[0m\u001b[0mmodel\u001b[0m\u001b[0;34m,\u001b[0m \u001b[0mpl\u001b[0m\u001b[0;34m.\u001b[0m\u001b[0mLightningModule\u001b[0m\u001b[0;34m)\u001b[0m\u001b[0;34m\u001b[0m\u001b[0;34m\u001b[0m\u001b[0m\n\u001b[0;32m--> 239\u001b[0;31m         \u001b[0;32mreturn\u001b[0m \u001b[0mself\u001b[0m\u001b[0;34m.\u001b[0m\u001b[0mprecision_plugin\u001b[0m\u001b[0;34m.\u001b[0m\u001b[0moptimizer_step\u001b[0m\u001b[0;34m(\u001b[0m\u001b[0moptimizer\u001b[0m\u001b[0;34m,\u001b[0m \u001b[0mmodel\u001b[0m\u001b[0;34m=\u001b[0m\u001b[0mmodel\u001b[0m\u001b[0;34m,\u001b[0m \u001b[0mclosure\u001b[0m\u001b[0;34m=\u001b[0m\u001b[0mclosure\u001b[0m\u001b[0;34m,\u001b[0m \u001b[0;34m**\u001b[0m\u001b[0mkwargs\u001b[0m\u001b[0;34m)\u001b[0m\u001b[0;34m\u001b[0m\u001b[0;34m\u001b[0m\u001b[0m\n\u001b[0m\u001b[1;32m    240\u001b[0m \u001b[0;34m\u001b[0m\u001b[0m\n\u001b[1;32m    241\u001b[0m     \u001b[0;32mdef\u001b[0m \u001b[0m_setup_model_and_optimizers\u001b[0m\u001b[0;34m(\u001b[0m\u001b[0mself\u001b[0m\u001b[0;34m,\u001b[0m \u001b[0mmodel\u001b[0m\u001b[0;34m:\u001b[0m \u001b[0mModule\u001b[0m\u001b[0;34m,\u001b[0m \u001b[0moptimizers\u001b[0m\u001b[0;34m:\u001b[0m \u001b[0mList\u001b[0m\u001b[0;34m[\u001b[0m\u001b[0mOptimizer\u001b[0m\u001b[0;34m]\u001b[0m\u001b[0;34m)\u001b[0m \u001b[0;34m->\u001b[0m \u001b[0mTuple\u001b[0m\u001b[0;34m[\u001b[0m\u001b[0mModule\u001b[0m\u001b[0;34m,\u001b[0m \u001b[0mList\u001b[0m\u001b[0;34m[\u001b[0m\u001b[0mOptimizer\u001b[0m\u001b[0;34m]\u001b[0m\u001b[0;34m]\u001b[0m\u001b[0;34m:\u001b[0m\u001b[0;34m\u001b[0m\u001b[0;34m\u001b[0m\u001b[0m\n",
            "\u001b[0;32m/usr/local/lib/python3.10/dist-packages/pytorch_lightning/plugins/precision/precision.py\u001b[0m in \u001b[0;36moptimizer_step\u001b[0;34m(self, optimizer, model, closure, **kwargs)\u001b[0m\n\u001b[1;32m    120\u001b[0m         \u001b[0;34m\"\"\"Hook to run the optimizer step.\"\"\"\u001b[0m\u001b[0;34m\u001b[0m\u001b[0;34m\u001b[0m\u001b[0m\n\u001b[1;32m    121\u001b[0m         \u001b[0mclosure\u001b[0m \u001b[0;34m=\u001b[0m \u001b[0mpartial\u001b[0m\u001b[0;34m(\u001b[0m\u001b[0mself\u001b[0m\u001b[0;34m.\u001b[0m\u001b[0m_wrap_closure\u001b[0m\u001b[0;34m,\u001b[0m \u001b[0mmodel\u001b[0m\u001b[0;34m,\u001b[0m \u001b[0moptimizer\u001b[0m\u001b[0;34m,\u001b[0m \u001b[0mclosure\u001b[0m\u001b[0;34m)\u001b[0m\u001b[0;34m\u001b[0m\u001b[0;34m\u001b[0m\u001b[0m\n\u001b[0;32m--> 122\u001b[0;31m         \u001b[0;32mreturn\u001b[0m \u001b[0moptimizer\u001b[0m\u001b[0;34m.\u001b[0m\u001b[0mstep\u001b[0m\u001b[0;34m(\u001b[0m\u001b[0mclosure\u001b[0m\u001b[0;34m=\u001b[0m\u001b[0mclosure\u001b[0m\u001b[0;34m,\u001b[0m \u001b[0;34m**\u001b[0m\u001b[0mkwargs\u001b[0m\u001b[0;34m)\u001b[0m\u001b[0;34m\u001b[0m\u001b[0;34m\u001b[0m\u001b[0m\n\u001b[0m\u001b[1;32m    123\u001b[0m \u001b[0;34m\u001b[0m\u001b[0m\n\u001b[1;32m    124\u001b[0m     def _clip_gradients(\n",
            "\u001b[0;32m/usr/local/lib/python3.10/dist-packages/torch/optim/optimizer.py\u001b[0m in \u001b[0;36mwrapper\u001b[0;34m(*args, **kwargs)\u001b[0m\n\u001b[1;32m    389\u001b[0m                             )\n\u001b[1;32m    390\u001b[0m \u001b[0;34m\u001b[0m\u001b[0m\n\u001b[0;32m--> 391\u001b[0;31m                 \u001b[0mout\u001b[0m \u001b[0;34m=\u001b[0m \u001b[0mfunc\u001b[0m\u001b[0;34m(\u001b[0m\u001b[0;34m*\u001b[0m\u001b[0margs\u001b[0m\u001b[0;34m,\u001b[0m \u001b[0;34m**\u001b[0m\u001b[0mkwargs\u001b[0m\u001b[0;34m)\u001b[0m\u001b[0;34m\u001b[0m\u001b[0;34m\u001b[0m\u001b[0m\n\u001b[0m\u001b[1;32m    392\u001b[0m                 \u001b[0mself\u001b[0m\u001b[0;34m.\u001b[0m\u001b[0m_optimizer_step_code\u001b[0m\u001b[0;34m(\u001b[0m\u001b[0;34m)\u001b[0m\u001b[0;34m\u001b[0m\u001b[0;34m\u001b[0m\u001b[0m\n\u001b[1;32m    393\u001b[0m \u001b[0;34m\u001b[0m\u001b[0m\n",
            "\u001b[0;32m/usr/local/lib/python3.10/dist-packages/torch/optim/optimizer.py\u001b[0m in \u001b[0;36m_use_grad\u001b[0;34m(self, *args, **kwargs)\u001b[0m\n\u001b[1;32m     74\u001b[0m             \u001b[0mtorch\u001b[0m\u001b[0;34m.\u001b[0m\u001b[0mset_grad_enabled\u001b[0m\u001b[0;34m(\u001b[0m\u001b[0mself\u001b[0m\u001b[0;34m.\u001b[0m\u001b[0mdefaults\u001b[0m\u001b[0;34m[\u001b[0m\u001b[0;34m'differentiable'\u001b[0m\u001b[0;34m]\u001b[0m\u001b[0;34m)\u001b[0m\u001b[0;34m\u001b[0m\u001b[0;34m\u001b[0m\u001b[0m\n\u001b[1;32m     75\u001b[0m             \u001b[0mtorch\u001b[0m\u001b[0;34m.\u001b[0m\u001b[0m_dynamo\u001b[0m\u001b[0;34m.\u001b[0m\u001b[0mgraph_break\u001b[0m\u001b[0;34m(\u001b[0m\u001b[0;34m)\u001b[0m\u001b[0;34m\u001b[0m\u001b[0;34m\u001b[0m\u001b[0m\n\u001b[0;32m---> 76\u001b[0;31m             \u001b[0mret\u001b[0m \u001b[0;34m=\u001b[0m \u001b[0mfunc\u001b[0m\u001b[0;34m(\u001b[0m\u001b[0mself\u001b[0m\u001b[0;34m,\u001b[0m \u001b[0;34m*\u001b[0m\u001b[0margs\u001b[0m\u001b[0;34m,\u001b[0m \u001b[0;34m**\u001b[0m\u001b[0mkwargs\u001b[0m\u001b[0;34m)\u001b[0m\u001b[0;34m\u001b[0m\u001b[0;34m\u001b[0m\u001b[0m\n\u001b[0m\u001b[1;32m     77\u001b[0m         \u001b[0;32mfinally\u001b[0m\u001b[0;34m:\u001b[0m\u001b[0;34m\u001b[0m\u001b[0;34m\u001b[0m\u001b[0m\n\u001b[1;32m     78\u001b[0m             \u001b[0mtorch\u001b[0m\u001b[0;34m.\u001b[0m\u001b[0m_dynamo\u001b[0m\u001b[0;34m.\u001b[0m\u001b[0mgraph_break\u001b[0m\u001b[0;34m(\u001b[0m\u001b[0;34m)\u001b[0m\u001b[0;34m\u001b[0m\u001b[0;34m\u001b[0m\u001b[0m\n",
            "\u001b[0;32m/usr/local/lib/python3.10/dist-packages/torch/optim/adam.py\u001b[0m in \u001b[0;36mstep\u001b[0;34m(self, closure)\u001b[0m\n\u001b[1;32m    146\u001b[0m         \u001b[0;32mif\u001b[0m \u001b[0mclosure\u001b[0m \u001b[0;32mis\u001b[0m \u001b[0;32mnot\u001b[0m \u001b[0;32mNone\u001b[0m\u001b[0;34m:\u001b[0m\u001b[0;34m\u001b[0m\u001b[0;34m\u001b[0m\u001b[0m\n\u001b[1;32m    147\u001b[0m             \u001b[0;32mwith\u001b[0m \u001b[0mtorch\u001b[0m\u001b[0;34m.\u001b[0m\u001b[0menable_grad\u001b[0m\u001b[0;34m(\u001b[0m\u001b[0;34m)\u001b[0m\u001b[0;34m:\u001b[0m\u001b[0;34m\u001b[0m\u001b[0;34m\u001b[0m\u001b[0m\n\u001b[0;32m--> 148\u001b[0;31m                 \u001b[0mloss\u001b[0m \u001b[0;34m=\u001b[0m \u001b[0mclosure\u001b[0m\u001b[0;34m(\u001b[0m\u001b[0;34m)\u001b[0m\u001b[0;34m\u001b[0m\u001b[0;34m\u001b[0m\u001b[0m\n\u001b[0m\u001b[1;32m    149\u001b[0m \u001b[0;34m\u001b[0m\u001b[0m\n\u001b[1;32m    150\u001b[0m         \u001b[0;32mfor\u001b[0m \u001b[0mgroup\u001b[0m \u001b[0;32min\u001b[0m \u001b[0mself\u001b[0m\u001b[0;34m.\u001b[0m\u001b[0mparam_groups\u001b[0m\u001b[0;34m:\u001b[0m\u001b[0;34m\u001b[0m\u001b[0;34m\u001b[0m\u001b[0m\n",
            "\u001b[0;32m/usr/local/lib/python3.10/dist-packages/pytorch_lightning/plugins/precision/precision.py\u001b[0m in \u001b[0;36m_wrap_closure\u001b[0;34m(self, model, optimizer, closure)\u001b[0m\n\u001b[1;32m    106\u001b[0m \u001b[0;34m\u001b[0m\u001b[0m\n\u001b[1;32m    107\u001b[0m         \"\"\"\n\u001b[0;32m--> 108\u001b[0;31m         \u001b[0mclosure_result\u001b[0m \u001b[0;34m=\u001b[0m \u001b[0mclosure\u001b[0m\u001b[0;34m(\u001b[0m\u001b[0;34m)\u001b[0m\u001b[0;34m\u001b[0m\u001b[0;34m\u001b[0m\u001b[0m\n\u001b[0m\u001b[1;32m    109\u001b[0m         \u001b[0mself\u001b[0m\u001b[0;34m.\u001b[0m\u001b[0m_after_closure\u001b[0m\u001b[0;34m(\u001b[0m\u001b[0mmodel\u001b[0m\u001b[0;34m,\u001b[0m \u001b[0moptimizer\u001b[0m\u001b[0;34m)\u001b[0m\u001b[0;34m\u001b[0m\u001b[0;34m\u001b[0m\u001b[0m\n\u001b[1;32m    110\u001b[0m         \u001b[0;32mreturn\u001b[0m \u001b[0mclosure_result\u001b[0m\u001b[0;34m\u001b[0m\u001b[0;34m\u001b[0m\u001b[0m\n",
            "\u001b[0;32m/usr/local/lib/python3.10/dist-packages/pytorch_lightning/loops/optimization/automatic.py\u001b[0m in \u001b[0;36m__call__\u001b[0;34m(self, *args, **kwargs)\u001b[0m\n\u001b[1;32m    142\u001b[0m     \u001b[0;34m@\u001b[0m\u001b[0moverride\u001b[0m\u001b[0;34m\u001b[0m\u001b[0;34m\u001b[0m\u001b[0m\n\u001b[1;32m    143\u001b[0m     \u001b[0;32mdef\u001b[0m \u001b[0m__call__\u001b[0m\u001b[0;34m(\u001b[0m\u001b[0mself\u001b[0m\u001b[0;34m,\u001b[0m \u001b[0;34m*\u001b[0m\u001b[0margs\u001b[0m\u001b[0;34m:\u001b[0m \u001b[0mAny\u001b[0m\u001b[0;34m,\u001b[0m \u001b[0;34m**\u001b[0m\u001b[0mkwargs\u001b[0m\u001b[0;34m:\u001b[0m \u001b[0mAny\u001b[0m\u001b[0;34m)\u001b[0m \u001b[0;34m->\u001b[0m \u001b[0mOptional\u001b[0m\u001b[0;34m[\u001b[0m\u001b[0mTensor\u001b[0m\u001b[0;34m]\u001b[0m\u001b[0;34m:\u001b[0m\u001b[0;34m\u001b[0m\u001b[0;34m\u001b[0m\u001b[0m\n\u001b[0;32m--> 144\u001b[0;31m         \u001b[0mself\u001b[0m\u001b[0;34m.\u001b[0m\u001b[0m_result\u001b[0m \u001b[0;34m=\u001b[0m \u001b[0mself\u001b[0m\u001b[0;34m.\u001b[0m\u001b[0mclosure\u001b[0m\u001b[0;34m(\u001b[0m\u001b[0;34m*\u001b[0m\u001b[0margs\u001b[0m\u001b[0;34m,\u001b[0m \u001b[0;34m**\u001b[0m\u001b[0mkwargs\u001b[0m\u001b[0;34m)\u001b[0m\u001b[0;34m\u001b[0m\u001b[0;34m\u001b[0m\u001b[0m\n\u001b[0m\u001b[1;32m    145\u001b[0m         \u001b[0;32mreturn\u001b[0m \u001b[0mself\u001b[0m\u001b[0;34m.\u001b[0m\u001b[0m_result\u001b[0m\u001b[0;34m.\u001b[0m\u001b[0mloss\u001b[0m\u001b[0;34m\u001b[0m\u001b[0;34m\u001b[0m\u001b[0m\n\u001b[1;32m    146\u001b[0m \u001b[0;34m\u001b[0m\u001b[0m\n",
            "\u001b[0;32m/usr/local/lib/python3.10/dist-packages/torch/utils/_contextlib.py\u001b[0m in \u001b[0;36mdecorate_context\u001b[0;34m(*args, **kwargs)\u001b[0m\n\u001b[1;32m    113\u001b[0m     \u001b[0;32mdef\u001b[0m \u001b[0mdecorate_context\u001b[0m\u001b[0;34m(\u001b[0m\u001b[0;34m*\u001b[0m\u001b[0margs\u001b[0m\u001b[0;34m,\u001b[0m \u001b[0;34m**\u001b[0m\u001b[0mkwargs\u001b[0m\u001b[0;34m)\u001b[0m\u001b[0;34m:\u001b[0m\u001b[0;34m\u001b[0m\u001b[0;34m\u001b[0m\u001b[0m\n\u001b[1;32m    114\u001b[0m         \u001b[0;32mwith\u001b[0m \u001b[0mctx_factory\u001b[0m\u001b[0;34m(\u001b[0m\u001b[0;34m)\u001b[0m\u001b[0;34m:\u001b[0m\u001b[0;34m\u001b[0m\u001b[0;34m\u001b[0m\u001b[0m\n\u001b[0;32m--> 115\u001b[0;31m             \u001b[0;32mreturn\u001b[0m \u001b[0mfunc\u001b[0m\u001b[0;34m(\u001b[0m\u001b[0;34m*\u001b[0m\u001b[0margs\u001b[0m\u001b[0;34m,\u001b[0m \u001b[0;34m**\u001b[0m\u001b[0mkwargs\u001b[0m\u001b[0;34m)\u001b[0m\u001b[0;34m\u001b[0m\u001b[0;34m\u001b[0m\u001b[0m\n\u001b[0m\u001b[1;32m    116\u001b[0m \u001b[0;34m\u001b[0m\u001b[0m\n\u001b[1;32m    117\u001b[0m     \u001b[0;32mreturn\u001b[0m \u001b[0mdecorate_context\u001b[0m\u001b[0;34m\u001b[0m\u001b[0;34m\u001b[0m\u001b[0m\n",
            "\u001b[0;32m/usr/local/lib/python3.10/dist-packages/pytorch_lightning/loops/optimization/automatic.py\u001b[0m in \u001b[0;36mclosure\u001b[0;34m(self, *args, **kwargs)\u001b[0m\n\u001b[1;32m    127\u001b[0m     \u001b[0;34m@\u001b[0m\u001b[0mtorch\u001b[0m\u001b[0;34m.\u001b[0m\u001b[0menable_grad\u001b[0m\u001b[0;34m(\u001b[0m\u001b[0;34m)\u001b[0m\u001b[0;34m\u001b[0m\u001b[0;34m\u001b[0m\u001b[0m\n\u001b[1;32m    128\u001b[0m     \u001b[0;32mdef\u001b[0m \u001b[0mclosure\u001b[0m\u001b[0;34m(\u001b[0m\u001b[0mself\u001b[0m\u001b[0;34m,\u001b[0m \u001b[0;34m*\u001b[0m\u001b[0margs\u001b[0m\u001b[0;34m:\u001b[0m \u001b[0mAny\u001b[0m\u001b[0;34m,\u001b[0m \u001b[0;34m**\u001b[0m\u001b[0mkwargs\u001b[0m\u001b[0;34m:\u001b[0m \u001b[0mAny\u001b[0m\u001b[0;34m)\u001b[0m \u001b[0;34m->\u001b[0m \u001b[0mClosureResult\u001b[0m\u001b[0;34m:\u001b[0m\u001b[0;34m\u001b[0m\u001b[0;34m\u001b[0m\u001b[0m\n\u001b[0;32m--> 129\u001b[0;31m         \u001b[0mstep_output\u001b[0m \u001b[0;34m=\u001b[0m \u001b[0mself\u001b[0m\u001b[0;34m.\u001b[0m\u001b[0m_step_fn\u001b[0m\u001b[0;34m(\u001b[0m\u001b[0;34m)\u001b[0m\u001b[0;34m\u001b[0m\u001b[0;34m\u001b[0m\u001b[0m\n\u001b[0m\u001b[1;32m    130\u001b[0m \u001b[0;34m\u001b[0m\u001b[0m\n\u001b[1;32m    131\u001b[0m         \u001b[0;32mif\u001b[0m \u001b[0mstep_output\u001b[0m\u001b[0;34m.\u001b[0m\u001b[0mclosure_loss\u001b[0m \u001b[0;32mis\u001b[0m \u001b[0;32mNone\u001b[0m\u001b[0;34m:\u001b[0m\u001b[0;34m\u001b[0m\u001b[0;34m\u001b[0m\u001b[0m\n",
            "\u001b[0;32m/usr/local/lib/python3.10/dist-packages/pytorch_lightning/loops/optimization/automatic.py\u001b[0m in \u001b[0;36m_training_step\u001b[0;34m(self, kwargs)\u001b[0m\n\u001b[1;32m    316\u001b[0m \u001b[0;34m\u001b[0m\u001b[0m\n\u001b[1;32m    317\u001b[0m         \u001b[0;31m# manually capture logged metrics\u001b[0m\u001b[0;34m\u001b[0m\u001b[0;34m\u001b[0m\u001b[0m\n\u001b[0;32m--> 318\u001b[0;31m         \u001b[0mtraining_step_output\u001b[0m \u001b[0;34m=\u001b[0m \u001b[0mcall\u001b[0m\u001b[0;34m.\u001b[0m\u001b[0m_call_strategy_hook\u001b[0m\u001b[0;34m(\u001b[0m\u001b[0mtrainer\u001b[0m\u001b[0;34m,\u001b[0m \u001b[0;34m\"training_step\"\u001b[0m\u001b[0;34m,\u001b[0m \u001b[0;34m*\u001b[0m\u001b[0mkwargs\u001b[0m\u001b[0;34m.\u001b[0m\u001b[0mvalues\u001b[0m\u001b[0;34m(\u001b[0m\u001b[0;34m)\u001b[0m\u001b[0;34m)\u001b[0m\u001b[0;34m\u001b[0m\u001b[0;34m\u001b[0m\u001b[0m\n\u001b[0m\u001b[1;32m    319\u001b[0m         \u001b[0mself\u001b[0m\u001b[0;34m.\u001b[0m\u001b[0mtrainer\u001b[0m\u001b[0;34m.\u001b[0m\u001b[0mstrategy\u001b[0m\u001b[0;34m.\u001b[0m\u001b[0mpost_training_step\u001b[0m\u001b[0;34m(\u001b[0m\u001b[0;34m)\u001b[0m  \u001b[0;31m# unused hook - call anyway for backward compatibility\u001b[0m\u001b[0;34m\u001b[0m\u001b[0;34m\u001b[0m\u001b[0m\n\u001b[1;32m    320\u001b[0m \u001b[0;34m\u001b[0m\u001b[0m\n",
            "\u001b[0;32m/usr/local/lib/python3.10/dist-packages/pytorch_lightning/trainer/call.py\u001b[0m in \u001b[0;36m_call_strategy_hook\u001b[0;34m(trainer, hook_name, *args, **kwargs)\u001b[0m\n\u001b[1;32m    307\u001b[0m \u001b[0;34m\u001b[0m\u001b[0m\n\u001b[1;32m    308\u001b[0m     \u001b[0;32mwith\u001b[0m \u001b[0mtrainer\u001b[0m\u001b[0;34m.\u001b[0m\u001b[0mprofiler\u001b[0m\u001b[0;34m.\u001b[0m\u001b[0mprofile\u001b[0m\u001b[0;34m(\u001b[0m\u001b[0;34mf\"[Strategy]{trainer.strategy.__class__.__name__}.{hook_name}\"\u001b[0m\u001b[0;34m)\u001b[0m\u001b[0;34m:\u001b[0m\u001b[0;34m\u001b[0m\u001b[0;34m\u001b[0m\u001b[0m\n\u001b[0;32m--> 309\u001b[0;31m         \u001b[0moutput\u001b[0m \u001b[0;34m=\u001b[0m \u001b[0mfn\u001b[0m\u001b[0;34m(\u001b[0m\u001b[0;34m*\u001b[0m\u001b[0margs\u001b[0m\u001b[0;34m,\u001b[0m \u001b[0;34m**\u001b[0m\u001b[0mkwargs\u001b[0m\u001b[0;34m)\u001b[0m\u001b[0;34m\u001b[0m\u001b[0;34m\u001b[0m\u001b[0m\n\u001b[0m\u001b[1;32m    310\u001b[0m \u001b[0;34m\u001b[0m\u001b[0m\n\u001b[1;32m    311\u001b[0m     \u001b[0;31m# restore current_fx when nested context\u001b[0m\u001b[0;34m\u001b[0m\u001b[0;34m\u001b[0m\u001b[0m\n",
            "\u001b[0;32m/usr/local/lib/python3.10/dist-packages/pytorch_lightning/strategies/strategy.py\u001b[0m in \u001b[0;36mtraining_step\u001b[0;34m(self, *args, **kwargs)\u001b[0m\n\u001b[1;32m    389\u001b[0m             \u001b[0;32mif\u001b[0m \u001b[0mself\u001b[0m\u001b[0;34m.\u001b[0m\u001b[0mmodel\u001b[0m \u001b[0;34m!=\u001b[0m \u001b[0mself\u001b[0m\u001b[0;34m.\u001b[0m\u001b[0mlightning_module\u001b[0m\u001b[0;34m:\u001b[0m\u001b[0;34m\u001b[0m\u001b[0;34m\u001b[0m\u001b[0m\n\u001b[1;32m    390\u001b[0m                 \u001b[0;32mreturn\u001b[0m \u001b[0mself\u001b[0m\u001b[0;34m.\u001b[0m\u001b[0m_forward_redirection\u001b[0m\u001b[0;34m(\u001b[0m\u001b[0mself\u001b[0m\u001b[0;34m.\u001b[0m\u001b[0mmodel\u001b[0m\u001b[0;34m,\u001b[0m \u001b[0mself\u001b[0m\u001b[0;34m.\u001b[0m\u001b[0mlightning_module\u001b[0m\u001b[0;34m,\u001b[0m \u001b[0;34m\"training_step\"\u001b[0m\u001b[0;34m,\u001b[0m \u001b[0;34m*\u001b[0m\u001b[0margs\u001b[0m\u001b[0;34m,\u001b[0m \u001b[0;34m**\u001b[0m\u001b[0mkwargs\u001b[0m\u001b[0;34m)\u001b[0m\u001b[0;34m\u001b[0m\u001b[0;34m\u001b[0m\u001b[0m\n\u001b[0;32m--> 391\u001b[0;31m             \u001b[0;32mreturn\u001b[0m \u001b[0mself\u001b[0m\u001b[0;34m.\u001b[0m\u001b[0mlightning_module\u001b[0m\u001b[0;34m.\u001b[0m\u001b[0mtraining_step\u001b[0m\u001b[0;34m(\u001b[0m\u001b[0;34m*\u001b[0m\u001b[0margs\u001b[0m\u001b[0;34m,\u001b[0m \u001b[0;34m**\u001b[0m\u001b[0mkwargs\u001b[0m\u001b[0;34m)\u001b[0m\u001b[0;34m\u001b[0m\u001b[0;34m\u001b[0m\u001b[0m\n\u001b[0m\u001b[1;32m    392\u001b[0m \u001b[0;34m\u001b[0m\u001b[0m\n\u001b[1;32m    393\u001b[0m     \u001b[0;32mdef\u001b[0m \u001b[0mpost_training_step\u001b[0m\u001b[0;34m(\u001b[0m\u001b[0mself\u001b[0m\u001b[0;34m)\u001b[0m \u001b[0;34m->\u001b[0m \u001b[0;32mNone\u001b[0m\u001b[0;34m:\u001b[0m\u001b[0;34m\u001b[0m\u001b[0;34m\u001b[0m\u001b[0m\n",
            "\u001b[0;32m<ipython-input-31-5a5be2033717>\u001b[0m in \u001b[0;36mtraining_step\u001b[0;34m(self, batch, batch_idx)\u001b[0m\n\u001b[1;32m     96\u001b[0m         \u001b[0mx\u001b[0m\u001b[0;34m,\u001b[0m \u001b[0my\u001b[0m \u001b[0;34m=\u001b[0m \u001b[0mbatch\u001b[0m\u001b[0;34m\u001b[0m\u001b[0;34m\u001b[0m\u001b[0m\n\u001b[1;32m     97\u001b[0m         \u001b[0mprint\u001b[0m\u001b[0;34m(\u001b[0m\u001b[0mx\u001b[0m\u001b[0;34m)\u001b[0m\u001b[0;34m\u001b[0m\u001b[0;34m\u001b[0m\u001b[0m\n\u001b[0;32m---> 98\u001b[0;31m         \u001b[0my_pred\u001b[0m \u001b[0;34m=\u001b[0m \u001b[0mself\u001b[0m\u001b[0;34m.\u001b[0m\u001b[0mmodel\u001b[0m\u001b[0;34m(\u001b[0m\u001b[0mx\u001b[0m\u001b[0;34m[\u001b[0m\u001b[0;34m:\u001b[0m\u001b[0;34m,\u001b[0m\u001b[0;36m0\u001b[0m\u001b[0;34m]\u001b[0m\u001b[0;34m,\u001b[0m\u001b[0mx\u001b[0m\u001b[0;34m[\u001b[0m\u001b[0;34m:\u001b[0m\u001b[0;34m,\u001b[0m\u001b[0;36m1\u001b[0m\u001b[0;34m]\u001b[0m\u001b[0;34m,\u001b[0m\u001b[0mx\u001b[0m\u001b[0;34m[\u001b[0m\u001b[0;34m:\u001b[0m\u001b[0;34m,\u001b[0m\u001b[0;36m2\u001b[0m\u001b[0;34m]\u001b[0m\u001b[0;34m,\u001b[0m\u001b[0mx\u001b[0m\u001b[0;34m[\u001b[0m\u001b[0;34m:\u001b[0m\u001b[0;34m,\u001b[0m\u001b[0;36m3\u001b[0m\u001b[0;34m]\u001b[0m\u001b[0;34m,\u001b[0m\u001b[0mx\u001b[0m\u001b[0;34m[\u001b[0m\u001b[0;34m:\u001b[0m\u001b[0;34m,\u001b[0m\u001b[0;36m4\u001b[0m\u001b[0;34m:\u001b[0m\u001b[0;34m]\u001b[0m\u001b[0;34m)\u001b[0m\u001b[0;34m\u001b[0m\u001b[0;34m\u001b[0m\u001b[0m\n\u001b[0m\u001b[1;32m     99\u001b[0m         \u001b[0mloss\u001b[0m \u001b[0;34m=\u001b[0m \u001b[0mF\u001b[0m\u001b[0;34m.\u001b[0m\u001b[0mbinary_cross_entropy\u001b[0m\u001b[0;34m(\u001b[0m\u001b[0mtorch\u001b[0m\u001b[0;34m.\u001b[0m\u001b[0msigmoid\u001b[0m\u001b[0;34m(\u001b[0m\u001b[0my_pred\u001b[0m\u001b[0;34m)\u001b[0m\u001b[0;34m,\u001b[0m \u001b[0my\u001b[0m\u001b[0;34m)\u001b[0m\u001b[0;34m\u001b[0m\u001b[0;34m\u001b[0m\u001b[0m\n\u001b[1;32m    100\u001b[0m         \u001b[0;32mreturn\u001b[0m \u001b[0mloss\u001b[0m\u001b[0;34m\u001b[0m\u001b[0;34m\u001b[0m\u001b[0m\n",
            "\u001b[0;32m/usr/local/lib/python3.10/dist-packages/torch/nn/modules/module.py\u001b[0m in \u001b[0;36m_wrapped_call_impl\u001b[0;34m(self, *args, **kwargs)\u001b[0m\n\u001b[1;32m   1530\u001b[0m             \u001b[0;32mreturn\u001b[0m \u001b[0mself\u001b[0m\u001b[0;34m.\u001b[0m\u001b[0m_compiled_call_impl\u001b[0m\u001b[0;34m(\u001b[0m\u001b[0;34m*\u001b[0m\u001b[0margs\u001b[0m\u001b[0;34m,\u001b[0m \u001b[0;34m**\u001b[0m\u001b[0mkwargs\u001b[0m\u001b[0;34m)\u001b[0m  \u001b[0;31m# type: ignore[misc]\u001b[0m\u001b[0;34m\u001b[0m\u001b[0;34m\u001b[0m\u001b[0m\n\u001b[1;32m   1531\u001b[0m         \u001b[0;32melse\u001b[0m\u001b[0;34m:\u001b[0m\u001b[0;34m\u001b[0m\u001b[0;34m\u001b[0m\u001b[0m\n\u001b[0;32m-> 1532\u001b[0;31m             \u001b[0;32mreturn\u001b[0m \u001b[0mself\u001b[0m\u001b[0;34m.\u001b[0m\u001b[0m_call_impl\u001b[0m\u001b[0;34m(\u001b[0m\u001b[0;34m*\u001b[0m\u001b[0margs\u001b[0m\u001b[0;34m,\u001b[0m \u001b[0;34m**\u001b[0m\u001b[0mkwargs\u001b[0m\u001b[0;34m)\u001b[0m\u001b[0;34m\u001b[0m\u001b[0;34m\u001b[0m\u001b[0m\n\u001b[0m\u001b[1;32m   1533\u001b[0m \u001b[0;34m\u001b[0m\u001b[0m\n\u001b[1;32m   1534\u001b[0m     \u001b[0;32mdef\u001b[0m \u001b[0m_call_impl\u001b[0m\u001b[0;34m(\u001b[0m\u001b[0mself\u001b[0m\u001b[0;34m,\u001b[0m \u001b[0;34m*\u001b[0m\u001b[0margs\u001b[0m\u001b[0;34m,\u001b[0m \u001b[0;34m**\u001b[0m\u001b[0mkwargs\u001b[0m\u001b[0;34m)\u001b[0m\u001b[0;34m:\u001b[0m\u001b[0;34m\u001b[0m\u001b[0;34m\u001b[0m\u001b[0m\n",
            "\u001b[0;32m/usr/local/lib/python3.10/dist-packages/torch/nn/modules/module.py\u001b[0m in \u001b[0;36m_call_impl\u001b[0;34m(self, *args, **kwargs)\u001b[0m\n\u001b[1;32m   1539\u001b[0m                 \u001b[0;32mor\u001b[0m \u001b[0m_global_backward_pre_hooks\u001b[0m \u001b[0;32mor\u001b[0m \u001b[0m_global_backward_hooks\u001b[0m\u001b[0;34m\u001b[0m\u001b[0;34m\u001b[0m\u001b[0m\n\u001b[1;32m   1540\u001b[0m                 or _global_forward_hooks or _global_forward_pre_hooks):\n\u001b[0;32m-> 1541\u001b[0;31m             \u001b[0;32mreturn\u001b[0m \u001b[0mforward_call\u001b[0m\u001b[0;34m(\u001b[0m\u001b[0;34m*\u001b[0m\u001b[0margs\u001b[0m\u001b[0;34m,\u001b[0m \u001b[0;34m**\u001b[0m\u001b[0mkwargs\u001b[0m\u001b[0;34m)\u001b[0m\u001b[0;34m\u001b[0m\u001b[0;34m\u001b[0m\u001b[0m\n\u001b[0m\u001b[1;32m   1542\u001b[0m \u001b[0;34m\u001b[0m\u001b[0m\n\u001b[1;32m   1543\u001b[0m         \u001b[0;32mtry\u001b[0m\u001b[0;34m:\u001b[0m\u001b[0;34m\u001b[0m\u001b[0;34m\u001b[0m\u001b[0m\n",
            "\u001b[0;32m<ipython-input-31-5a5be2033717>\u001b[0m in \u001b[0;36mforward\u001b[0;34m(self, user, lastloc, lasthour, lastday, sequence)\u001b[0m\n\u001b[1;32m     63\u001b[0m \u001b[0;34m\u001b[0m\u001b[0m\n\u001b[1;32m     64\u001b[0m         \u001b[0mlocation_embed1\u001b[0m \u001b[0;34m=\u001b[0m \u001b[0mself\u001b[0m\u001b[0;34m.\u001b[0m\u001b[0mgcn1\u001b[0m\u001b[0;34m(\u001b[0m\u001b[0mx\u001b[0m\u001b[0;34m=\u001b[0m\u001b[0mspatG\u001b[0m\u001b[0;34m.\u001b[0m\u001b[0mx\u001b[0m\u001b[0;34m,\u001b[0m \u001b[0medge_index\u001b[0m\u001b[0;34m=\u001b[0m\u001b[0mspatG\u001b[0m\u001b[0;34m.\u001b[0m\u001b[0medge_index\u001b[0m\u001b[0;34m)\u001b[0m\u001b[0;34m\u001b[0m\u001b[0;34m\u001b[0m\u001b[0m\n\u001b[0;32m---> 65\u001b[0;31m         \u001b[0mlocation_embed2\u001b[0m \u001b[0;34m=\u001b[0m \u001b[0mself\u001b[0m\u001b[0;34m.\u001b[0m\u001b[0mgcn2\u001b[0m\u001b[0;34m(\u001b[0m\u001b[0mlocation_embed1\u001b[0m\u001b[0;34m,\u001b[0m \u001b[0medge_index\u001b[0m\u001b[0;34m)\u001b[0m\u001b[0;34m\u001b[0m\u001b[0;34m\u001b[0m\u001b[0m\n\u001b[0m\u001b[1;32m     66\u001b[0m         \u001b[0mlocation_embed3\u001b[0m \u001b[0;34m=\u001b[0m \u001b[0mself\u001b[0m\u001b[0;34m.\u001b[0m\u001b[0mgcn3\u001b[0m\u001b[0;34m(\u001b[0m\u001b[0mlocation_embed2\u001b[0m\u001b[0;34m,\u001b[0m \u001b[0medge_index\u001b[0m\u001b[0;34m)\u001b[0m\u001b[0;34m\u001b[0m\u001b[0;34m\u001b[0m\u001b[0m\n\u001b[1;32m     67\u001b[0m \u001b[0;34m\u001b[0m\u001b[0m\n",
            "\u001b[0;32m/usr/local/lib/python3.10/dist-packages/torch/nn/modules/module.py\u001b[0m in \u001b[0;36m_wrapped_call_impl\u001b[0;34m(self, *args, **kwargs)\u001b[0m\n\u001b[1;32m   1530\u001b[0m             \u001b[0;32mreturn\u001b[0m \u001b[0mself\u001b[0m\u001b[0;34m.\u001b[0m\u001b[0m_compiled_call_impl\u001b[0m\u001b[0;34m(\u001b[0m\u001b[0;34m*\u001b[0m\u001b[0margs\u001b[0m\u001b[0;34m,\u001b[0m \u001b[0;34m**\u001b[0m\u001b[0mkwargs\u001b[0m\u001b[0;34m)\u001b[0m  \u001b[0;31m# type: ignore[misc]\u001b[0m\u001b[0;34m\u001b[0m\u001b[0;34m\u001b[0m\u001b[0m\n\u001b[1;32m   1531\u001b[0m         \u001b[0;32melse\u001b[0m\u001b[0;34m:\u001b[0m\u001b[0;34m\u001b[0m\u001b[0;34m\u001b[0m\u001b[0m\n\u001b[0;32m-> 1532\u001b[0;31m             \u001b[0;32mreturn\u001b[0m \u001b[0mself\u001b[0m\u001b[0;34m.\u001b[0m\u001b[0m_call_impl\u001b[0m\u001b[0;34m(\u001b[0m\u001b[0;34m*\u001b[0m\u001b[0margs\u001b[0m\u001b[0;34m,\u001b[0m \u001b[0;34m**\u001b[0m\u001b[0mkwargs\u001b[0m\u001b[0;34m)\u001b[0m\u001b[0;34m\u001b[0m\u001b[0;34m\u001b[0m\u001b[0m\n\u001b[0m\u001b[1;32m   1533\u001b[0m \u001b[0;34m\u001b[0m\u001b[0m\n\u001b[1;32m   1534\u001b[0m     \u001b[0;32mdef\u001b[0m \u001b[0m_call_impl\u001b[0m\u001b[0;34m(\u001b[0m\u001b[0mself\u001b[0m\u001b[0;34m,\u001b[0m \u001b[0;34m*\u001b[0m\u001b[0margs\u001b[0m\u001b[0;34m,\u001b[0m \u001b[0;34m**\u001b[0m\u001b[0mkwargs\u001b[0m\u001b[0;34m)\u001b[0m\u001b[0;34m:\u001b[0m\u001b[0;34m\u001b[0m\u001b[0;34m\u001b[0m\u001b[0m\n",
            "\u001b[0;32m/usr/local/lib/python3.10/dist-packages/torch/nn/modules/module.py\u001b[0m in \u001b[0;36m_call_impl\u001b[0;34m(self, *args, **kwargs)\u001b[0m\n\u001b[1;32m   1539\u001b[0m                 \u001b[0;32mor\u001b[0m \u001b[0m_global_backward_pre_hooks\u001b[0m \u001b[0;32mor\u001b[0m \u001b[0m_global_backward_hooks\u001b[0m\u001b[0;34m\u001b[0m\u001b[0;34m\u001b[0m\u001b[0m\n\u001b[1;32m   1540\u001b[0m                 or _global_forward_hooks or _global_forward_pre_hooks):\n\u001b[0;32m-> 1541\u001b[0;31m             \u001b[0;32mreturn\u001b[0m \u001b[0mforward_call\u001b[0m\u001b[0;34m(\u001b[0m\u001b[0;34m*\u001b[0m\u001b[0margs\u001b[0m\u001b[0;34m,\u001b[0m \u001b[0;34m**\u001b[0m\u001b[0mkwargs\u001b[0m\u001b[0;34m)\u001b[0m\u001b[0;34m\u001b[0m\u001b[0;34m\u001b[0m\u001b[0m\n\u001b[0m\u001b[1;32m   1542\u001b[0m \u001b[0;34m\u001b[0m\u001b[0m\n\u001b[1;32m   1543\u001b[0m         \u001b[0;32mtry\u001b[0m\u001b[0;34m:\u001b[0m\u001b[0;34m\u001b[0m\u001b[0;34m\u001b[0m\u001b[0m\n",
            "\u001b[0;32m<ipython-input-31-5a5be2033717>\u001b[0m in \u001b[0;36mforward\u001b[0;34m(self, x, edge_index)\u001b[0m\n\u001b[1;32m     13\u001b[0m \u001b[0;34m\u001b[0m\u001b[0m\n\u001b[1;32m     14\u001b[0m     \u001b[0;32mdef\u001b[0m \u001b[0mforward\u001b[0m\u001b[0;34m(\u001b[0m\u001b[0mself\u001b[0m\u001b[0;34m,\u001b[0m \u001b[0mx\u001b[0m\u001b[0;34m,\u001b[0m \u001b[0medge_index\u001b[0m\u001b[0;34m)\u001b[0m\u001b[0;34m:\u001b[0m\u001b[0;34m\u001b[0m\u001b[0;34m\u001b[0m\u001b[0m\n\u001b[0;32m---> 15\u001b[0;31m         \u001b[0mx\u001b[0m \u001b[0;34m=\u001b[0m \u001b[0mF\u001b[0m\u001b[0;34m.\u001b[0m\u001b[0mrelu\u001b[0m\u001b[0;34m(\u001b[0m\u001b[0mself\u001b[0m\u001b[0;34m.\u001b[0m\u001b[0mconv1\u001b[0m\u001b[0;34m(\u001b[0m\u001b[0mx\u001b[0m\u001b[0;34m,\u001b[0m \u001b[0medge_index\u001b[0m\u001b[0;34m)\u001b[0m\u001b[0;34m)\u001b[0m\u001b[0;34m\u001b[0m\u001b[0;34m\u001b[0m\u001b[0m\n\u001b[0m\u001b[1;32m     16\u001b[0m         \u001b[0mx\u001b[0m \u001b[0;34m=\u001b[0m \u001b[0mself\u001b[0m\u001b[0;34m.\u001b[0m\u001b[0mconv2\u001b[0m\u001b[0;34m(\u001b[0m\u001b[0mx\u001b[0m\u001b[0;34m,\u001b[0m \u001b[0medge_index\u001b[0m\u001b[0;34m)\u001b[0m\u001b[0;34m\u001b[0m\u001b[0;34m\u001b[0m\u001b[0m\n\u001b[1;32m     17\u001b[0m         \u001b[0;32mreturn\u001b[0m \u001b[0mx\u001b[0m\u001b[0;34m\u001b[0m\u001b[0;34m\u001b[0m\u001b[0m\n",
            "\u001b[0;32m/usr/local/lib/python3.10/dist-packages/torch/nn/modules/module.py\u001b[0m in \u001b[0;36m_wrapped_call_impl\u001b[0;34m(self, *args, **kwargs)\u001b[0m\n\u001b[1;32m   1530\u001b[0m             \u001b[0;32mreturn\u001b[0m \u001b[0mself\u001b[0m\u001b[0;34m.\u001b[0m\u001b[0m_compiled_call_impl\u001b[0m\u001b[0;34m(\u001b[0m\u001b[0;34m*\u001b[0m\u001b[0margs\u001b[0m\u001b[0;34m,\u001b[0m \u001b[0;34m**\u001b[0m\u001b[0mkwargs\u001b[0m\u001b[0;34m)\u001b[0m  \u001b[0;31m# type: ignore[misc]\u001b[0m\u001b[0;34m\u001b[0m\u001b[0;34m\u001b[0m\u001b[0m\n\u001b[1;32m   1531\u001b[0m         \u001b[0;32melse\u001b[0m\u001b[0;34m:\u001b[0m\u001b[0;34m\u001b[0m\u001b[0;34m\u001b[0m\u001b[0m\n\u001b[0;32m-> 1532\u001b[0;31m             \u001b[0;32mreturn\u001b[0m \u001b[0mself\u001b[0m\u001b[0;34m.\u001b[0m\u001b[0m_call_impl\u001b[0m\u001b[0;34m(\u001b[0m\u001b[0;34m*\u001b[0m\u001b[0margs\u001b[0m\u001b[0;34m,\u001b[0m \u001b[0;34m**\u001b[0m\u001b[0mkwargs\u001b[0m\u001b[0;34m)\u001b[0m\u001b[0;34m\u001b[0m\u001b[0;34m\u001b[0m\u001b[0m\n\u001b[0m\u001b[1;32m   1533\u001b[0m \u001b[0;34m\u001b[0m\u001b[0m\n\u001b[1;32m   1534\u001b[0m     \u001b[0;32mdef\u001b[0m \u001b[0m_call_impl\u001b[0m\u001b[0;34m(\u001b[0m\u001b[0mself\u001b[0m\u001b[0;34m,\u001b[0m \u001b[0;34m*\u001b[0m\u001b[0margs\u001b[0m\u001b[0;34m,\u001b[0m \u001b[0;34m**\u001b[0m\u001b[0mkwargs\u001b[0m\u001b[0;34m)\u001b[0m\u001b[0;34m:\u001b[0m\u001b[0;34m\u001b[0m\u001b[0;34m\u001b[0m\u001b[0m\n",
            "\u001b[0;32m/usr/local/lib/python3.10/dist-packages/torch/nn/modules/module.py\u001b[0m in \u001b[0;36m_call_impl\u001b[0;34m(self, *args, **kwargs)\u001b[0m\n\u001b[1;32m   1539\u001b[0m                 \u001b[0;32mor\u001b[0m \u001b[0m_global_backward_pre_hooks\u001b[0m \u001b[0;32mor\u001b[0m \u001b[0m_global_backward_hooks\u001b[0m\u001b[0;34m\u001b[0m\u001b[0;34m\u001b[0m\u001b[0m\n\u001b[1;32m   1540\u001b[0m                 or _global_forward_hooks or _global_forward_pre_hooks):\n\u001b[0;32m-> 1541\u001b[0;31m             \u001b[0;32mreturn\u001b[0m \u001b[0mforward_call\u001b[0m\u001b[0;34m(\u001b[0m\u001b[0;34m*\u001b[0m\u001b[0margs\u001b[0m\u001b[0;34m,\u001b[0m \u001b[0;34m**\u001b[0m\u001b[0mkwargs\u001b[0m\u001b[0;34m)\u001b[0m\u001b[0;34m\u001b[0m\u001b[0;34m\u001b[0m\u001b[0m\n\u001b[0m\u001b[1;32m   1542\u001b[0m \u001b[0;34m\u001b[0m\u001b[0m\n\u001b[1;32m   1543\u001b[0m         \u001b[0;32mtry\u001b[0m\u001b[0;34m:\u001b[0m\u001b[0;34m\u001b[0m\u001b[0;34m\u001b[0m\u001b[0m\n",
            "\u001b[0;32m/usr/local/lib/python3.10/dist-packages/torch_geometric/nn/conv/gcn_conv.py\u001b[0m in \u001b[0;36mforward\u001b[0;34m(self, x, edge_index, edge_weight)\u001b[0m\n\u001b[1;32m    261\u001b[0m \u001b[0;34m\u001b[0m\u001b[0m\n\u001b[1;32m    262\u001b[0m         \u001b[0;31m# propagate_type: (x: Tensor, edge_weight: OptTensor)\u001b[0m\u001b[0;34m\u001b[0m\u001b[0;34m\u001b[0m\u001b[0m\n\u001b[0;32m--> 263\u001b[0;31m         \u001b[0mout\u001b[0m \u001b[0;34m=\u001b[0m \u001b[0mself\u001b[0m\u001b[0;34m.\u001b[0m\u001b[0mpropagate\u001b[0m\u001b[0;34m(\u001b[0m\u001b[0medge_index\u001b[0m\u001b[0;34m,\u001b[0m \u001b[0mx\u001b[0m\u001b[0;34m=\u001b[0m\u001b[0mx\u001b[0m\u001b[0;34m,\u001b[0m \u001b[0medge_weight\u001b[0m\u001b[0;34m=\u001b[0m\u001b[0medge_weight\u001b[0m\u001b[0;34m)\u001b[0m\u001b[0;34m\u001b[0m\u001b[0;34m\u001b[0m\u001b[0m\n\u001b[0m\u001b[1;32m    264\u001b[0m \u001b[0;34m\u001b[0m\u001b[0m\n\u001b[1;32m    265\u001b[0m         \u001b[0;32mif\u001b[0m \u001b[0mself\u001b[0m\u001b[0;34m.\u001b[0m\u001b[0mbias\u001b[0m \u001b[0;32mis\u001b[0m \u001b[0;32mnot\u001b[0m \u001b[0;32mNone\u001b[0m\u001b[0;34m:\u001b[0m\u001b[0;34m\u001b[0m\u001b[0;34m\u001b[0m\u001b[0m\n",
            "\u001b[0;32m/tmp/torch_geometric.nn.conv.gcn_conv_GCNConv_propagate_wdqdjgp8.py\u001b[0m in \u001b[0;36mpropagate\u001b[0;34m(self, edge_index, x, edge_weight, size)\u001b[0m\n\u001b[1;32m    129\u001b[0m     \u001b[0;31m# End Propagate Forward Pre Hook ###########################################\u001b[0m\u001b[0;34m\u001b[0m\u001b[0;34m\u001b[0m\u001b[0m\n\u001b[1;32m    130\u001b[0m \u001b[0;34m\u001b[0m\u001b[0m\n\u001b[0;32m--> 131\u001b[0;31m     \u001b[0mmutable_size\u001b[0m \u001b[0;34m=\u001b[0m \u001b[0mself\u001b[0m\u001b[0;34m.\u001b[0m\u001b[0m_check_input\u001b[0m\u001b[0;34m(\u001b[0m\u001b[0medge_index\u001b[0m\u001b[0;34m,\u001b[0m \u001b[0msize\u001b[0m\u001b[0;34m)\u001b[0m\u001b[0;34m\u001b[0m\u001b[0;34m\u001b[0m\u001b[0m\n\u001b[0m\u001b[1;32m    132\u001b[0m     \u001b[0mfuse\u001b[0m \u001b[0;34m=\u001b[0m \u001b[0mis_sparse\u001b[0m\u001b[0;34m(\u001b[0m\u001b[0medge_index\u001b[0m\u001b[0;34m)\u001b[0m \u001b[0;32mand\u001b[0m \u001b[0mself\u001b[0m\u001b[0;34m.\u001b[0m\u001b[0mfuse\u001b[0m\u001b[0;34m\u001b[0m\u001b[0;34m\u001b[0m\u001b[0m\n\u001b[1;32m    133\u001b[0m \u001b[0;34m\u001b[0m\u001b[0m\n",
            "\u001b[0;32m/usr/local/lib/python3.10/dist-packages/torch_geometric/nn/conv/message_passing.py\u001b[0m in \u001b[0;36m_check_input\u001b[0;34m(self, edge_index, size)\u001b[0m\n\u001b[1;32m    288\u001b[0m             \u001b[0;32mreturn\u001b[0m \u001b[0mlist\u001b[0m\u001b[0;34m(\u001b[0m\u001b[0msize\u001b[0m\u001b[0;34m)\u001b[0m \u001b[0;32mif\u001b[0m \u001b[0msize\u001b[0m \u001b[0;32mis\u001b[0m \u001b[0;32mnot\u001b[0m \u001b[0;32mNone\u001b[0m \u001b[0;32melse\u001b[0m \u001b[0;34m[\u001b[0m\u001b[0;32mNone\u001b[0m\u001b[0;34m,\u001b[0m \u001b[0;32mNone\u001b[0m\u001b[0;34m]\u001b[0m\u001b[0;34m\u001b[0m\u001b[0;34m\u001b[0m\u001b[0m\n\u001b[1;32m    289\u001b[0m \u001b[0;34m\u001b[0m\u001b[0m\n\u001b[0;32m--> 290\u001b[0;31m         raise ValueError(\n\u001b[0m\u001b[1;32m    291\u001b[0m             ('`MessagePassing.propagate` only supports integer tensors of '\n\u001b[1;32m    292\u001b[0m              \u001b[0;34m'shape `[2, num_messages]`, `torch_sparse.SparseTensor` or '\u001b[0m\u001b[0;34m\u001b[0m\u001b[0;34m\u001b[0m\u001b[0m\n",
            "\u001b[0;31mValueError\u001b[0m: `MessagePassing.propagate` only supports integer tensors of shape `[2, num_messages]`, `torch_sparse.SparseTensor` or `torch.sparse.Tensor` for argument `edge_index`."
          ]
        }
      ],
      "source": [
        "#import torch\n",
        "import torch.nn as nn\n",
        "import torch.nn.functional as F\n",
        "import torch_geometric\n",
        "from torch_geometric.nn import GCNConv\n",
        "from torch_geometric.data import Data\n",
        "\n",
        "class GCN(nn.Module):\n",
        "    def __init__(self, in_channels, out_channels):\n",
        "        super(GCN, self).__init__()\n",
        "        self.conv1 = GCNConv(in_channels, 64)\n",
        "        self.conv2 = GCNConv(64, out_channels)\n",
        "\n",
        "    def forward(self, x, edge_index):\n",
        "        x = F.relu(self.conv1(x, edge_index))\n",
        "        x = self.conv2(x, edge_index)\n",
        "        return x\n",
        "\n",
        "class Model(nn.Module):\n",
        "    def __init__(self, input_dim, location_dim, sequence_dim):\n",
        "        super(Model, self).__init__()\n",
        "\n",
        "        # User Embedding Layer\n",
        "        self.user_embedding = nn.Embedding(num_embeddings=input_dim, embedding_dim=64)\n",
        "\n",
        "        # Location Embedding Layers\n",
        "        self.gcn1 = GCN(spatG.num_features, 64)\n",
        "        self.gcn2 = GCN(64, 64)\n",
        "        self.gcn3 = GCN(64, 64)\n",
        "\n",
        "        # Sequence Embedding Layer\n",
        "        self.self_attn = nn.MultiheadAttention(embed_dim=location_dim, num_heads=8)\n",
        "\n",
        "        # Multihead Attention Layer\n",
        "        self.multihead_attn = nn.MultiheadAttention(embed_dim=256, num_heads=8)\n",
        "\n",
        "        # Classifier Layers\n",
        "        self.linear1 = nn.Linear(256, 128)\n",
        "        self.linear2 = nn.Linear(128, 64)\n",
        "        self.linear3 = nn.Linear(64, 1)\n",
        "\n",
        "    def forward(self, user, lastloc, lasthour, lastday, sequence):\n",
        "        #print(lastday)\n",
        "        user_embed = self.user_embedding(user)\n",
        "\n",
        "        #nodes = spatG.x[lastloc]\n",
        "\n",
        "        #print(nodes)\n",
        "\n",
        "        k = 1\n",
        "        # Location Embeddings\n",
        "        #nodes,edge_index1,mapping,_ =torch_geometric.utils.k_hop_subgraph(lastloc,k,spatG.edge_index)\n",
        "        #print(len(nodes))\n",
        "\n",
        "        #nodes = spatG.x[nodes]\n",
        "\n",
        "        #print(nodes)\n",
        "\n",
        "        print(isinstance(spatG.edge_index, torch.Tensor))\n",
        "        print(spatG.edge_index)\n",
        "\n",
        "\n",
        "\n",
        "        location_embed1 = self.gcn1(x=spatG.x, edge_index=spatG.edge_index)\n",
        "        location_embed2 = self.gcn2(location_embed1, edge_index)\n",
        "        location_embed3 = self.gcn3(location_embed2, edge_index)\n",
        "\n",
        "        # Sequence Embedding\n",
        "        sequence_embed, _ = self.self_attn(sequence, sequence, sequence)\n",
        "\n",
        "        # Concatenate all embeddings\n",
        "        concat_embed = torch.cat((user_embed, location_embed3, sequence_embed), dim=1)\n",
        "\n",
        "        # Multihead Attention\n",
        "        attn_output, _ = self.multihead_attn(concat_embed, concat_embed, concat_embed)\n",
        "\n",
        "        # Classifier\n",
        "        out = F.relu(self.linear1(attn_output))\n",
        "        out = F.relu(self.linear2(out))\n",
        "        out = self.linear3(out)\n",
        "\n",
        "        return out\n",
        "\n",
        "# Define Lightning model using PyTorch Lightning\n",
        "import pytorch_lightning as pl\n",
        "\n",
        "class LightningModel(pl.LightningModule):\n",
        "    def __init__(self, input_dim, location_dim, sequence_dim):\n",
        "        super(LightningModel, self).__init__()\n",
        "        self.model = Model(input_dim, location_dim, sequence_dim)\n",
        "\n",
        "    def forward(self, user, timestamp, location, sequence):\n",
        "        return self.model(user, timestamp, location, sequence)\n",
        "\n",
        "    def training_step(self, batch, batch_idx):\n",
        "        x, y = batch\n",
        "        #print(x)\n",
        "        y_pred = self.model(x[:,0],x[:,1],x[:,2],x[:,3],x[:,4:])\n",
        "        loss = F.binary_cross_entropy(torch.sigmoid(y_pred), y)\n",
        "        return loss\n",
        "\n",
        "    def configure_optimizers(self):\n",
        "        optimizer = torch.optim.Adam(self.parameters(), lr=0.001)\n",
        "        return optimizer\n",
        "\n",
        "# Example of training the model\n",
        "input_dim = 10000\n",
        "location_dim = 64\n",
        "sequence_dim = 64\n",
        "model = LightningModel(input_dim, location_dim, sequence_dim)\n",
        "\n",
        "trainer = pl.Trainer(max_epochs=10)\n",
        "trainer.fit(model, trainloader)"
      ]
    }
  ],
  "metadata": {
    "colab": {
      "provenance": []
    },
    "kernelspec": {
      "display_name": "Python 3 (ipykernel)",
      "language": "python",
      "name": "python3"
    },
    "language_info": {
      "codemirror_mode": {
        "name": "ipython",
        "version": 3
      },
      "file_extension": ".py",
      "mimetype": "text/x-python",
      "name": "python",
      "nbconvert_exporter": "python",
      "pygments_lexer": "ipython3",
      "version": "3.10.12"
    },
    "widgets": {
      "application/vnd.jupyter.widget-state+json": {
        "6c18f45c37a444c0ba366b7bc580e2fa": {
          "model_module": "@jupyter-widgets/controls",
          "model_name": "HBoxModel",
          "model_module_version": "1.5.0",
          "state": {
            "_dom_classes": [],
            "_model_module": "@jupyter-widgets/controls",
            "_model_module_version": "1.5.0",
            "_model_name": "HBoxModel",
            "_view_count": null,
            "_view_module": "@jupyter-widgets/controls",
            "_view_module_version": "1.5.0",
            "_view_name": "HBoxView",
            "box_style": "",
            "children": [
              "IPY_MODEL_cef1f5860695455f9f2a9d1a35c7d92c",
              "IPY_MODEL_f18b4e01cc2b4cb8bdccde50f3a6d37a",
              "IPY_MODEL_0121414252d44c609bae5872b60c0fca"
            ],
            "layout": "IPY_MODEL_6908175fd99b437da8da80fa6ebda8af"
          }
        },
        "cef1f5860695455f9f2a9d1a35c7d92c": {
          "model_module": "@jupyter-widgets/controls",
          "model_name": "HTMLModel",
          "model_module_version": "1.5.0",
          "state": {
            "_dom_classes": [],
            "_model_module": "@jupyter-widgets/controls",
            "_model_module_version": "1.5.0",
            "_model_name": "HTMLModel",
            "_view_count": null,
            "_view_module": "@jupyter-widgets/controls",
            "_view_module_version": "1.5.0",
            "_view_name": "HTMLView",
            "description": "",
            "description_tooltip": null,
            "layout": "IPY_MODEL_47070d4981434aeb894b4f061668a4bb",
            "placeholder": "​",
            "style": "IPY_MODEL_21ccf2bc11a34c66956110f0a186073d",
            "value": "Epoch 0:   0%"
          }
        },
        "f18b4e01cc2b4cb8bdccde50f3a6d37a": {
          "model_module": "@jupyter-widgets/controls",
          "model_name": "FloatProgressModel",
          "model_module_version": "1.5.0",
          "state": {
            "_dom_classes": [],
            "_model_module": "@jupyter-widgets/controls",
            "_model_module_version": "1.5.0",
            "_model_name": "FloatProgressModel",
            "_view_count": null,
            "_view_module": "@jupyter-widgets/controls",
            "_view_module_version": "1.5.0",
            "_view_name": "ProgressView",
            "bar_style": "",
            "description": "",
            "description_tooltip": null,
            "layout": "IPY_MODEL_2c6001c3b5024d36913369fe39aec53b",
            "max": 5,
            "min": 0,
            "orientation": "horizontal",
            "style": "IPY_MODEL_0443f123e845463b8f50605f0775d727",
            "value": 0
          }
        },
        "0121414252d44c609bae5872b60c0fca": {
          "model_module": "@jupyter-widgets/controls",
          "model_name": "HTMLModel",
          "model_module_version": "1.5.0",
          "state": {
            "_dom_classes": [],
            "_model_module": "@jupyter-widgets/controls",
            "_model_module_version": "1.5.0",
            "_model_name": "HTMLModel",
            "_view_count": null,
            "_view_module": "@jupyter-widgets/controls",
            "_view_module_version": "1.5.0",
            "_view_name": "HTMLView",
            "description": "",
            "description_tooltip": null,
            "layout": "IPY_MODEL_c95296f5b76648a691d02863d4a92938",
            "placeholder": "​",
            "style": "IPY_MODEL_7b328d1d9fea4304bc32ae437b7d4579",
            "value": " 0/5 [00:00&lt;?, ?it/s]"
          }
        },
        "6908175fd99b437da8da80fa6ebda8af": {
          "model_module": "@jupyter-widgets/base",
          "model_name": "LayoutModel",
          "model_module_version": "1.2.0",
          "state": {
            "_model_module": "@jupyter-widgets/base",
            "_model_module_version": "1.2.0",
            "_model_name": "LayoutModel",
            "_view_count": null,
            "_view_module": "@jupyter-widgets/base",
            "_view_module_version": "1.2.0",
            "_view_name": "LayoutView",
            "align_content": null,
            "align_items": null,
            "align_self": null,
            "border": null,
            "bottom": null,
            "display": "inline-flex",
            "flex": null,
            "flex_flow": "row wrap",
            "grid_area": null,
            "grid_auto_columns": null,
            "grid_auto_flow": null,
            "grid_auto_rows": null,
            "grid_column": null,
            "grid_gap": null,
            "grid_row": null,
            "grid_template_areas": null,
            "grid_template_columns": null,
            "grid_template_rows": null,
            "height": null,
            "justify_content": null,
            "justify_items": null,
            "left": null,
            "margin": null,
            "max_height": null,
            "max_width": null,
            "min_height": null,
            "min_width": null,
            "object_fit": null,
            "object_position": null,
            "order": null,
            "overflow": null,
            "overflow_x": null,
            "overflow_y": null,
            "padding": null,
            "right": null,
            "top": null,
            "visibility": null,
            "width": "100%"
          }
        },
        "47070d4981434aeb894b4f061668a4bb": {
          "model_module": "@jupyter-widgets/base",
          "model_name": "LayoutModel",
          "model_module_version": "1.2.0",
          "state": {
            "_model_module": "@jupyter-widgets/base",
            "_model_module_version": "1.2.0",
            "_model_name": "LayoutModel",
            "_view_count": null,
            "_view_module": "@jupyter-widgets/base",
            "_view_module_version": "1.2.0",
            "_view_name": "LayoutView",
            "align_content": null,
            "align_items": null,
            "align_self": null,
            "border": null,
            "bottom": null,
            "display": null,
            "flex": null,
            "flex_flow": null,
            "grid_area": null,
            "grid_auto_columns": null,
            "grid_auto_flow": null,
            "grid_auto_rows": null,
            "grid_column": null,
            "grid_gap": null,
            "grid_row": null,
            "grid_template_areas": null,
            "grid_template_columns": null,
            "grid_template_rows": null,
            "height": null,
            "justify_content": null,
            "justify_items": null,
            "left": null,
            "margin": null,
            "max_height": null,
            "max_width": null,
            "min_height": null,
            "min_width": null,
            "object_fit": null,
            "object_position": null,
            "order": null,
            "overflow": null,
            "overflow_x": null,
            "overflow_y": null,
            "padding": null,
            "right": null,
            "top": null,
            "visibility": null,
            "width": null
          }
        },
        "21ccf2bc11a34c66956110f0a186073d": {
          "model_module": "@jupyter-widgets/controls",
          "model_name": "DescriptionStyleModel",
          "model_module_version": "1.5.0",
          "state": {
            "_model_module": "@jupyter-widgets/controls",
            "_model_module_version": "1.5.0",
            "_model_name": "DescriptionStyleModel",
            "_view_count": null,
            "_view_module": "@jupyter-widgets/base",
            "_view_module_version": "1.2.0",
            "_view_name": "StyleView",
            "description_width": ""
          }
        },
        "2c6001c3b5024d36913369fe39aec53b": {
          "model_module": "@jupyter-widgets/base",
          "model_name": "LayoutModel",
          "model_module_version": "1.2.0",
          "state": {
            "_model_module": "@jupyter-widgets/base",
            "_model_module_version": "1.2.0",
            "_model_name": "LayoutModel",
            "_view_count": null,
            "_view_module": "@jupyter-widgets/base",
            "_view_module_version": "1.2.0",
            "_view_name": "LayoutView",
            "align_content": null,
            "align_items": null,
            "align_self": null,
            "border": null,
            "bottom": null,
            "display": null,
            "flex": "2",
            "flex_flow": null,
            "grid_area": null,
            "grid_auto_columns": null,
            "grid_auto_flow": null,
            "grid_auto_rows": null,
            "grid_column": null,
            "grid_gap": null,
            "grid_row": null,
            "grid_template_areas": null,
            "grid_template_columns": null,
            "grid_template_rows": null,
            "height": null,
            "justify_content": null,
            "justify_items": null,
            "left": null,
            "margin": null,
            "max_height": null,
            "max_width": null,
            "min_height": null,
            "min_width": null,
            "object_fit": null,
            "object_position": null,
            "order": null,
            "overflow": null,
            "overflow_x": null,
            "overflow_y": null,
            "padding": null,
            "right": null,
            "top": null,
            "visibility": null,
            "width": null
          }
        },
        "0443f123e845463b8f50605f0775d727": {
          "model_module": "@jupyter-widgets/controls",
          "model_name": "ProgressStyleModel",
          "model_module_version": "1.5.0",
          "state": {
            "_model_module": "@jupyter-widgets/controls",
            "_model_module_version": "1.5.0",
            "_model_name": "ProgressStyleModel",
            "_view_count": null,
            "_view_module": "@jupyter-widgets/base",
            "_view_module_version": "1.2.0",
            "_view_name": "StyleView",
            "bar_color": null,
            "description_width": ""
          }
        },
        "c95296f5b76648a691d02863d4a92938": {
          "model_module": "@jupyter-widgets/base",
          "model_name": "LayoutModel",
          "model_module_version": "1.2.0",
          "state": {
            "_model_module": "@jupyter-widgets/base",
            "_model_module_version": "1.2.0",
            "_model_name": "LayoutModel",
            "_view_count": null,
            "_view_module": "@jupyter-widgets/base",
            "_view_module_version": "1.2.0",
            "_view_name": "LayoutView",
            "align_content": null,
            "align_items": null,
            "align_self": null,
            "border": null,
            "bottom": null,
            "display": null,
            "flex": null,
            "flex_flow": null,
            "grid_area": null,
            "grid_auto_columns": null,
            "grid_auto_flow": null,
            "grid_auto_rows": null,
            "grid_column": null,
            "grid_gap": null,
            "grid_row": null,
            "grid_template_areas": null,
            "grid_template_columns": null,
            "grid_template_rows": null,
            "height": null,
            "justify_content": null,
            "justify_items": null,
            "left": null,
            "margin": null,
            "max_height": null,
            "max_width": null,
            "min_height": null,
            "min_width": null,
            "object_fit": null,
            "object_position": null,
            "order": null,
            "overflow": null,
            "overflow_x": null,
            "overflow_y": null,
            "padding": null,
            "right": null,
            "top": null,
            "visibility": null,
            "width": null
          }
        },
        "7b328d1d9fea4304bc32ae437b7d4579": {
          "model_module": "@jupyter-widgets/controls",
          "model_name": "DescriptionStyleModel",
          "model_module_version": "1.5.0",
          "state": {
            "_model_module": "@jupyter-widgets/controls",
            "_model_module_version": "1.5.0",
            "_model_name": "DescriptionStyleModel",
            "_view_count": null,
            "_view_module": "@jupyter-widgets/base",
            "_view_module_version": "1.2.0",
            "_view_name": "StyleView",
            "description_width": ""
          }
        }
      }
    }
  },
  "nbformat": 4,
  "nbformat_minor": 5
}